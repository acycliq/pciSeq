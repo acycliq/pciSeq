{
 "cells": [
  {
   "cell_type": "markdown",
   "id": "1af59c5d-6841-4079-92de-6a6eaa676864",
   "metadata": {},
   "source": [
    "## Generating the test files"
   ]
  },
  {
   "cell_type": "code",
   "execution_count": 1,
   "id": "89ae3aaf-1946-4fbe-9e2f-3475f90027b0",
   "metadata": {},
   "outputs": [],
   "source": [
    "import pandas as pd\n",
    "import numpy as np\n",
    "import fastremap\n",
    "from scipy.sparse import coo_matrix, save_npz, load_npz"
   ]
  },
  {
   "cell_type": "markdown",
   "id": "7e1c17df-c256-43a2-9f38-593b56f80eb8",
   "metadata": {},
   "source": [
    "### Load the data after the algorithm has converged"
   ]
  },
  {
   "cell_type": "code",
   "execution_count": 2,
   "id": "2059abc0-7109-4bed-839e-f5f160867554",
   "metadata": {},
   "outputs": [],
   "source": [
    "cellData = pd.read_csv('cellData.tsv', sep='\\t')\n",
    "geneData = pd.read_csv('geneData.tsv', sep='\\t')\n",
    "cellBoundaries = pd.read_csv('cellBoundaries.tsv', sep='\\t')"
   ]
  },
  {
   "cell_type": "markdown",
   "id": "1d0c833c-d97a-45a0-8224-8954ad061e76",
   "metadata": {},
   "source": [
    "### Select cell inside the bounding box (4238, 364) and (5160, 933)"
   ]
  },
  {
   "cell_type": "code",
   "execution_count": 3,
   "id": "246c4b07-00b4-44fd-bed7-0f1b4a406b7f",
   "metadata": {},
   "outputs": [],
   "source": [
    "idx_X = (cellData.X > 4238) & (cellData.X < 5160)\n",
    "idx_Y = (cellData.Y > 364) & (cellData.Y < 933)"
   ]
  },
  {
   "cell_type": "code",
   "execution_count": 4,
   "id": "9d7ac8be-7623-4578-b092-5704cd61b8be",
   "metadata": {},
   "outputs": [],
   "source": [
    "idx_cells = idx_X & idx_Y"
   ]
  },
  {
   "cell_type": "code",
   "execution_count": 5,
   "id": "98d8e92e-163b-4d1a-8acf-eba0a4b8c609",
   "metadata": {},
   "outputs": [
    {
     "data": {
      "text/html": [
       "<div>\n",
       "<style scoped>\n",
       "    .dataframe tbody tr th:only-of-type {\n",
       "        vertical-align: middle;\n",
       "    }\n",
       "\n",
       "    .dataframe tbody tr th {\n",
       "        vertical-align: top;\n",
       "    }\n",
       "\n",
       "    .dataframe thead th {\n",
       "        text-align: right;\n",
       "    }\n",
       "</style>\n",
       "<table border=\"1\" class=\"dataframe\">\n",
       "  <thead>\n",
       "    <tr style=\"text-align: right;\">\n",
       "      <th></th>\n",
       "      <th>Cell_Num</th>\n",
       "      <th>X</th>\n",
       "      <th>Y</th>\n",
       "      <th>Genenames</th>\n",
       "      <th>CellGeneCount</th>\n",
       "      <th>ClassName</th>\n",
       "      <th>Prob</th>\n",
       "    </tr>\n",
       "  </thead>\n",
       "  <tbody>\n",
       "    <tr>\n",
       "      <th>2171</th>\n",
       "      <td>2172</td>\n",
       "      <td>4239.491575</td>\n",
       "      <td>674.214652</td>\n",
       "      <td>['3110035E14Rik', 'Aldoc', 'Arpp21', 'Cck', 'C...</td>\n",
       "      <td>[4.019805376912221, 0.7554797956565317, 1.0581...</td>\n",
       "      <td>['PC.CA1.2', 'PC.CA1.3', 'PC.Other1', 'PC.Othe...</td>\n",
       "      <td>[0.20653652973723954, 0.7761425952346995, 0.00...</td>\n",
       "    </tr>\n",
       "    <tr>\n",
       "      <th>2179</th>\n",
       "      <td>2180</td>\n",
       "      <td>4252.174352</td>\n",
       "      <td>600.033481</td>\n",
       "      <td>['3110035E14Rik', 'Adgrl2', 'Bcl11b', 'Cadps2'...</td>\n",
       "      <td>[2.293317222681646, 0.9480891559980522, 0.9654...</td>\n",
       "      <td>['PC.CA1.1', 'PC.CA1.2', 'PC.CA1.3']</td>\n",
       "      <td>[0.0017751618780825643, 0.06439220376280755, 0...</td>\n",
       "    </tr>\n",
       "    <tr>\n",
       "      <th>2183</th>\n",
       "      <td>2184</td>\n",
       "      <td>4266.819492</td>\n",
       "      <td>540.482203</td>\n",
       "      <td>['3110035E14Rik', 'Adgrl2', 'Arpp21', 'Cadps2'...</td>\n",
       "      <td>[4.000073206227558, 0.097958531838332, 1.01240...</td>\n",
       "      <td>['PC.CA1.1', 'PC.CA1.2', 'PC.CA1.3']</td>\n",
       "      <td>[0.01663743827097375, 0.747343854419005, 0.235...</td>\n",
       "    </tr>\n",
       "    <tr>\n",
       "      <th>2184</th>\n",
       "      <td>2185</td>\n",
       "      <td>4276.054143</td>\n",
       "      <td>463.436423</td>\n",
       "      <td>['Arpp21', 'Cplx2', 'Enc1', 'Neurod6', 'Prkca'...</td>\n",
       "      <td>[0.9089520066067369, 2.1663923738942428, 0.003...</td>\n",
       "      <td>['Astro.1', 'Astro.2', 'Astro.3', 'Astro.4', '...</td>\n",
       "      <td>[0.018709089035663554, 0.004005459948713244, 0...</td>\n",
       "    </tr>\n",
       "    <tr>\n",
       "      <th>2186</th>\n",
       "      <td>2187</td>\n",
       "      <td>4280.926591</td>\n",
       "      <td>632.393148</td>\n",
       "      <td>['3110035E14Rik', 'Adgrl2', 'Aldoc', 'Arpp21',...</td>\n",
       "      <td>[0.011796176587809393, 0.04682568952824123, 0....</td>\n",
       "      <td>['PC.CA1.1', 'PC.CA1.2', 'PC.CA1.3', 'PC.Other1']</td>\n",
       "      <td>[0.2783508985912167, 0.6623040455101729, 0.032...</td>\n",
       "    </tr>\n",
       "    <tr>\n",
       "      <th>...</th>\n",
       "      <td>...</td>\n",
       "      <td>...</td>\n",
       "      <td>...</td>\n",
       "      <td>...</td>\n",
       "      <td>...</td>\n",
       "      <td>...</td>\n",
       "      <td>...</td>\n",
       "    </tr>\n",
       "    <tr>\n",
       "      <th>2494</th>\n",
       "      <td>2495</td>\n",
       "      <td>5129.608841</td>\n",
       "      <td>653.718098</td>\n",
       "      <td>['3110035E14Rik', 'Adgrl2', 'Arpp21', 'Cadps2'...</td>\n",
       "      <td>[1.1101842871099195, 0.0010356793887828584, 0....</td>\n",
       "      <td>['PC.CA1.1', 'PC.CA1.2', 'PC.CA1.3']</td>\n",
       "      <td>[0.04891412778748087, 0.6073077909756837, 0.34...</td>\n",
       "    </tr>\n",
       "    <tr>\n",
       "      <th>2497</th>\n",
       "      <td>2498</td>\n",
       "      <td>5132.462146</td>\n",
       "      <td>565.264648</td>\n",
       "      <td>['3110035E14Rik', 'Arpp21', 'Cadps2', 'Cck', '...</td>\n",
       "      <td>[2.799377214476771, 0.001188136840469617, 0.09...</td>\n",
       "      <td>['PC.CA1.2', 'PC.CA1.3', 'PC.Other1', 'PC.Othe...</td>\n",
       "      <td>[0.09911427105527923, 0.8762133956724187, 0.00...</td>\n",
       "    </tr>\n",
       "    <tr>\n",
       "      <th>2498</th>\n",
       "      <td>2499</td>\n",
       "      <td>5134.048417</td>\n",
       "      <td>524.040348</td>\n",
       "      <td>['3110035E14Rik', '6330403K07Rik', 'Adgrl2', '...</td>\n",
       "      <td>[2.0132114372772496, 0.9894090522352587, 1.979...</td>\n",
       "      <td>['PC.CA1.2', 'PC.CA1.3', 'PC.Other2']</td>\n",
       "      <td>[0.28519612883965345, 0.6714476801314132, 0.04...</td>\n",
       "    </tr>\n",
       "    <tr>\n",
       "      <th>2502</th>\n",
       "      <td>2503</td>\n",
       "      <td>5150.656743</td>\n",
       "      <td>593.819615</td>\n",
       "      <td>['3110035E14Rik', 'Cadps2', 'Calb2', 'Cck', 'C...</td>\n",
       "      <td>[0.8950727856708891, 0.8739435731017965, 0.008...</td>\n",
       "      <td>['PC.CA1.1', 'PC.CA1.2', 'PC.CA1.3']</td>\n",
       "      <td>[0.1686261832935773, 0.6516667043301301, 0.179...</td>\n",
       "    </tr>\n",
       "    <tr>\n",
       "      <th>2506</th>\n",
       "      <td>2507</td>\n",
       "      <td>5146.114155</td>\n",
       "      <td>616.730594</td>\n",
       "      <td>['3110035E14Rik', 'Aldoc', 'Cadps2', 'Calb2', ...</td>\n",
       "      <td>[2.9483135195157164, 0.3968426824767226, 0.076...</td>\n",
       "      <td>['PC.CA1.1', 'PC.CA1.2', 'PC.CA1.3', 'PC.Other...</td>\n",
       "      <td>[0.00569535747623314, 0.3066164239175769, 0.67...</td>\n",
       "    </tr>\n",
       "  </tbody>\n",
       "</table>\n",
       "<p>147 rows × 7 columns</p>\n",
       "</div>"
      ],
      "text/plain": [
       "      Cell_Num            X           Y  \\\n",
       "2171      2172  4239.491575  674.214652   \n",
       "2179      2180  4252.174352  600.033481   \n",
       "2183      2184  4266.819492  540.482203   \n",
       "2184      2185  4276.054143  463.436423   \n",
       "2186      2187  4280.926591  632.393148   \n",
       "...        ...          ...         ...   \n",
       "2494      2495  5129.608841  653.718098   \n",
       "2497      2498  5132.462146  565.264648   \n",
       "2498      2499  5134.048417  524.040348   \n",
       "2502      2503  5150.656743  593.819615   \n",
       "2506      2507  5146.114155  616.730594   \n",
       "\n",
       "                                              Genenames  \\\n",
       "2171  ['3110035E14Rik', 'Aldoc', 'Arpp21', 'Cck', 'C...   \n",
       "2179  ['3110035E14Rik', 'Adgrl2', 'Bcl11b', 'Cadps2'...   \n",
       "2183  ['3110035E14Rik', 'Adgrl2', 'Arpp21', 'Cadps2'...   \n",
       "2184  ['Arpp21', 'Cplx2', 'Enc1', 'Neurod6', 'Prkca'...   \n",
       "2186  ['3110035E14Rik', 'Adgrl2', 'Aldoc', 'Arpp21',...   \n",
       "...                                                 ...   \n",
       "2494  ['3110035E14Rik', 'Adgrl2', 'Arpp21', 'Cadps2'...   \n",
       "2497  ['3110035E14Rik', 'Arpp21', 'Cadps2', 'Cck', '...   \n",
       "2498  ['3110035E14Rik', '6330403K07Rik', 'Adgrl2', '...   \n",
       "2502  ['3110035E14Rik', 'Cadps2', 'Calb2', 'Cck', 'C...   \n",
       "2506  ['3110035E14Rik', 'Aldoc', 'Cadps2', 'Calb2', ...   \n",
       "\n",
       "                                          CellGeneCount  \\\n",
       "2171  [4.019805376912221, 0.7554797956565317, 1.0581...   \n",
       "2179  [2.293317222681646, 0.9480891559980522, 0.9654...   \n",
       "2183  [4.000073206227558, 0.097958531838332, 1.01240...   \n",
       "2184  [0.9089520066067369, 2.1663923738942428, 0.003...   \n",
       "2186  [0.011796176587809393, 0.04682568952824123, 0....   \n",
       "...                                                 ...   \n",
       "2494  [1.1101842871099195, 0.0010356793887828584, 0....   \n",
       "2497  [2.799377214476771, 0.001188136840469617, 0.09...   \n",
       "2498  [2.0132114372772496, 0.9894090522352587, 1.979...   \n",
       "2502  [0.8950727856708891, 0.8739435731017965, 0.008...   \n",
       "2506  [2.9483135195157164, 0.3968426824767226, 0.076...   \n",
       "\n",
       "                                              ClassName  \\\n",
       "2171  ['PC.CA1.2', 'PC.CA1.3', 'PC.Other1', 'PC.Othe...   \n",
       "2179               ['PC.CA1.1', 'PC.CA1.2', 'PC.CA1.3']   \n",
       "2183               ['PC.CA1.1', 'PC.CA1.2', 'PC.CA1.3']   \n",
       "2184  ['Astro.1', 'Astro.2', 'Astro.3', 'Astro.4', '...   \n",
       "2186  ['PC.CA1.1', 'PC.CA1.2', 'PC.CA1.3', 'PC.Other1']   \n",
       "...                                                 ...   \n",
       "2494               ['PC.CA1.1', 'PC.CA1.2', 'PC.CA1.3']   \n",
       "2497  ['PC.CA1.2', 'PC.CA1.3', 'PC.Other1', 'PC.Othe...   \n",
       "2498              ['PC.CA1.2', 'PC.CA1.3', 'PC.Other2']   \n",
       "2502               ['PC.CA1.1', 'PC.CA1.2', 'PC.CA1.3']   \n",
       "2506  ['PC.CA1.1', 'PC.CA1.2', 'PC.CA1.3', 'PC.Other...   \n",
       "\n",
       "                                                   Prob  \n",
       "2171  [0.20653652973723954, 0.7761425952346995, 0.00...  \n",
       "2179  [0.0017751618780825643, 0.06439220376280755, 0...  \n",
       "2183  [0.01663743827097375, 0.747343854419005, 0.235...  \n",
       "2184  [0.018709089035663554, 0.004005459948713244, 0...  \n",
       "2186  [0.2783508985912167, 0.6623040455101729, 0.032...  \n",
       "...                                                 ...  \n",
       "2494  [0.04891412778748087, 0.6073077909756837, 0.34...  \n",
       "2497  [0.09911427105527923, 0.8762133956724187, 0.00...  \n",
       "2498  [0.28519612883965345, 0.6714476801314132, 0.04...  \n",
       "2502  [0.1686261832935773, 0.6516667043301301, 0.179...  \n",
       "2506  [0.00569535747623314, 0.3066164239175769, 0.67...  \n",
       "\n",
       "[147 rows x 7 columns]"
      ]
     },
     "execution_count": 5,
     "metadata": {},
     "output_type": "execute_result"
    }
   ],
   "source": [
    "cellData = cellData[idx_cells]\n",
    "cellData"
   ]
  },
  {
   "cell_type": "markdown",
   "id": "35b7f211-f518-4909-b1c8-ffddcd1ffe7c",
   "metadata": {},
   "source": [
    "### Get now the label image"
   ]
  },
  {
   "cell_type": "code",
   "execution_count": 6,
   "id": "93bc91b7-8118-4798-93f2-ddf3f02f16ad",
   "metadata": {},
   "outputs": [],
   "source": [
    "coo = load_npz(r'/home/dimitris/dev/python/pciSeq/pciSeq/data/mouse/ca1/segmentation/label_image.coo.npz')"
   ]
  },
  {
   "cell_type": "code",
   "execution_count": 7,
   "id": "dffac97e-1a48-4f95-9a09-839555fe996f",
   "metadata": {},
   "outputs": [],
   "source": [
    "image_label = coo.toarray()"
   ]
  },
  {
   "cell_type": "code",
   "execution_count": 8,
   "id": "42123bb5-fb73-4ea8-b2a6-8447ae503b29",
   "metadata": {},
   "outputs": [
    {
     "data": {
      "text/plain": [
       "array([   0,    1,    2, ..., 3479, 3480, 3481], dtype=uint32)"
      ]
     },
     "execution_count": 8,
     "metadata": {},
     "output_type": "execute_result"
    }
   ],
   "source": [
    "np.unique(image_label)"
   ]
  },
  {
   "cell_type": "markdown",
   "id": "5c9cebc5-6095-425d-9e80-d571d7b1249e",
   "metadata": {},
   "source": [
    "### Clip the label image between the bounding box (4238, 364) and (5160, 933)"
   ]
  },
  {
   "cell_type": "code",
   "execution_count": 9,
   "id": "3314b648-12de-43db-8437-c79ff7e13c81",
   "metadata": {},
   "outputs": [],
   "source": [
    "image_label = image_label[364:933+1, 4238:5160+1]"
   ]
  },
  {
   "cell_type": "code",
   "execution_count": 10,
   "id": "a7b7f77c-a3b2-4e61-b8dc-fe3665a94d06",
   "metadata": {},
   "outputs": [
    {
     "data": {
      "text/plain": [
       "array([   0, 2164, 2170, 2171, 2172, 2173, 2174, 2180, 2184, 2185, 2187,\n",
       "       2188, 2191, 2192, 2193, 2194, 2195, 2199, 2200, 2202, 2208, 2209,\n",
       "       2210, 2216, 2218, 2223, 2224, 2226, 2230, 2233, 2234, 2239, 2240,\n",
       "       2241, 2242, 2243, 2245, 2247, 2248, 2251, 2254, 2255, 2256, 2259,\n",
       "       2260, 2262, 2265, 2266, 2269, 2271, 2273, 2274, 2276, 2279, 2281,\n",
       "       2286, 2289, 2290, 2294, 2296, 2298, 2300, 2304, 2308, 2312, 2313,\n",
       "       2314, 2316, 2318, 2320, 2322, 2323, 2326, 2327, 2332, 2333, 2334,\n",
       "       2337, 2341, 2343, 2344, 2345, 2346, 2347, 2350, 2353, 2355, 2356,\n",
       "       2360, 2361, 2363, 2367, 2368, 2370, 2372, 2374, 2375, 2379, 2380,\n",
       "       2381, 2382, 2384, 2387, 2388, 2390, 2392, 2393, 2394, 2396, 2400,\n",
       "       2406, 2408, 2412, 2414, 2415, 2421, 2422, 2423, 2424, 2425, 2428,\n",
       "       2430, 2432, 2434, 2438, 2440, 2441, 2446, 2447, 2451, 2454, 2456,\n",
       "       2459, 2463, 2464, 2466, 2468, 2469, 2470, 2471, 2473, 2475, 2478,\n",
       "       2479, 2481, 2483, 2485, 2488, 2491, 2492, 2494, 2495, 2498, 2499,\n",
       "       2503, 2506, 2507, 2510, 2511], dtype=uint32)"
      ]
     },
     "execution_count": 10,
     "metadata": {},
     "output_type": "execute_result"
    }
   ],
   "source": [
    "np.unique(image_label)"
   ]
  },
  {
   "cell_type": "markdown",
   "id": "7c2c83d9-95f4-4e68-b473-80a92f5b46b5",
   "metadata": {},
   "source": [
    "### Remove cells whose centroids are outside the bounding box (4238, 364) and (5160, 933)"
   ]
  },
  {
   "cell_type": "code",
   "execution_count": 11,
   "id": "8d7b4371-8007-4469-b187-66c0f14a7610",
   "metadata": {},
   "outputs": [],
   "source": [
    "image_label=fastremap.mask_except(image_label, cellData.Cell_Num.tolist())"
   ]
  },
  {
   "cell_type": "code",
   "execution_count": 12,
   "id": "7c4a4b09-9f4c-4ce3-b751-b58e23fabd6a",
   "metadata": {},
   "outputs": [
    {
     "data": {
      "text/plain": [
       "(570, 923)"
      ]
     },
     "execution_count": 12,
     "metadata": {},
     "output_type": "execute_result"
    }
   ],
   "source": [
    "image_label.shape"
   ]
  },
  {
   "cell_type": "markdown",
   "id": "5106da52-8bcb-4636-ac96-73610bf30ef2",
   "metadata": {},
   "source": [
    "### Save the image_label as coo_matrix"
   ]
  },
  {
   "cell_type": "code",
   "execution_count": 13,
   "id": "7383c9ca-8747-4440-b884-555510382b45",
   "metadata": {},
   "outputs": [],
   "source": [
    "save_npz('test_label_image_coo.npz', coo_matrix(image_label))"
   ]
  },
  {
   "cell_type": "markdown",
   "id": "d33d621a-14fe-4d35-95e1-9b442735814e",
   "metadata": {},
   "source": [
    "### Load now the spots inside the bounding box (4238, 364) and (5160, 933)"
   ]
  },
  {
   "cell_type": "code",
   "execution_count": 14,
   "id": "52efff6b-34b1-4464-b46d-3d550c8b6e23",
   "metadata": {},
   "outputs": [],
   "source": [
    "spots = pd.read_csv(r'/home/dimitris/dev/python/pciSeq/pciSeq/data/mouse/ca1/iss/spots.csv')"
   ]
  },
  {
   "cell_type": "code",
   "execution_count": 15,
   "id": "5bc2b8b5-ee2b-4862-bb22-024d2b3085f4",
   "metadata": {},
   "outputs": [],
   "source": [
    "idx_x = (spots.x > 4238) & (spots.x < 5160)\n",
    "idx_y = (spots.y > 364) & (spots.y < 933)\n",
    "\n",
    "idx_spots = idx_x & idx_y"
   ]
  },
  {
   "cell_type": "markdown",
   "id": "252d22c8-c576-4527-8c6d-ac602d632d87",
   "metadata": {},
   "source": [
    "### Save the test spots"
   ]
  },
  {
   "cell_type": "code",
   "execution_count": 16,
   "id": "3a241174-56bd-4231-94be-f2291b00f40d",
   "metadata": {},
   "outputs": [],
   "source": [
    "spots.x = spots.x - 4238\n",
    "spots.y = spots.y - 364\n",
    "spots[idx_spots].to_csv('test_spots.csv', index=False)"
   ]
  },
  {
   "cell_type": "code",
   "execution_count": null,
   "id": "99b86190-2697-4a60-b322-c06827618b30",
   "metadata": {},
   "outputs": [],
   "source": []
  },
  {
   "cell_type": "code",
   "execution_count": null,
   "id": "ba5ddf63-9f45-4e22-847e-41a2f236dc7f",
   "metadata": {},
   "outputs": [],
   "source": []
  }
 ],
 "metadata": {
  "kernelspec": {
   "display_name": "Python 3 (ipykernel)",
   "language": "python",
   "name": "python3"
  },
  "language_info": {
   "codemirror_mode": {
    "name": "ipython",
    "version": 3
   },
   "file_extension": ".py",
   "mimetype": "text/x-python",
   "name": "python",
   "nbconvert_exporter": "python",
   "pygments_lexer": "ipython3",
   "version": "3.8.17"
  }
 },
 "nbformat": 4,
 "nbformat_minor": 5
}
