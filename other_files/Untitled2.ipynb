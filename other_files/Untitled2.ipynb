{
 "cells": [
  {
   "cell_type": "code",
   "execution_count": 1,
   "id": "sexual-pride",
   "metadata": {},
   "outputs": [],
   "source": [
    "import numpy as np\n",
    "import pandas as pd\n",
    "# from multiprocessing.dummy import Pool as ThreadPool\n",
    "from multiprocessing import Pool, cpu_count, freeze_support\n",
    "from functools import partial\n",
    "from scipy.stats import multivariate_normal\n",
    "from timeit import timeit"
   ]
  },
  {
   "cell_type": "code",
   "execution_count": 2,
   "id": "interesting-working",
   "metadata": {},
   "outputs": [],
   "source": [
    "def mvn_loglik(param):\n",
    "    out = (multivariate_normal.logpdf(p[0], p[1], p[2]) for i, p in enumerate(param))\n",
    "    return out"
   ]
  },
  {
   "cell_type": "code",
   "execution_count": 3,
   "id": "willing-weather",
   "metadata": {},
   "outputs": [],
   "source": [
    "def mvn_loglik_helper(p):\n",
    "    out = multivariate_normal.logpdf(p[0], p[1], p[2])\n",
    "    return out"
   ]
  },
  {
   "cell_type": "code",
   "execution_count": 1,
   "id": "integrated-return",
   "metadata": {},
   "outputs": [],
   "source": [
    "def mvn_loglik_par(param):\n",
    "    n = max(1, cpu_count() - 1)\n",
    "    pool = ThreadPool(n)\n",
    "    results = pool.map(mvn_loglik_helper, param)\n",
    "    pool.close()\n",
    "    pool.join()\n",
    "    return results"
   ]
  },
  {
   "cell_type": "code",
   "execution_count": 5,
   "id": "equal-pacific",
   "metadata": {},
   "outputs": [],
   "source": [
    "n = 100000\n",
    "data = np.zeros([n,2])\n",
    "mu = np.zeros([n,2])\n",
    "cov = np.tile(np.eye(2,2), (n,1,1))"
   ]
  },
  {
   "cell_type": "code",
   "execution_count": 15,
   "id": "minor-bolivia",
   "metadata": {},
   "outputs": [
    {
     "ename": "AssertionError",
     "evalue": "",
     "output_type": "error",
     "traceback": [
      "\u001b[1;31m---------------------------------------------------------------------------\u001b[0m",
      "\u001b[1;31mAssertionError\u001b[0m                            Traceback (most recent call last)",
      "\u001b[1;32m<ipython-input-15-eb1fb12854cc>\u001b[0m in \u001b[0;36m<module>\u001b[1;34m\u001b[0m\n\u001b[0;32m      1\u001b[0m \u001b[0mparam\u001b[0m \u001b[1;33m=\u001b[0m \u001b[0mlist\u001b[0m\u001b[1;33m(\u001b[0m\u001b[0mzip\u001b[0m\u001b[1;33m(\u001b[0m\u001b[1;33m*\u001b[0m\u001b[1;33m[\u001b[0m\u001b[0mdata\u001b[0m\u001b[1;33m,\u001b[0m \u001b[0mmu\u001b[0m\u001b[1;33m,\u001b[0m \u001b[0mcov\u001b[0m\u001b[1;33m]\u001b[0m\u001b[1;33m)\u001b[0m\u001b[1;33m)\u001b[0m\u001b[1;33m\u001b[0m\u001b[1;33m\u001b[0m\u001b[0m\n\u001b[1;32m----> 2\u001b[1;33m \u001b[1;32massert\u001b[0m \u001b[0mnp\u001b[0m\u001b[1;33m.\u001b[0m\u001b[0mall\u001b[0m\u001b[1;33m(\u001b[0m\u001b[0mmvn_loglik\u001b[0m\u001b[1;33m(\u001b[0m\u001b[0mparam\u001b[0m\u001b[1;33m)\u001b[0m \u001b[1;33m==\u001b[0m \u001b[0mmvn_loglik_par\u001b[0m\u001b[1;33m(\u001b[0m\u001b[0mparam\u001b[0m\u001b[1;33m)\u001b[0m\u001b[1;33m)\u001b[0m\u001b[1;33m\u001b[0m\u001b[1;33m\u001b[0m\u001b[0m\n\u001b[0m",
      "\u001b[1;31mAssertionError\u001b[0m: "
     ]
    }
   ],
   "source": [
    "param = list(zip(*[data, mu, cov]))\n",
    "assert np.all(mvn_loglik(param) == mvn_loglik_par(param))"
   ]
  },
  {
   "cell_type": "code",
   "execution_count": 6,
   "id": "regional-insurance",
   "metadata": {},
   "outputs": [],
   "source": [
    "def f():\n",
    "    param = list(zip(*[data, mu, cov]))\n",
    "    return list(mvn_loglik(param))"
   ]
  },
  {
   "cell_type": "code",
   "execution_count": 7,
   "id": "vertical-brick",
   "metadata": {},
   "outputs": [],
   "source": [
    "def g():\n",
    "    param = list(zip(*[data, mu, cov]))\n",
    "    return mvn_loglik_par(param)"
   ]
  },
  {
   "cell_type": "code",
   "execution_count": null,
   "id": "prompt-pizza",
   "metadata": {},
   "outputs": [],
   "source": []
  },
  {
   "cell_type": "code",
   "execution_count": 8,
   "id": "apparent-coordinator",
   "metadata": {},
   "outputs": [
    {
     "name": "stdout",
     "output_type": "stream",
     "text": [
      "8.3676819\n"
     ]
    }
   ],
   "source": [
    "print(timeit(f, number=1))"
   ]
  },
  {
   "cell_type": "code",
   "execution_count": 10,
   "id": "vulnerable-software",
   "metadata": {},
   "outputs": [
    {
     "name": "stdout",
     "output_type": "stream",
     "text": [
      "10.187561600000002\n"
     ]
    }
   ],
   "source": [
    "print(timeit(g, number=1))"
   ]
  },
  {
   "cell_type": "code",
   "execution_count": 2,
   "id": "boxed-demand",
   "metadata": {},
   "outputs": [],
   "source": [
    "def batch(seq, size):\n",
    "  return [\n",
    "    seq[i:i + size]\n",
    "    for i in range(0, len(seq), size)\n",
    "  ]"
   ]
  },
  {
   "cell_type": "code",
   "execution_count": 15,
   "id": "confidential-trance",
   "metadata": {},
   "outputs": [
    {
     "data": {
      "text/plain": [
       "12500.0"
      ]
     },
     "execution_count": 15,
     "metadata": {},
     "output_type": "execute_result"
    }
   ],
   "source": [
    "len(param) / processes"
   ]
  },
  {
   "cell_type": "code",
   "execution_count": 20,
   "id": "catholic-canberra",
   "metadata": {},
   "outputs": [],
   "source": [
    "# batch(param, np.int(len(param) / processes))"
   ]
  },
  {
   "cell_type": "code",
   "execution_count": null,
   "id": "lonely-perry",
   "metadata": {},
   "outputs": [
    {
     "name": "stdout",
     "output_type": "stream",
     "text": [
      "Using 8 processes\n"
     ]
    }
   ],
   "source": [
    "n = 100000\n",
    "data = np.zeros([n,2])\n",
    "mu = np.zeros([n,2])\n",
    "cov = np.tile(np.eye(2,2), (n,1,1))\n",
    "\n",
    "def batch(seq, size):\n",
    "  return [\n",
    "    seq[i:i + size]\n",
    "    for i in range(0, len(seq), size)\n",
    "  ]\n",
    "\n",
    "processes = cpu_count()\n",
    "print(f'Using {processes} processes')\n",
    "\n",
    "param = list(zip(*[data, mu, cov]))\n",
    "# chunks = np.array_split(param, processes)\n",
    "chunks = batch(param, np.int(len(param) / processes))\n",
    "# Map the labels across the processes\n",
    "with Pool(processes=processes) as pool:\n",
    "    result = pool.map(partial(mvn_loglik, param=param), chunks)"
   ]
  },
  {
   "cell_type": "code",
   "execution_count": 4,
   "id": "compatible-chaos",
   "metadata": {},
   "outputs": [
    {
     "name": "stderr",
     "output_type": "stream",
     "text": [
      "C:\\ProgramData\\Anaconda3\\lib\\site-packages\\ipykernel_launcher.py:1: VisibleDeprecationWarning: Creating an ndarray from ragged nested sequences (which is a list-or-tuple of lists-or-tuples-or ndarrays with different lengths or shapes) is deprecated. If you meant to do this, you must specify 'dtype=object' when creating the ndarray\n",
      "  \"\"\"Entry point for launching an IPython kernel.\n"
     ]
    },
    {
     "ename": "ValueError",
     "evalue": "could not broadcast input array from shape (2,2) into shape (2)",
     "output_type": "error",
     "traceback": [
      "\u001b[1;31m---------------------------------------------------------------------------\u001b[0m",
      "\u001b[1;31mValueError\u001b[0m                                Traceback (most recent call last)",
      "\u001b[1;32m<ipython-input-4-93c645c4057d>\u001b[0m in \u001b[0;36m<module>\u001b[1;34m\u001b[0m\n\u001b[1;32m----> 1\u001b[1;33m \u001b[0mnp\u001b[0m\u001b[1;33m.\u001b[0m\u001b[0marray_split\u001b[0m\u001b[1;33m(\u001b[0m\u001b[0mnp\u001b[0m\u001b[1;33m.\u001b[0m\u001b[0marray\u001b[0m\u001b[1;33m(\u001b[0m\u001b[0mparam\u001b[0m\u001b[1;33m)\u001b[0m\u001b[1;33m,\u001b[0m \u001b[0mprocesses\u001b[0m\u001b[1;33m)\u001b[0m\u001b[1;33m\u001b[0m\u001b[1;33m\u001b[0m\u001b[0m\n\u001b[0m",
      "\u001b[1;31mValueError\u001b[0m: could not broadcast input array from shape (2,2) into shape (2)"
     ]
    }
   ],
   "source": [
    "np.array_split(np.array(param), processes)"
   ]
  },
  {
   "cell_type": "code",
   "execution_count": 7,
   "id": "amateur-personality",
   "metadata": {},
   "outputs": [
    {
     "data": {
      "text/plain": [
       "[array([1, 2]),\n",
       " array([3]),\n",
       " array([4]),\n",
       " array([5]),\n",
       " array([6]),\n",
       " array([7]),\n",
       " array([8]),\n",
       " array([9])]"
      ]
     },
     "execution_count": 7,
     "metadata": {},
     "output_type": "execute_result"
    }
   ],
   "source": [
    "np.array_split(np.array([1,2,3,4,5,6,7,8,9]), processes)"
   ]
  },
  {
   "cell_type": "code",
   "execution_count": 11,
   "id": "joined-luxembourg",
   "metadata": {},
   "outputs": [
    {
     "ename": "ValueError",
     "evalue": "could not broadcast input array from shape (2,2) into shape (2)",
     "output_type": "error",
     "traceback": [
      "\u001b[1;31m---------------------------------------------------------------------------\u001b[0m",
      "\u001b[1;31mValueError\u001b[0m                                Traceback (most recent call last)",
      "\u001b[1;32m<ipython-input-11-aa8bc6b133ac>\u001b[0m in \u001b[0;36m<module>\u001b[1;34m\u001b[0m\n\u001b[1;32m----> 1\u001b[1;33m \u001b[0mnp\u001b[0m\u001b[1;33m.\u001b[0m\u001b[0marray\u001b[0m\u001b[1;33m(\u001b[0m\u001b[0mparam\u001b[0m\u001b[1;33m[\u001b[0m\u001b[1;36m1\u001b[0m\u001b[1;33m]\u001b[0m\u001b[1;33m,\u001b[0m \u001b[0mdtype\u001b[0m\u001b[1;33m=\u001b[0m\u001b[0mobject\u001b[0m\u001b[1;33m)\u001b[0m\u001b[1;33m.\u001b[0m\u001b[0mshape\u001b[0m\u001b[1;33m\u001b[0m\u001b[1;33m\u001b[0m\u001b[0m\n\u001b[0m",
      "\u001b[1;31mValueError\u001b[0m: could not broadcast input array from shape (2,2) into shape (2)"
     ]
    }
   ],
   "source": [
    "np.array(param[1], dtype=object).shape"
   ]
  },
  {
   "cell_type": "code",
   "execution_count": 1,
   "id": "distant-allowance",
   "metadata": {},
   "outputs": [
    {
     "data": {
      "text/plain": [
       "2"
      ]
     },
     "execution_count": 1,
     "metadata": {},
     "output_type": "execute_result"
    }
   ],
   "source": [
    "1+1"
   ]
  },
  {
   "cell_type": "code",
   "execution_count": null,
   "id": "cardiac-consensus",
   "metadata": {},
   "outputs": [],
   "source": []
  },
  {
   "cell_type": "code",
   "execution_count": 29,
   "id": "functioning-python",
   "metadata": {},
   "outputs": [
    {
     "data": {
      "text/plain": [
       "19.71423625946045"
      ]
     },
     "execution_count": 29,
     "metadata": {},
     "output_type": "execute_result"
    }
   ],
   "source": [
    "150000 * 112 * 315 * 4 /(1024**3)"
   ]
  },
  {
   "cell_type": "code",
   "execution_count": 14,
   "id": "accredited-norman",
   "metadata": {},
   "outputs": [
    {
     "ename": "AttributeError",
     "evalue": "module 'numpy' has no attribute 'getsizeof'",
     "output_type": "error",
     "traceback": [
      "\u001b[1;31m---------------------------------------------------------------------------\u001b[0m",
      "\u001b[1;31mAttributeError\u001b[0m                            Traceback (most recent call last)",
      "\u001b[1;32m<ipython-input-14-7d46a3c248a7>\u001b[0m in \u001b[0;36m<module>\u001b[1;34m\u001b[0m\n\u001b[0;32m      1\u001b[0m \u001b[1;32mimport\u001b[0m \u001b[0mnumpy\u001b[0m \u001b[1;32mas\u001b[0m \u001b[0mnp\u001b[0m\u001b[1;33m\u001b[0m\u001b[1;33m\u001b[0m\u001b[0m\n\u001b[1;32m----> 2\u001b[1;33m \u001b[0mnp\u001b[0m\u001b[1;33m.\u001b[0m\u001b[0mgetsizeof\u001b[0m\u001b[1;33m(\u001b[0m\u001b[1;36m1\u001b[0m\u001b[1;33m)\u001b[0m\u001b[1;33m\u001b[0m\u001b[1;33m\u001b[0m\u001b[0m\n\u001b[0m",
      "\u001b[1;32mC:\\ProgramData\\Anaconda3\\lib\\site-packages\\numpy\\__init__.py\u001b[0m in \u001b[0;36m__getattr__\u001b[1;34m(attr)\u001b[0m\n\u001b[0;32m    213\u001b[0m             \u001b[1;32melse\u001b[0m\u001b[1;33m:\u001b[0m\u001b[1;33m\u001b[0m\u001b[1;33m\u001b[0m\u001b[0m\n\u001b[0;32m    214\u001b[0m                 raise AttributeError(\"module {!r} has no attribute \"\n\u001b[1;32m--> 215\u001b[1;33m                                      \"{!r}\".format(__name__, attr))\n\u001b[0m\u001b[0;32m    216\u001b[0m \u001b[1;33m\u001b[0m\u001b[0m\n\u001b[0;32m    217\u001b[0m         \u001b[1;32mdef\u001b[0m \u001b[0m__dir__\u001b[0m\u001b[1;33m(\u001b[0m\u001b[1;33m)\u001b[0m\u001b[1;33m:\u001b[0m\u001b[1;33m\u001b[0m\u001b[1;33m\u001b[0m\u001b[0m\n",
      "\u001b[1;31mAttributeError\u001b[0m: module 'numpy' has no attribute 'getsizeof'"
     ]
    }
   ],
   "source": [
    "import numpy as np\n",
    "np.getsizeof(1)"
   ]
  },
  {
   "cell_type": "code",
   "execution_count": 27,
   "id": "noble-oasis",
   "metadata": {},
   "outputs": [
    {
     "data": {
      "text/plain": [
       "4"
      ]
     },
     "execution_count": 27,
     "metadata": {},
     "output_type": "execute_result"
    }
   ],
   "source": [
    "np.ones(1).astype(np.float32).itemsize"
   ]
  },
  {
   "cell_type": "code",
   "execution_count": null,
   "id": "dynamic-cooling",
   "metadata": {},
   "outputs": [],
   "source": []
  }
 ],
 "metadata": {
  "kernelspec": {
   "display_name": "Python 3",
   "language": "python",
   "name": "python3"
  },
  "language_info": {
   "codemirror_mode": {
    "name": "ipython",
    "version": 3
   },
   "file_extension": ".py",
   "mimetype": "text/x-python",
   "name": "python",
   "nbconvert_exporter": "python",
   "pygments_lexer": "ipython3",
   "version": "3.7.6"
  }
 },
 "nbformat": 4,
 "nbformat_minor": 5
}
