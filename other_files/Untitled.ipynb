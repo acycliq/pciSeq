{
 "cells": [
  {
   "cell_type": "code",
   "execution_count": 1,
   "metadata": {},
   "outputs": [],
   "source": [
    "import numpy as np\n",
    "import pandas as pd\n",
    "from scipy.stats import multivariate_normal, invwishart, wishart\n",
    "from scipy.linalg import eig, eigh\n",
    "from timeit import timeit\n",
    "from datetime import datetime\n",
    "import logging\n",
    "\n",
    "logger = logging.getLogger()"
   ]
  },
  {
   "cell_type": "code",
   "execution_count": 13,
   "metadata": {},
   "outputs": [],
   "source": [
    "def sim_data(num_of_clusters, data_size):\n",
    "    # generate random centroids\n",
    "    LB=0\n",
    "    UB=1000\n",
    "\n",
    "    # make K centroids\n",
    "    _centroids = np.random.randint(LB, UB, [num_of_clusters, 2])\n",
    "\n",
    "    # make K variance-covariance matrices\n",
    "    _covs = np.tile(np.eye(2), (num_of_clusters, 1, 1))\n",
    "#     _covs  = wishart(df=2, scale=np.eye(2)).rvs(size=data_size)\n",
    "    \n",
    "    # Draw N random (two-dimensional) points \n",
    "    data = np.random.randint(LB, UB, [data_size, 2])\n",
    "    \n",
    "    # assign each of the points to one of the clusters\n",
    "    parent_cluster = np.random.randint(0, num_of_clusters, data_size)\n",
    "\n",
    "    # the centroids and cov matrices of the corresponding clusters\n",
    "    centroids = _centroids[parent_cluster]\n",
    "    covs = _covs[parent_cluster]\n",
    "    \n",
    "    return data, centroids, covs, parent_cluster"
   ]
  },
  {
   "cell_type": "code",
   "execution_count": 14,
   "metadata": {},
   "outputs": [],
   "source": [
    "K = 100000\n",
    "N = 10000000\n",
    "data, centroids, covs, parent_cluster = sim_data(num_of_clusters=K, data_size=N)"
   ]
  },
  {
   "cell_type": "code",
   "execution_count": 4,
   "metadata": {},
   "outputs": [],
   "source": [
    "def myFun(data, centroids, covs):\n",
    "    param = list(zip(*[data, centroids, covs]))\n",
    "    out = [multivariate_normal.logpdf(p[0], p[1], p[2]) for i, p in enumerate(param)]\n",
    "    return out"
   ]
  },
  {
   "cell_type": "code",
   "execution_count": 5,
   "metadata": {},
   "outputs": [],
   "source": [
    "def myFun_2(data, centroids, covs, parent_cluster):\n",
    "    res = np.nan * np.ones(data.shape[0])\n",
    "    pcs = np.unique(parent_cluster)\n",
    "    for pc in pcs:\n",
    "        mask = parent_cluster == pc\n",
    "        res[mask] = multivariate_normal.logpdf(data[mask], centroids[mask][0], covs[mask][0])\n",
    "    return res\n",
    "    "
   ]
  },
  {
   "cell_type": "code",
   "execution_count": 17,
   "metadata": {},
   "outputs": [],
   "source": [
    "def multiple_logpdfs(x, means, covs):\n",
    "    # Thankfully, NumPy broadcasts `eigh`.\n",
    "    print('1: %s' % datetime.now())\n",
    "#     ucovs, idx = np.unique(covs, axis=0, return_inverse=True)\n",
    "#     uvals, uvecs = np.linalg.eigh(ucovs)\n",
    "#     vals = uvals[idx]\n",
    "#     vecs = uvecs[idx]\n",
    "    vals, vecs = np.linalg.eigh(covs)\n",
    "    \n",
    "    print('2: %s' % datetime.now())\n",
    "    # Compute the log determinants across the second axis.\n",
    "    logdets    = np.sum(np.log(vals), axis=1)\n",
    "\n",
    "    print('3: %s' % datetime.now())\n",
    "    # Invert the eigenvalues.\n",
    "    valsinvs   = 1./vals\n",
    "    \n",
    "    print('4: %s' % datetime.now())\n",
    "    # Add a dimension to `valsinvs` so that NumPy broadcasts appropriately.\n",
    "    Us         = vecs * np.sqrt(valsinvs)[:, None]\n",
    "    devs       = x - means\n",
    "\n",
    "    print('5: %s' % datetime.now())\n",
    "    # Use `einsum` for matrix-vector multiplications across the first dimension.\n",
    "    devUs      = np.einsum('ni,nij->nj', devs, Us)\n",
    "\n",
    "    print('6: %s' % datetime.now())\n",
    "    # Compute the Mahalanobis distance by squaring each term and summing.\n",
    "    mahas      = np.sum(np.square(devUs), axis=1)\n",
    "    \n",
    "    print('7: %s' % datetime.now())\n",
    "    # Compute and broadcast scalar normalizers.\n",
    "    dim        = len(vals[0])\n",
    "    log2pi     = np.log(2 * np.pi)\n",
    "    \n",
    "    print('8: %s' % datetime.now())\n",
    "    return -0.5 * (dim * log2pi + mahas + logdets)"
   ]
  },
  {
   "cell_type": "code",
   "execution_count": null,
   "metadata": {},
   "outputs": [
    {
     "name": "stdout",
     "output_type": "stream",
     "text": [
      "1: 2021-08-14 23:38:24.213362\n",
      "2: 2021-08-14 23:38:24.684358\n",
      "3: 2021-08-14 23:38:24.985365\n",
      "4: 2021-08-14 23:38:25.042358\n",
      "5: 2021-08-14 23:38:25.348360\n",
      "6: 2021-08-14 23:38:26.588358\n",
      "7: 2021-08-14 23:38:26.793332\n",
      "8: 2021-08-14 23:38:26.793332\n"
     ]
    }
   ],
   "source": [
    "assert max(abs(multiple_logpdfs(data, centroids, covs) - myFun_2(data, centroids, covs, parent_cluster))) < 1e-6"
   ]
  },
  {
   "cell_type": "code",
   "execution_count": 8,
   "metadata": {},
   "outputs": [
    {
     "name": "stdout",
     "output_type": "stream",
     "text": [
      "2.5790328999999996\n"
     ]
    }
   ],
   "source": [
    "def f():\n",
    "    return myFun(data, centroids, covs)\n",
    "print(timeit(f, number=3))"
   ]
  },
  {
   "cell_type": "code",
   "execution_count": null,
   "metadata": {},
   "outputs": [],
   "source": [
    "def f_2():\n",
    "    return myFun_2(data, centroids, covs, parent_cluster)\n",
    "print(timeit(f_2, number=1))"
   ]
  },
  {
   "cell_type": "code",
   "execution_count": 18,
   "metadata": {},
   "outputs": [
    {
     "name": "stdout",
     "output_type": "stream",
     "text": [
      "1: 2021-08-14 23:53:25.557792\n",
      "2: 2021-08-14 23:53:31.517818\n",
      "3: 2021-08-14 23:53:31.808828\n",
      "4: 2021-08-14 23:53:31.875817\n",
      "5: 2021-08-14 23:53:32.196792\n",
      "6: 2021-08-14 23:53:33.413825\n",
      "7: 2021-08-14 23:53:33.607817\n",
      "8: 2021-08-14 23:53:33.607817\n",
      "8.262327000000028\n"
     ]
    }
   ],
   "source": [
    "def f_3():\n",
    "    return multiple_logpdfs(data, centroids, covs)\n",
    "print(timeit(f_3, number=1))"
   ]
  },
  {
   "cell_type": "code",
   "execution_count": 11,
   "metadata": {},
   "outputs": [
    {
     "data": {
      "text/plain": [
       "-207661327622.14847"
      ]
     },
     "execution_count": 11,
     "metadata": {},
     "output_type": "execute_result"
    }
   ],
   "source": [
    "myFun_2(data, centroids, covs, parent_cluster).sum()"
   ]
  },
  {
   "cell_type": "code",
   "execution_count": 12,
   "metadata": {},
   "outputs": [
    {
     "name": "stdout",
     "output_type": "stream",
     "text": [
      "1: 2021-08-14 23:35:39.965203\n",
      "2: 2021-08-14 23:35:39.965203\n",
      "3: 2021-08-14 23:35:39.966205\n",
      "4: 2021-08-14 23:35:39.966205\n",
      "5: 2021-08-14 23:35:39.967220\n",
      "6: 2021-08-14 23:35:39.969203\n",
      "7: 2021-08-14 23:35:39.970216\n",
      "8: 2021-08-14 23:35:39.970216\n"
     ]
    },
    {
     "data": {
      "text/plain": [
       "-207661327622.14847"
      ]
     },
     "execution_count": 12,
     "metadata": {},
     "output_type": "execute_result"
    }
   ],
   "source": [
    "multiple_logpdfs(data, centroids, covs).sum()"
   ]
  },
  {
   "cell_type": "code",
   "execution_count": 13,
   "metadata": {},
   "outputs": [
    {
     "name": "stdout",
     "output_type": "stream",
     "text": [
      "1: 2021-08-14 23:35:45.866886\n",
      "2: 2021-08-14 23:35:45.867866\n",
      "3: 2021-08-14 23:35:45.867866\n",
      "4: 2021-08-14 23:35:45.867866\n",
      "5: 2021-08-14 23:35:45.868867\n",
      "6: 2021-08-14 23:35:45.870895\n",
      "7: 2021-08-14 23:35:45.871866\n",
      "8: 2021-08-14 23:35:45.871866\n"
     ]
    },
    {
     "data": {
      "text/plain": [
       "array([-2.06600413e+07, -3.26272831e+04, -3.05835865e+03, ...,\n",
       "       -8.11232295e+05, -2.06523115e+04, -9.47856745e+03])"
      ]
     },
     "execution_count": 13,
     "metadata": {},
     "output_type": "execute_result"
    }
   ],
   "source": [
    "multiple_logpdfs(data, centroids, covs)"
   ]
  },
  {
   "cell_type": "code",
   "execution_count": 14,
   "metadata": {},
   "outputs": [
    {
     "data": {
      "text/plain": [
       "array([-2.06600413e+07, -3.26272831e+04, -3.05835865e+03, ...,\n",
       "       -8.11232295e+05, -2.06523115e+04, -9.47856745e+03])"
      ]
     },
     "execution_count": 14,
     "metadata": {},
     "output_type": "execute_result"
    }
   ],
   "source": [
    "myFun_2(data, centroids, covs, parent_cluster)"
   ]
  },
  {
   "cell_type": "code",
   "execution_count": 10,
   "metadata": {},
   "outputs": [
    {
     "data": {
      "text/plain": [
       "(array([[3.15383976e-01, 6.85693169e-01],\n",
       "        [7.17175877e-03, 2.00194008e+00],\n",
       "        [1.34820650e-02, 2.28038011e+00],\n",
       "        ...,\n",
       "        [5.96179841e-02, 8.36992125e+00],\n",
       "        [4.85815571e-02, 4.20676176e-01],\n",
       "        [2.34164849e-01, 6.31572848e-01]]),\n",
       " array([[[-0.9746998 , -0.22351803],\n",
       "         [-0.22351803,  0.9746998 ]],\n",
       " \n",
       "        [[-0.93109978,  0.36476457],\n",
       "         [ 0.36476457,  0.93109978]],\n",
       " \n",
       "        [[-0.05950777, -0.99822784],\n",
       "         [-0.99822784,  0.05950777]],\n",
       " \n",
       "        ...,\n",
       " \n",
       "        [[ 0.02229099, -0.99975153],\n",
       "         [-0.99975153, -0.02229099]],\n",
       " \n",
       "        [[-0.75654242, -0.65394462],\n",
       "         [-0.65394462,  0.75654242]],\n",
       " \n",
       "        [[-0.95576615, -0.29412764],\n",
       "         [-0.29412764,  0.95576615]]]))"
      ]
     },
     "execution_count": 10,
     "metadata": {},
     "output_type": "execute_result"
    }
   ],
   "source": [
    "np.linalg.eigh(covs)"
   ]
  },
  {
   "cell_type": "code",
   "execution_count": 11,
   "metadata": {},
   "outputs": [
    {
     "ename": "ValueError",
     "evalue": "expected square \"a\" matrix",
     "output_type": "error",
     "traceback": [
      "\u001b[1;31m---------------------------------------------------------------------------\u001b[0m",
      "\u001b[1;31mValueError\u001b[0m                                Traceback (most recent call last)",
      "\u001b[1;32m<ipython-input-11-38b6b6f57dd7>\u001b[0m in \u001b[0;36m<module>\u001b[1;34m\u001b[0m\n\u001b[1;32m----> 1\u001b[1;33m \u001b[0meigh\u001b[0m\u001b[1;33m(\u001b[0m\u001b[0mcovs\u001b[0m\u001b[1;33m)\u001b[0m\u001b[1;33m\u001b[0m\u001b[1;33m\u001b[0m\u001b[0m\n\u001b[0m",
      "\u001b[1;32mC:\\ProgramData\\Anaconda3\\lib\\site-packages\\scipy\\linalg\\decomp.py\u001b[0m in \u001b[0;36meigh\u001b[1;34m(a, b, lower, eigvals_only, overwrite_a, overwrite_b, turbo, eigvals, type, check_finite, subset_by_index, subset_by_value, driver)\u001b[0m\n\u001b[0;32m    445\u001b[0m     \u001b[0ma1\u001b[0m \u001b[1;33m=\u001b[0m \u001b[0m_asarray_validated\u001b[0m\u001b[1;33m(\u001b[0m\u001b[0ma\u001b[0m\u001b[1;33m,\u001b[0m \u001b[0mcheck_finite\u001b[0m\u001b[1;33m=\u001b[0m\u001b[0mcheck_finite\u001b[0m\u001b[1;33m)\u001b[0m\u001b[1;33m\u001b[0m\u001b[1;33m\u001b[0m\u001b[0m\n\u001b[0;32m    446\u001b[0m     \u001b[1;32mif\u001b[0m \u001b[0mlen\u001b[0m\u001b[1;33m(\u001b[0m\u001b[0ma1\u001b[0m\u001b[1;33m.\u001b[0m\u001b[0mshape\u001b[0m\u001b[1;33m)\u001b[0m \u001b[1;33m!=\u001b[0m \u001b[1;36m2\u001b[0m \u001b[1;32mor\u001b[0m \u001b[0ma1\u001b[0m\u001b[1;33m.\u001b[0m\u001b[0mshape\u001b[0m\u001b[1;33m[\u001b[0m\u001b[1;36m0\u001b[0m\u001b[1;33m]\u001b[0m \u001b[1;33m!=\u001b[0m \u001b[0ma1\u001b[0m\u001b[1;33m.\u001b[0m\u001b[0mshape\u001b[0m\u001b[1;33m[\u001b[0m\u001b[1;36m1\u001b[0m\u001b[1;33m]\u001b[0m\u001b[1;33m:\u001b[0m\u001b[1;33m\u001b[0m\u001b[1;33m\u001b[0m\u001b[0m\n\u001b[1;32m--> 447\u001b[1;33m         \u001b[1;32mraise\u001b[0m \u001b[0mValueError\u001b[0m\u001b[1;33m(\u001b[0m\u001b[1;34m'expected square \"a\" matrix'\u001b[0m\u001b[1;33m)\u001b[0m\u001b[1;33m\u001b[0m\u001b[1;33m\u001b[0m\u001b[0m\n\u001b[0m\u001b[0;32m    448\u001b[0m     \u001b[0moverwrite_a\u001b[0m \u001b[1;33m=\u001b[0m \u001b[0moverwrite_a\u001b[0m \u001b[1;32mor\u001b[0m \u001b[1;33m(\u001b[0m\u001b[0m_datacopied\u001b[0m\u001b[1;33m(\u001b[0m\u001b[0ma1\u001b[0m\u001b[1;33m,\u001b[0m \u001b[0ma\u001b[0m\u001b[1;33m)\u001b[0m\u001b[1;33m)\u001b[0m\u001b[1;33m\u001b[0m\u001b[1;33m\u001b[0m\u001b[0m\n\u001b[0;32m    449\u001b[0m     \u001b[0mcplx\u001b[0m \u001b[1;33m=\u001b[0m \u001b[1;32mTrue\u001b[0m \u001b[1;32mif\u001b[0m \u001b[0miscomplexobj\u001b[0m\u001b[1;33m(\u001b[0m\u001b[0ma1\u001b[0m\u001b[1;33m)\u001b[0m \u001b[1;32melse\u001b[0m \u001b[1;32mFalse\u001b[0m\u001b[1;33m\u001b[0m\u001b[1;33m\u001b[0m\u001b[0m\n",
      "\u001b[1;31mValueError\u001b[0m: expected square \"a\" matrix"
     ]
    }
   ],
   "source": [
    "eigh(covs)"
   ]
  },
  {
   "cell_type": "code",
   "execution_count": 12,
   "metadata": {},
   "outputs": [
    {
     "data": {
      "text/plain": [
       "array([[[1., 0.],\n",
       "        [0., 1.]],\n",
       "\n",
       "       [[1., 0.],\n",
       "        [0., 1.]],\n",
       "\n",
       "       [[1., 0.],\n",
       "        [0., 1.]],\n",
       "\n",
       "       ...,\n",
       "\n",
       "       [[1., 0.],\n",
       "        [0., 1.]],\n",
       "\n",
       "       [[1., 0.],\n",
       "        [0., 1.]],\n",
       "\n",
       "       [[1., 0.],\n",
       "        [0., 1.]]])"
      ]
     },
     "execution_count": 12,
     "metadata": {},
     "output_type": "execute_result"
    }
   ],
   "source": [
    "np.unique(covs, axis=0)\n",
    "covs"
   ]
  },
  {
   "cell_type": "code",
   "execution_count": null,
   "metadata": {},
   "outputs": [],
   "source": []
  }
 ],
 "metadata": {
  "kernelspec": {
   "display_name": "Python 3",
   "language": "python",
   "name": "python3"
  },
  "language_info": {
   "codemirror_mode": {
    "name": "ipython",
    "version": 3
   },
   "file_extension": ".py",
   "mimetype": "text/x-python",
   "name": "python",
   "nbconvert_exporter": "python",
   "pygments_lexer": "ipython3",
   "version": "3.7.6"
  }
 },
 "nbformat": 4,
 "nbformat_minor": 4
}
