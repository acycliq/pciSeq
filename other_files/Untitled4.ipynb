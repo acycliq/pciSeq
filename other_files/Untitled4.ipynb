{
 "cells": [
  {
   "cell_type": "code",
   "execution_count": 12,
   "id": "abdd0757-f9d2-4cb8-a640-dd90f10618bb",
   "metadata": {},
   "outputs": [],
   "source": [
    "import pyvips\n",
    "import math\n",
    "import os"
   ]
  },
  {
   "cell_type": "code",
   "execution_count": 13,
   "id": "dac66bf1-34ec-446e-81b0-2a15d631185f",
   "metadata": {},
   "outputs": [],
   "source": [
    "def rotate(img_in, img_out=None, deg=0):\n",
    "    print(str(deg))\n",
    "    filename, file_extension = os.path.splitext(img_in)\n",
    "    if img_out is None:\n",
    "        img_out = filename + '_r' + str(deg) + '.png'\n",
    "    x = pyvips.Image.new_from_file(img_in)\n",
    "    x = x.rotate(deg, interpolate=pyvips.Interpolate.new(\"nearest\"))\n",
    "    x.write_to_file(img_out)\n",
    "    \n",
    "# jpeg, deflate, packbits, ccittfax4, lzw, webp, zstd"
   ]
  },
  {
   "cell_type": "code",
   "execution_count": 14,
   "id": "db84c59b-dba8-4554-add1-992f1d2f8a4d",
   "metadata": {},
   "outputs": [],
   "source": [
    "\n",
    "def rotate_point(origin, point, angle):\n",
    "    \"\"\"\n",
    "    Rotate a point counterclockwise by a given angle around a given origin.\n",
    "\n",
    "    The angle should be given in radians.\n",
    "    If your angle is specified in degrees, you can convert it to radians first using math.radians\n",
    "    \"\"\"\n",
    "    ox, oy = origin\n",
    "    px, py = point\n",
    "\n",
    "    qx = ox + math.cos(angle) * (px - ox) - math.sin(angle) * (py - oy)\n",
    "    qy = oy + math.sin(angle) * (px - ox) + math.cos(angle) * (py - oy)\n",
    "    return qx, qy"
   ]
  },
  {
   "cell_type": "code",
   "execution_count": 9,
   "id": "271f5d51-3497-48e9-a5a0-28d9fcca1cc8",
   "metadata": {},
   "outputs": [],
   "source": [
    "ROOT = r\"D:\\Home\\Dimitris\\OneDrive - University College London\\Data\\images\""
   ]
  },
  {
   "cell_type": "code",
   "execution_count": 10,
   "id": "5d54ed37-8ad1-4f12-8857-3ccd259502b3",
   "metadata": {},
   "outputs": [],
   "source": [
    "slice_dir = ['MsBrain_Eg1_VS6_JH_V6_05-02-2021',\n",
    "             'MsBrain_Eg2_VS6_V11_JH_05-02-2021',\n",
    "             'MsBrain_Eg3_VS6_JH_V6_05-01-2021',\n",
    "             'MsBrain_EG4_VS6library_V6_LH_04-14-21',\n",
    "             'MsBrain_Eg5_VS6_JH_V6_05-16-2021']\n",
    "regions = ['region_0', 'region_1']"
   ]
  },
  {
   "cell_type": "code",
   "execution_count": null,
   "id": "8b88ef3e-facd-4c1e-91db-febafc896d21",
   "metadata": {},
   "outputs": [],
   "source": []
  },
  {
   "cell_type": "code",
   "execution_count": 11,
   "id": "10370777-5d6c-44a2-a91d-5eeba666e92b",
   "metadata": {},
   "outputs": [
    {
     "name": "stdout",
     "output_type": "stream",
     "text": [
      "rotating: D:\\Home\\Dimitris\\OneDrive - University College London\\Data\\images\\MsBrain_Eg1_VS6_JH_V6_05-02-2021\\region_0\\images\\mosaic_DAPI_z3.tif\n",
      "0\n"
     ]
    },
    {
     "ename": "KeyboardInterrupt",
     "evalue": "",
     "output_type": "error",
     "traceback": [
      "\u001b[1;31m---------------------------------------------------------------------------\u001b[0m",
      "\u001b[1;31mKeyboardInterrupt\u001b[0m                         Traceback (most recent call last)",
      "\u001b[1;32m<ipython-input-11-f0dad3f784ff>\u001b[0m in \u001b[0;36m<module>\u001b[1;34m\u001b[0m\n\u001b[0;32m      3\u001b[0m         \u001b[0mpath_str\u001b[0m \u001b[1;33m=\u001b[0m \u001b[0mos\u001b[0m\u001b[1;33m.\u001b[0m\u001b[0mpath\u001b[0m\u001b[1;33m.\u001b[0m\u001b[0mjoin\u001b[0m\u001b[1;33m(\u001b[0m\u001b[0mROOT\u001b[0m\u001b[1;33m,\u001b[0m \u001b[0mslice\u001b[0m\u001b[1;33m,\u001b[0m \u001b[0mregion\u001b[0m\u001b[1;33m,\u001b[0m \u001b[1;34m'images'\u001b[0m\u001b[1;33m,\u001b[0m \u001b[1;34m'mosaic_DAPI_z3.tif'\u001b[0m\u001b[1;33m)\u001b[0m\u001b[1;33m\u001b[0m\u001b[1;33m\u001b[0m\u001b[0m\n\u001b[0;32m      4\u001b[0m         \u001b[0mprint\u001b[0m\u001b[1;33m(\u001b[0m\u001b[1;34m'rotating: %s'\u001b[0m \u001b[1;33m%\u001b[0m \u001b[0mpath_str\u001b[0m\u001b[1;33m)\u001b[0m\u001b[1;33m\u001b[0m\u001b[1;33m\u001b[0m\u001b[0m\n\u001b[1;32m----> 5\u001b[1;33m         \u001b[0mrotate\u001b[0m\u001b[1;33m(\u001b[0m\u001b[0mpath_str\u001b[0m\u001b[1;33m)\u001b[0m\u001b[1;33m\u001b[0m\u001b[1;33m\u001b[0m\u001b[0m\n\u001b[0m\u001b[0;32m      6\u001b[0m \u001b[1;33m\u001b[0m\u001b[0m\n\u001b[0;32m      7\u001b[0m \u001b[0mprint\u001b[0m\u001b[1;33m(\u001b[0m\u001b[1;34m'Done'\u001b[0m\u001b[1;33m)\u001b[0m\u001b[1;33m\u001b[0m\u001b[1;33m\u001b[0m\u001b[0m\n",
      "\u001b[1;32m<ipython-input-7-87392bd6bbc6>\u001b[0m in \u001b[0;36mrotate\u001b[1;34m(img_in, img_out, deg)\u001b[0m\n\u001b[0;32m      6\u001b[0m     \u001b[0mx\u001b[0m \u001b[1;33m=\u001b[0m \u001b[0mpyvips\u001b[0m\u001b[1;33m.\u001b[0m\u001b[0mImage\u001b[0m\u001b[1;33m.\u001b[0m\u001b[0mnew_from_file\u001b[0m\u001b[1;33m(\u001b[0m\u001b[0mimg_in\u001b[0m\u001b[1;33m)\u001b[0m\u001b[1;33m\u001b[0m\u001b[1;33m\u001b[0m\u001b[0m\n\u001b[0;32m      7\u001b[0m     \u001b[0mx\u001b[0m \u001b[1;33m=\u001b[0m \u001b[0mx\u001b[0m\u001b[1;33m.\u001b[0m\u001b[0mrotate\u001b[0m\u001b[1;33m(\u001b[0m\u001b[0mdeg\u001b[0m\u001b[1;33m,\u001b[0m \u001b[0minterpolate\u001b[0m\u001b[1;33m=\u001b[0m\u001b[0mpyvips\u001b[0m\u001b[1;33m.\u001b[0m\u001b[0mInterpolate\u001b[0m\u001b[1;33m.\u001b[0m\u001b[0mnew\u001b[0m\u001b[1;33m(\u001b[0m\u001b[1;34m\"nearest\"\u001b[0m\u001b[1;33m)\u001b[0m\u001b[1;33m)\u001b[0m\u001b[1;33m\u001b[0m\u001b[1;33m\u001b[0m\u001b[0m\n\u001b[1;32m----> 8\u001b[1;33m     \u001b[0mx\u001b[0m\u001b[1;33m.\u001b[0m\u001b[0mwrite_to_file\u001b[0m\u001b[1;33m(\u001b[0m\u001b[0mimg_out\u001b[0m\u001b[1;33m)\u001b[0m\u001b[1;33m\u001b[0m\u001b[1;33m\u001b[0m\u001b[0m\n\u001b[0m\u001b[0;32m      9\u001b[0m \u001b[1;33m\u001b[0m\u001b[0m\n\u001b[0;32m     10\u001b[0m \u001b[1;31m# jpeg, deflate, packbits, ccittfax4, lzw, webp, zstd\u001b[0m\u001b[1;33m\u001b[0m\u001b[1;33m\u001b[0m\u001b[1;33m\u001b[0m\u001b[0m\n",
      "\u001b[1;32m~\\AppData\\Roaming\\Python\\Python37\\site-packages\\pyvips\\vimage.py\u001b[0m in \u001b[0;36mwrite_to_file\u001b[1;34m(self, vips_filename, **kwargs)\u001b[0m\n\u001b[0;32m    543\u001b[0m \u001b[1;33m\u001b[0m\u001b[0m\n\u001b[0;32m    544\u001b[0m         return pyvips.Operation.call(name, self, filename,\n\u001b[1;32m--> 545\u001b[1;33m                                      string_options=options, **kwargs)\n\u001b[0m\u001b[0;32m    546\u001b[0m \u001b[1;33m\u001b[0m\u001b[0m\n\u001b[0;32m    547\u001b[0m     \u001b[1;32mdef\u001b[0m \u001b[0mwrite_to_buffer\u001b[0m\u001b[1;33m(\u001b[0m\u001b[0mself\u001b[0m\u001b[1;33m,\u001b[0m \u001b[0mformat_string\u001b[0m\u001b[1;33m,\u001b[0m \u001b[1;33m**\u001b[0m\u001b[0mkwargs\u001b[0m\u001b[1;33m)\u001b[0m\u001b[1;33m:\u001b[0m\u001b[1;33m\u001b[0m\u001b[1;33m\u001b[0m\u001b[0m\n",
      "\u001b[1;32m~\\AppData\\Roaming\\Python\\Python37\\site-packages\\pyvips\\voperation.py\u001b[0m in \u001b[0;36mcall\u001b[1;34m(operation_name, *args, **kwargs)\u001b[0m\n\u001b[0;32m    278\u001b[0m \u001b[1;33m\u001b[0m\u001b[0m\n\u001b[0;32m    279\u001b[0m         \u001b[1;31m# build operation\u001b[0m\u001b[1;33m\u001b[0m\u001b[1;33m\u001b[0m\u001b[1;33m\u001b[0m\u001b[0m\n\u001b[1;32m--> 280\u001b[1;33m         \u001b[0mvop\u001b[0m \u001b[1;33m=\u001b[0m \u001b[0mvips_lib\u001b[0m\u001b[1;33m.\u001b[0m\u001b[0mvips_cache_operation_build\u001b[0m\u001b[1;33m(\u001b[0m\u001b[0mop\u001b[0m\u001b[1;33m.\u001b[0m\u001b[0mpointer\u001b[0m\u001b[1;33m)\u001b[0m\u001b[1;33m\u001b[0m\u001b[1;33m\u001b[0m\u001b[0m\n\u001b[0m\u001b[0;32m    281\u001b[0m         \u001b[1;32mif\u001b[0m \u001b[0mvop\u001b[0m \u001b[1;33m==\u001b[0m \u001b[0mffi\u001b[0m\u001b[1;33m.\u001b[0m\u001b[0mNULL\u001b[0m\u001b[1;33m:\u001b[0m\u001b[1;33m\u001b[0m\u001b[1;33m\u001b[0m\u001b[0m\n\u001b[0;32m    282\u001b[0m             \u001b[1;32mraise\u001b[0m \u001b[0mError\u001b[0m\u001b[1;33m(\u001b[0m\u001b[1;34m'unable to call {0}'\u001b[0m\u001b[1;33m.\u001b[0m\u001b[0mformat\u001b[0m\u001b[1;33m(\u001b[0m\u001b[0moperation_name\u001b[0m\u001b[1;33m)\u001b[0m\u001b[1;33m)\u001b[0m\u001b[1;33m\u001b[0m\u001b[1;33m\u001b[0m\u001b[0m\n",
      "\u001b[1;31mKeyboardInterrupt\u001b[0m: "
     ]
    }
   ],
   "source": [
    "for slice in slice_dir:\n",
    "    for region in regions:\n",
    "        path_str = os.path.join(ROOT, slice, region, 'images', 'mosaic_DAPI_z3.tif')\n",
    "        print('rotating: %s' % path_str)\n",
    "        rotate(path_str)\n",
    "\n",
    "print('Done')"
   ]
  },
  {
   "cell_type": "code",
   "execution_count": null,
   "id": "acad93a6-19c6-4a29-a131-70f7f67eb969",
   "metadata": {},
   "outputs": [],
   "source": [
    "str(1.5)"
   ]
  },
  {
   "cell_type": "code",
   "execution_count": null,
   "id": "b9c905c2-05ff-42cc-9cef-895f8bb17b47",
   "metadata": {},
   "outputs": [],
   "source": [
    "str(0)"
   ]
  },
  {
   "cell_type": "code",
   "execution_count": null,
   "id": "4b696ac2-813d-4cee-9464-6817b2b9a415",
   "metadata": {},
   "outputs": [],
   "source": [
    "\"D:\\Home\\Dimitris\\OneDrive - University College London\\Data\\images\\MsBrain_Eg1_VS6_JH_V6_05-02-2021\\region_1\\images\\mosaic_DAPI_z3.tif\"\n",
    "\"D:\\Home\\Dimitris\\OneDrive - University College London\\Data\\images\\MsBrain_Eg1_VS6_JH_V6_05-02-2021\\region1\\images\\mosaic_DAPI_z3.tif\""
   ]
  }
 ],
 "metadata": {
  "kernelspec": {
   "display_name": "Python 3",
   "language": "python",
   "name": "python3"
  },
  "language_info": {
   "codemirror_mode": {
    "name": "ipython",
    "version": 3
   },
   "file_extension": ".py",
   "mimetype": "text/x-python",
   "name": "python",
   "nbconvert_exporter": "python",
   "pygments_lexer": "ipython3",
   "version": "3.7.6"
  }
 },
 "nbformat": 4,
 "nbformat_minor": 5
}
