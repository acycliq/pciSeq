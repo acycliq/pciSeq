{
 "cells": [
  {
   "cell_type": "code",
   "execution_count": 2,
   "id": "5dca3ab9-9be0-486a-a5ea-cac49173783a",
   "metadata": {},
   "outputs": [
    {
     "name": "stdout",
     "output_type": "stream",
     "text": [
      "Processing d:\\home\\dimitris\\onedrive - university college london\\dev\\python\\pciseq\\dist\\pciseq-0.0.36.dev2-py3-none-any.whl\n",
      "Collecting pandas\n",
      "  Using cached pandas-1.3.5-cp37-cp37m-win_amd64.whl (10.0 MB)\n",
      "Collecting xarray\n",
      "  Using cached xarray-0.20.2-py3-none-any.whl (845 kB)\n",
      "Collecting scikit-image\n",
      "  Using cached scikit_image-0.19.1-cp37-cp37m-win_amd64.whl (12.4 MB)\n",
      "Collecting numpy\n",
      "  Using cached numpy-1.21.5-cp37-cp37m-win_amd64.whl (14.0 MB)\n",
      "Collecting diplib\n",
      "  Using cached diplib-3.2.0-cp37-cp37m-win_amd64.whl (4.2 MB)\n",
      "Collecting tqdm\n",
      "  Using cached tqdm-4.62.3-py2.py3-none-any.whl (76 kB)\n",
      "Collecting pyvips\n",
      "  Using cached pyvips-2.1.16-py2.py3-none-any.whl\n",
      "Collecting numpy-groupies\n",
      "  Using cached numpy_groupies-0.9.14-py3-none-any.whl\n",
      "Collecting opencv-python\n",
      "  Using cached opencv_python-4.5.5.62-cp36-abi3-win_amd64.whl (35.4 MB)\n",
      "Collecting numexpr\n",
      "  Using cached numexpr-2.8.1-cp37-cp37m-win_amd64.whl (88 kB)\n",
      "Collecting sklearn\n",
      "  Using cached sklearn-0.0-py2.py3-none-any.whl\n",
      "Collecting packaging\n",
      "  Using cached packaging-21.3-py3-none-any.whl (40 kB)\n",
      "Collecting pyparsing!=3.0.5,>=2.0.2\n",
      "  Using cached pyparsing-3.0.7-py3-none-any.whl (98 kB)\n",
      "Collecting pytz>=2017.3\n",
      "  Using cached pytz-2021.3-py2.py3-none-any.whl (503 kB)\n",
      "Collecting python-dateutil>=2.7.3\n",
      "  Using cached python_dateutil-2.8.2-py2.py3-none-any.whl (247 kB)\n",
      "Collecting six>=1.5\n",
      "  Using cached six-1.16.0-py2.py3-none-any.whl (11 kB)\n",
      "Collecting cffi>=1.0.0\n",
      "  Using cached cffi-1.15.0-cp37-cp37m-win_amd64.whl (179 kB)\n",
      "Collecting pycparser\n",
      "  Using cached pycparser-2.21-py2.py3-none-any.whl (118 kB)\n",
      "Collecting PyWavelets>=1.1.1\n",
      "  Using cached PyWavelets-1.2.0-cp37-cp37m-win_amd64.whl (4.2 MB)\n",
      "Collecting pillow!=7.1.0,!=7.1.1,!=8.3.0,>=6.1.0\n",
      "  Using cached Pillow-9.0.1-cp37-cp37m-win_amd64.whl (3.2 MB)\n",
      "Collecting imageio>=2.4.1\n",
      "  Using cached imageio-2.16.0-py3-none-any.whl (3.3 MB)\n",
      "Collecting networkx>=2.2\n",
      "  Using cached networkx-2.6.3-py3-none-any.whl (1.9 MB)\n",
      "Collecting scipy>=1.4.1\n",
      "  Using cached scipy-1.7.3-cp37-cp37m-win_amd64.whl (34.1 MB)\n",
      "Collecting tifffile>=2019.7.26Note: you may need to restart the kernel to use updated packages.\n"
     ]
    },
    {
     "name": "stderr",
     "output_type": "stream",
     "text": [
      "ERROR: Could not install packages due to an OSError: [WinError 5] Access is denied: 'c:\\\\programdata\\\\anaconda3\\\\lib\\\\site-packages\\\\~il\\\\_imaging.cp37-win_amd64.pyd'\n",
      "Consider using the `--user` option or check the permissions.\n",
      "\n"
     ]
    },
    {
     "name": "stdout",
     "output_type": "stream",
     "text": [
      "\n",
      "  Using cached tifffile-2021.11.2-py3-none-any.whl (178 kB)\n",
      "Collecting scikit-learn\n",
      "  Using cached scikit_learn-1.0.2-cp37-cp37m-win_amd64.whl (7.1 MB)\n",
      "Collecting threadpoolctl>=2.0.0\n",
      "  Using cached threadpoolctl-3.1.0-py3-none-any.whl (14 kB)\n",
      "Collecting joblib>=0.11\n",
      "  Using cached joblib-1.1.0-py2.py3-none-any.whl (306 kB)\n",
      "Collecting colorama\n",
      "  Using cached colorama-0.4.4-py2.py3-none-any.whl (16 kB)\n",
      "Collecting importlib-metadata\n",
      "  Using cached importlib_metadata-4.11.1-py3-none-any.whl (17 kB)\n",
      "Collecting typing-extensions>=3.7\n",
      "  Using cached typing_extensions-4.1.1-py3-none-any.whl (26 kB)\n",
      "Collecting zipp>=0.5\n",
      "  Using cached zipp-3.7.0-py3-none-any.whl (5.3 kB)\n",
      "Installing collected packages: six, numpy, zipp, typing-extensions, threadpoolctl, scipy, pytz, python-dateutil, pyparsing, pycparser, pillow, joblib, tifffile, scikit-learn, PyWavelets, pandas, packaging, networkx, importlib-metadata, imageio, colorama, cffi, xarray, tqdm, sklearn, scikit-image, pyvips, opencv-python, numpy-groupies, numexpr, diplib, pciSeq\n",
      "  Attempting uninstall: six\n",
      "    Found existing installation: six 1.16.0\n",
      "    Uninstalling six-1.16.0:\n",
      "      Successfully uninstalled six-1.16.0\n",
      "  Attempting uninstall: numpy\n",
      "    Found existing installation: numpy 1.21.5\n",
      "    Uninstalling numpy-1.21.5:\n",
      "      Successfully uninstalled numpy-1.21.5\n",
      "  Attempting uninstall: zipp\n",
      "    Found existing installation: zipp 3.7.0\n",
      "    Uninstalling zipp-3.7.0:\n",
      "      Successfully uninstalled zipp-3.7.0\n",
      "  Attempting uninstall: typing-extensions\n",
      "    Found existing installation: typing-extensions 4.1.1\n",
      "    Uninstalling typing-extensions-4.1.1:\n",
      "      Successfully uninstalled typing-extensions-4.1.1\n",
      "  Attempting uninstall: threadpoolctl\n",
      "    Found existing installation: threadpoolctl 3.1.0\n",
      "    Uninstalling threadpoolctl-3.1.0:\n",
      "      Successfully uninstalled threadpoolctl-3.1.0\n",
      "  Attempting uninstall: scipy\n",
      "    Found existing installation: scipy 1.7.3\n",
      "    Uninstalling scipy-1.7.3:\n",
      "      Successfully uninstalled scipy-1.7.3\n",
      "  Attempting uninstall: pytz\n",
      "    Found existing installation: pytz 2021.1\n",
      "    Uninstalling pytz-2021.1:\n",
      "      Successfully uninstalled pytz-2021.1\n",
      "  Attempting uninstall: python-dateutil\n",
      "    Found existing installation: python-dateutil 2.8.1\n",
      "    Uninstalling python-dateutil-2.8.1:\n",
      "      Successfully uninstalled python-dateutil-2.8.1\n",
      "  Attempting uninstall: pyparsing\n",
      "    Found existing installation: pyparsing 2.4.7\n",
      "    Uninstalling pyparsing-2.4.7:\n",
      "      Successfully uninstalled pyparsing-2.4.7\n",
      "  Attempting uninstall: pycparser\n",
      "    Found existing installation: pycparser 2.20\n",
      "    Uninstalling pycparser-2.20:\n",
      "      Successfully uninstalled pycparser-2.20\n",
      "  Attempting uninstall: pillow\n",
      "    Found existing installation: Pillow 8.1.2\n",
      "    Uninstalling Pillow-8.1.2:\n",
      "      Successfully uninstalled Pillow-8.1.2\n"
     ]
    }
   ],
   "source": [
    "pip install --force-reinstall \"D:\\Home\\Dimitris\\OneDrive - University College London\\dev\\Python\\pciSeq\\dist\\pciSeq-0.0.36.dev2-py3-none-any.whl\""
   ]
  },
  {
   "cell_type": "code",
   "execution_count": 3,
   "id": "41fea0d1-c1ce-41f8-acf2-6cc668b5511a",
   "metadata": {},
   "outputs": [
    {
     "name": "stdout",
     "output_type": "stream",
     "text": [
      "PyDIPjavaio unavailable:\n",
      "DLL load failed: The specified module could not be found.\n",
      "\n",
      "libjvm not found\n"
     ]
    }
   ],
   "source": [
    "import pciSeq"
   ]
  },
  {
   "cell_type": "code",
   "execution_count": 4,
   "id": "0f882641-80a9-4639-adac-55c0b5305579",
   "metadata": {},
   "outputs": [
    {
     "data": {
      "text/plain": [
       "'0.0.36.dev.2'"
      ]
     },
     "execution_count": 4,
     "metadata": {},
     "output_type": "execute_result"
    }
   ],
   "source": [
    "pciSeq.__version__"
   ]
  },
  {
   "cell_type": "code",
   "execution_count": null,
   "id": "77932301-e972-43ec-a65d-07feab470d66",
   "metadata": {},
   "outputs": [],
   "source": []
  }
 ],
 "metadata": {
  "kernelspec": {
   "display_name": "Python 3",
   "language": "python",
   "name": "python3"
  },
  "language_info": {
   "codemirror_mode": {
    "name": "ipython",
    "version": 3
   },
   "file_extension": ".py",
   "mimetype": "text/x-python",
   "name": "python",
   "nbconvert_exporter": "python",
   "pygments_lexer": "ipython3",
   "version": "3.7.6"
  }
 },
 "nbformat": 4,
 "nbformat_minor": 5
}
