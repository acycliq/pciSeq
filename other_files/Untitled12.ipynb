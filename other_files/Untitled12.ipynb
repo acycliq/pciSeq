{
 "cells": [
  {
   "cell_type": "code",
   "execution_count": 1,
   "id": "1ead552c-1ee7-4d5a-a07f-e623287ead1b",
   "metadata": {},
   "outputs": [],
   "source": [
    "import pickle\n",
    "import numpy as np\n",
    "import pandas as pd"
   ]
  },
  {
   "cell_type": "code",
   "execution_count": 2,
   "id": "e45691da-760f-40f0-b591-8d14c79fb2da",
   "metadata": {},
   "outputs": [
    {
     "name": "stdout",
     "output_type": "stream",
     "text": [
      "Processing d:\\home\\dimitris\\onedrive - university college london\\dev\\python\\pciseq\\dist\\pciseq-0.0.41-py3-none-any.whl\n",
      "Requirement already satisfied: diplib in c:\\users\\skgtdni\\appdata\\roaming\\python\\python37\\site-packages (from pciSeq==0.0.41) (3.2.0)\n",
      "Requirement already satisfied: scikit-image in c:\\users\\skgtdni\\appdata\\roaming\\python\\python37\\site-packages (from pciSeq==0.0.41) (0.19.2)\n",
      "Requirement already satisfied: opencv-python in c:\\users\\skgtdni\\appdata\\roaming\\python\\python37\\site-packages (from pciSeq==0.0.41) (4.5.5.64)\n",
      "Requirement already satisfied: numpy-groupies in c:\\users\\skgtdni\\appdata\\roaming\\python\\python37\\site-packages (from pciSeq==0.0.41) (0.9.16)\n",
      "Requirement already satisfied: sklearn in c:\\users\\skgtdni\\appdata\\roaming\\python\\python37\\site-packages (from pciSeq==0.0.41) (0.0)\n",
      "Requirement already satisfied: numpy in c:\\programdata\\anaconda3\\lib\\site-packages (from pciSeq==0.0.41) (1.21.6)\n",
      "Requirement already satisfied: tqdm in c:\\users\\skgtdni\\appdata\\roaming\\python\\python37\\site-packages (from pciSeq==0.0.41) (4.64.0)\n",
      "Requirement already satisfied: pyvips in c:\\users\\skgtdni\\appdata\\roaming\\python\\python37\\site-packages (from pciSeq==0.0.41) (2.2.0)\n",
      "Requirement already satisfied: pandas in c:\\users\\skgtdni\\appdata\\roaming\\python\\python37\\site-packages (from pciSeq==0.0.41) (1.3.5)\n",
      "Requirement already satisfied: numexpr in c:\\users\\skgtdni\\appdata\\roaming\\python\\python37\\site-packages (from pciSeq==0.0.41) (2.8.1)\n",
      "Requirement already satisfied: xarray in c:\\users\\skgtdni\\appdata\\roaming\\python\\python37\\site-packages (from pciSeq==0.0.41) (0.20.2)\n",
      "Requirement already satisfied: packaging in c:\\users\\skgtdni\\appdata\\roaming\\python\\python37\\site-packages (from numexpr->pciSeq==0.0.41) (21.3)\n",
      "Requirement already satisfied: pyparsing!=3.0.5,>=2.0.2 in c:\\programdata\\anaconda3\\lib\\site-packages (from packaging->numexpr->pciSeq==0.0.41) (3.0.9)\n",
      "Requirement already satisfied: python-dateutil>=2.7.3 in c:\\programdata\\anaconda3\\lib\\site-packages (from pandas->pciSeq==0.0.41) (2.8.2)\n",
      "Requirement already satisfied: pytz>=2017.3 in c:\\programdata\\anaconda3\\lib\\site-packages (from pandas->pciSeq==0.0.41) (2022.1)\n",
      "Requirement already satisfied: six>=1.5 in c:\\programdata\\anaconda3\\lib\\site-packages (from python-dateutil>=2.7.3->pandas->pciSeq==0.0.41) (1.16.0)\n",
      "Requirement already satisfied: cffi>=1.0.0 in c:\\users\\skgtdni\\appdata\\roaming\\python\\python37\\site-packages (from pyvips->pciSeq==0.0.41) (1.15.0)\n",
      "Requirement already satisfied: pycparser in c:\\users\\skgtdni\\appdata\\roaming\\python\\python37\\site-packages (from cffi>=1.0.0->pyvips->pciSeq==0.0.41) (2.21)\n",
      "Requirement already satisfied: imageio>=2.4.1 in c:\\users\\skgtdni\\appdata\\roaming\\python\\python37\\site-packages (from scikit-image->pciSeq==0.0.41) (2.19.2)\n",
      "Requirement already satisfied: tifffile>=2019.7.26 in c:\\users\\skgtdni\\appdata\\roaming\\python\\python37\\site-packages (from scikit-image->pciSeq==0.0.41) (2021.11.2)\n",
      "Requirement already satisfied: networkx>=2.2 in c:\\users\\skgtdni\\appdata\\roaming\\python\\python37\\site-packages (from scikit-image->pciSeq==0.0.41) (2.6.3)\n",
      "Requirement already satisfied: pillow!=7.1.0,!=7.1.1,!=8.3.0,>=6.1.0 in c:\\programdata\\anaconda3\\lib\\site-packages (from scikit-image->pciSeq==0.0.41) (9.1.1)\n",
      "Requirement already satisfied: PyWavelets>=1.1.1 in c:\\users\\skgtdni\\appdata\\roaming\\python\\python37\\site-packages (from scikit-image->pciSeq==0.0.41) (1.3.0)\n",
      "Requirement already satisfied: scipy>=1.4.1 in c:\\programdata\\anaconda3\\lib\\site-packages (from scikit-image->pciSeq==0.0.41) (1.7.3)\n",
      "Requirement already satisfied: scikit-learn in c:\\users\\skgtdni\\appdata\\roaming\\python\\python37\\site-packages (from sklearn->pciSeq==0.0.41) (1.0.2)\n",
      "Requirement already satisfied: joblib>=0.11 in c:\\users\\skgtdni\\appdata\\roaming\\python\\python37\\site-packages (from scikit-learn->sklearn->pciSeq==0.0.41) (1.1.0)\n",
      "Requirement already satisfied: threadpoolctl>=2.0.0 in c:\\programdata\\anaconda3\\lib\\site-packages (from scikit-learn->sklearn->pciSeq==0.0.41) (3.1.0)\n",
      "Requirement already satisfied: colorama in c:\\users\\skgtdni\\appdata\\roaming\\python\\python37\\site-packages (from tqdm->pciSeq==0.0.41) (0.4.4)\n",
      "Requirement already satisfied: importlib-metadata in c:\\users\\skgtdni\\appdata\\roaming\\python\\python37\\site-packages (from xarray->pciSeq==0.0.41) (4.11.3)\n",
      "Requirement already satisfied: typing-extensions>=3.7 in c:\\programdata\\anaconda3\\lib\\site-packages (from xarray->pciSeq==0.0.41) (4.2.0)\n",
      "Requirement already satisfied: zipp>=0.5 in c:\\programdata\\anaconda3\\lib\\site-packages (from importlib-metadata->xarray->pciSeq==0.0.41) (3.8.0)\n",
      "Installing collected packages: pciSeq\n",
      "Successfully installed pciSeq-0.0.41\n"
     ]
    }
   ],
   "source": [
    "!pip install \"D:\\Home\\Dimitris\\OneDrive - University College London\\dev\\Python\\pciSeq\\dist\\pciSeq-0.0.41-py3-none-any.whl\""
   ]
  },
  {
   "cell_type": "code",
   "execution_count": 3,
   "id": "c6a714fb-a022-4a05-a8a9-765f065ade7b",
   "metadata": {},
   "outputs": [],
   "source": [
    "# infile = open('s.dat', 'rb')\n",
    "# a2 = pickle.load(infile)\n",
    "# infile.close()\n",
    "# print(a2)\n",
    "# print(a2.important_data)\n",
    "# print(a2.func())\n",
    "# print(a2.add_two(10))"
   ]
  },
  {
   "cell_type": "code",
   "execution_count": 4,
   "id": "c505cf3b-3866-4ae6-b3ba-1b9f1a9a69b1",
   "metadata": {},
   "outputs": [
    {
     "name": "stdout",
     "output_type": "stream",
     "text": [
      "PyDIPjavaio unavailable:\n",
      "DLL load failed: The specified module could not be found.\n",
      "\n",
      "libjvm not found\n",
      "DIPlib -- a quantitative image analysis library\n",
      "Version 3.2.0 (Feb  8 2022)\n",
      "For more information see https://diplib.org\n"
     ]
    }
   ],
   "source": [
    "infile = open(r'C:\\\\Users\\\\skgtdni\\\\AppData\\\\Local\\\\Temp\\\\pciSeq\\\\pciSeq.pickle', 'rb')\n",
    "pciSeq_data = pickle.load(infile)\n",
    "infile.close()"
   ]
  },
  {
   "cell_type": "code",
   "execution_count": 5,
   "id": "7767a014-cb06-41ba-8f62-e42c7e8f0b55",
   "metadata": {},
   "outputs": [],
   "source": [
    "pc_ca1_1 = np.array(\n",
    "    [0,0,0,0,0,1,0,1,0,4,1,0,0,0,0,0,0,1,0,0,0,1,0,0,0,3,0,3,0,0,0,0,0,0,0,0,0,0,0,0,0,0,0,0,0,0,0,0,1,2,1,0,15,0,0,0,0,0,0,0,0,0,0,0,0,0,0,0,0,0,0,0,0,0,0,0,0,0,6,0,0,0,2,0,0,0,0,0,0,0,0,0]\n",
    ")\n"
   ]
  },
  {
   "cell_type": "code",
   "execution_count": 6,
   "id": "0bca4d94-50a3-4cb1-a364-0a1f63a2784b",
   "metadata": {},
   "outputs": [],
   "source": [
    "out = pciSeq_data.cellType(pc_ca1_1[None, :])"
   ]
  },
  {
   "cell_type": "code",
   "execution_count": 7,
   "id": "89b69e22-6380-4b10-99ad-e7507487a71e",
   "metadata": {},
   "outputs": [
    {
     "data": {
      "text/plain": [
       "(3482, 72)"
      ]
     },
     "execution_count": 7,
     "metadata": {},
     "output_type": "execute_result"
    }
   ],
   "source": [
    "out.shape"
   ]
  },
  {
   "cell_type": "code",
   "execution_count": 8,
   "id": "8051afbf-db31-467d-b572-f95f0269ce5f",
   "metadata": {},
   "outputs": [],
   "source": [
    "pd.DataFrame(out).to_clipboard()"
   ]
  },
  {
   "cell_type": "code",
   "execution_count": 13,
   "id": "d864b55a-8148-424e-8d51-e19fb81c7e1b",
   "metadata": {},
   "outputs": [
    {
     "data": {
      "text/plain": [
       "'PC.Other1'"
      ]
     },
     "execution_count": 13,
     "metadata": {},
     "output_type": "execute_result"
    }
   ],
   "source": [
    "pciSeq_data.single_cell.classes[47]"
   ]
  },
  {
   "cell_type": "code",
   "execution_count": 14,
   "id": "17e30771-a496-4129-9c4f-8c4c63f82047",
   "metadata": {},
   "outputs": [],
   "source": [
    "pc_ca1_1 = np.array(\n",
    "    [0,0,0,0,0,3,0,0,0,4,0,0,0,0,0,0,0,1,0,0,0,1,0,0,0,4,0,4,0,0,0,0,0,0,0,0,1,0,0,0,0,0,1,0,0,0,0,0,1,0,0,0,0,0,0,0,0,0,0,0,0,0,0,1,0,0,0,0,0,0,0,0,0,0,0,0,0,0,1,0,0,0,0,0,0,0,0,0,0,1,0,0]\n",
    ")\n"
   ]
  },
  {
   "cell_type": "code",
   "execution_count": 15,
   "id": "dbae34c8-ba47-4f74-9774-34775cb87e96",
   "metadata": {},
   "outputs": [],
   "source": [
    "out = pciSeq_data.cellType(pc_ca1_1[None, :])"
   ]
  },
  {
   "cell_type": "code",
   "execution_count": 16,
   "id": "68a24bfd-f8b6-4c97-a1ce-974fc585f598",
   "metadata": {},
   "outputs": [],
   "source": [
    "pd.DataFrame(out).to_clipboard()"
   ]
  },
  {
   "cell_type": "code",
   "execution_count": 5,
   "id": "07453e7f-2f50-42a9-974c-37943abb2271",
   "metadata": {},
   "outputs": [
    {
     "data": {
      "text/plain": [
       "'PC.CA1.3'"
      ]
     },
     "execution_count": 5,
     "metadata": {},
     "output_type": "execute_result"
    }
   ],
   "source": [
    "pciSeq_data.single_cell.classes[46]"
   ]
  },
  {
   "cell_type": "code",
   "execution_count": 7,
   "id": "3ea035d8-80f6-4ebf-a216-9e3247aff8f2",
   "metadata": {},
   "outputs": [
    {
     "data": {
      "text/plain": [
       "(3482, 92)"
      ]
     },
     "execution_count": 7,
     "metadata": {},
     "output_type": "execute_result"
    }
   ],
   "source": [
    "pciSeq_data.cells.geneCount.shape"
   ]
  },
  {
   "cell_type": "code",
   "execution_count": 10,
   "id": "e21f5d36-715e-426e-9b0b-3682d238f2ed",
   "metadata": {},
   "outputs": [
    {
     "data": {
      "text/plain": [
       "<bound method VarBayes.cell_to_cellType of <pciSeq.src.cell_call.main.VarBayes object at 0x00000160A68450C8>>"
      ]
     },
     "execution_count": 10,
     "metadata": {},
     "output_type": "execute_result"
    }
   ],
   "source": [
    "pciSeq_data.cell_to_cellType"
   ]
  },
  {
   "cell_type": "code",
   "execution_count": 12,
   "id": "0778275e-4595-4b2d-ad9d-dd8693192fae",
   "metadata": {},
   "outputs": [
    {
     "data": {
      "text/plain": [
       "0.0"
      ]
     },
     "execution_count": 12,
     "metadata": {},
     "output_type": "execute_result"
    }
   ],
   "source": [
    "pciSeq_data.cells.geneCount[0, :].sum()"
   ]
  },
  {
   "cell_type": "code",
   "execution_count": 14,
   "id": "ed6e5088-9ad0-43a3-acd7-55bd92288f04",
   "metadata": {},
   "outputs": [
    {
     "data": {
      "text/plain": [
       "16261.07392596849"
      ]
     },
     "execution_count": 14,
     "metadata": {},
     "output_type": "execute_result"
    }
   ],
   "source": [
    "pciSeq_data.cells.background_counts.sum()"
   ]
  },
  {
   "cell_type": "code",
   "execution_count": 16,
   "id": "2b5ce27b-26bf-41e8-a317-7a5d44eaff7a",
   "metadata": {},
   "outputs": [
    {
     "data": {
      "text/plain": [
       "72329.99999999999"
      ]
     },
     "execution_count": 16,
     "metadata": {},
     "output_type": "execute_result"
    }
   ],
   "source": [
    "pciSeq_data.cells.geneCount.sum() + pciSeq_data.cells.background_counts.sum()"
   ]
  },
  {
   "cell_type": "code",
   "execution_count": 19,
   "id": "538e09b4-480b-40d6-acc6-1531a0899919",
   "metadata": {},
   "outputs": [
    {
     "data": {
      "text/plain": [
       "array(['3110035E14Rik', '6330403K07Rik', 'Adgrl2', 'Aldoc', 'Arpp21',\n",
       "       'Bcl11b', 'Cadps2', 'Calb1', 'Calb2', 'Cck', 'Cdh13', 'Chodl',\n",
       "       'Chrm2', 'Cnr1', 'Col25a1', 'Cort', 'Cox6a2', 'Cplx2', 'Cpne5',\n",
       "       'Crh', 'Crhbp', 'Cryab', 'Crym', 'Cux2', 'Cxcl14', 'Enc1', 'Enpp2',\n",
       "       'Fam19a1', 'Fos', 'Gabrd', 'Gad1', 'Gda', 'Grin3a', 'Hapln1',\n",
       "       'Htr3a', 'Id2', 'Kcnk2', 'Kctd12', 'Kit', 'Lamp5', 'Lhx6', 'Ndnf',\n",
       "       'Neurod6', 'Nos1', 'Nov', 'Npy', 'Npy2r', 'Nr4a2', 'Nrn1', 'Nrsn1',\n",
       "       'Ntng1', 'Pax6', 'Pcp4', 'Pde1a', 'Penk', 'Plcxd2', 'Plp1', 'Pnoc',\n",
       "       'Prkca', 'Pthlh', 'Pvalb', 'Pvrl3', 'Qrfpr', 'Rab3c', 'Rasgrf2',\n",
       "       'Rbp4', 'Reln', 'Rgs10', 'Rgs12', 'Rgs4', 'Rorb', 'Rprm', 'Satb1',\n",
       "       'Scg2', 'Sema3c', 'Serpini1', 'Slc17a8', 'Slc6a1', 'Snca', 'Sncg',\n",
       "       'Sst', 'Sulf2', 'Synpr', 'Tac1', 'Tac2', 'Th', 'Thsd7a',\n",
       "       'Trp53i11', 'Vip', 'Wfs1', 'Yjefn3', 'Zcchc12'], dtype=object)"
      ]
     },
     "execution_count": 19,
     "metadata": {},
     "output_type": "execute_result"
    }
   ],
   "source": [
    "pciSeq_data.genes.gene_panel"
   ]
  },
  {
   "cell_type": "code",
   "execution_count": 20,
   "id": "e4d51478-a57b-4061-a7b2-d503b761f9dc",
   "metadata": {},
   "outputs": [
    {
     "data": {
      "text/plain": [
       "(3481, 92)"
      ]
     },
     "execution_count": 20,
     "metadata": {},
     "output_type": "execute_result"
    }
   ],
   "source": [
    "pciSeq_data.cells.geneCount[1:, :].shape"
   ]
  },
  {
   "cell_type": "code",
   "execution_count": null,
   "id": "307f88c5-a110-45e1-8175-8069ae1404ba",
   "metadata": {},
   "outputs": [],
   "source": []
  }
 ],
 "metadata": {
  "kernelspec": {
   "display_name": "Python 3",
   "language": "python",
   "name": "python3"
  },
  "language_info": {
   "codemirror_mode": {
    "name": "ipython",
    "version": 3
   },
   "file_extension": ".py",
   "mimetype": "text/x-python",
   "name": "python",
   "nbconvert_exporter": "python",
   "pygments_lexer": "ipython3",
   "version": "3.7.6"
  }
 },
 "nbformat": 4,
 "nbformat_minor": 5
}
