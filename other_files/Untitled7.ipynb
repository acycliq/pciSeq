{
 "cells": [
  {
   "cell_type": "code",
   "execution_count": 1,
   "id": "d295726e-3f93-48c8-ab33-6205ce646fcb",
   "metadata": {},
   "outputs": [],
   "source": [
    "import pandas as pd\n",
    "import numpy as np\n",
    "from scipy.sparse import coo_matrix, save_npz, load_npz\n",
    "from PIL import Image"
   ]
  },
  {
   "cell_type": "code",
   "execution_count": 2,
   "id": "2c92346f-19ca-4fb6-9bc7-d04c175d6587",
   "metadata": {},
   "outputs": [],
   "source": [
    "width = 5865  # width of the original image\n",
    "height = 7705 # length of the original image"
   ]
  },
  {
   "cell_type": "code",
   "execution_count": 3,
   "id": "5c207bcb-47c5-422b-ae68-244cb402874d",
   "metadata": {},
   "outputs": [],
   "source": [
    "B2A3_label_image = np.load(r\"D:\\Home\\Dimitris\\OneDrive - University College London\\dev\\Python\\pciSeq\\pciSeq\\data\\B2A3\\B2A3_label_image.npz\")['arr_0']"
   ]
  },
  {
   "cell_type": "code",
   "execution_count": 4,
   "id": "13f3493b-2f4a-4222-a7cd-18b78b051798",
   "metadata": {},
   "outputs": [
    {
     "data": {
      "text/plain": [
       "(71, 1282, 976)"
      ]
     },
     "execution_count": 4,
     "metadata": {},
     "output_type": "execute_result"
    }
   ],
   "source": [
    "B2A3_label_image.shape"
   ]
  },
  {
   "cell_type": "code",
   "execution_count": 5,
   "id": "7a241d6a-064e-4833-ab87-17c34322666b",
   "metadata": {},
   "outputs": [],
   "source": [
    "B2A3_page_40 = B2A3_label_image[40,:, :]"
   ]
  },
  {
   "cell_type": "code",
   "execution_count": 6,
   "id": "abe8f0fd-984d-47fb-994c-1df62cd0b3fc",
   "metadata": {},
   "outputs": [],
   "source": [
    "_img = np.array(Image.fromarray(B2A3_page_40).resize((width, height), Image.NEAREST), dtype=np.uint32)"
   ]
  },
  {
   "cell_type": "code",
   "execution_count": 7,
   "id": "e16d2287-cec4-4ebf-ab17-adb4ce56196e",
   "metadata": {},
   "outputs": [
    {
     "data": {
      "text/plain": [
       "(7705, 5865)"
      ]
     },
     "execution_count": 7,
     "metadata": {},
     "output_type": "execute_result"
    }
   ],
   "source": [
    "_img.shape"
   ]
  },
  {
   "cell_type": "code",
   "execution_count": null,
   "id": "d63fab11-af5d-4cb2-a8f1-ab559e89f6da",
   "metadata": {},
   "outputs": [],
   "source": []
  },
  {
   "cell_type": "code",
   "execution_count": 8,
   "id": "43416fe6-388a-400b-bb56-5111a7bde75d",
   "metadata": {},
   "outputs": [],
   "source": [
    "save_npz('coo_B2A3_page_40.npz', coo_matrix(_img))"
   ]
  },
  {
   "cell_type": "code",
   "execution_count": 9,
   "id": "51316086-5e18-4530-aac7-0ad886f91bf2",
   "metadata": {},
   "outputs": [
    {
     "data": {
      "text/plain": [
       "<7705x5865 sparse matrix of type '<class 'numpy.uint32'>'\n",
       "\twith 12927639 stored elements in COOrdinate format>"
      ]
     },
     "execution_count": 9,
     "metadata": {},
     "output_type": "execute_result"
    }
   ],
   "source": [
    "load_npz(r\"coo_B2A3_page_40.npz\")"
   ]
  },
  {
   "cell_type": "code",
   "execution_count": 23,
   "id": "486649b7-9766-4a3c-80c4-8bf9702097bf",
   "metadata": {},
   "outputs": [
    {
     "data": {
      "text/plain": [
       "<numpy.lib.npyio.NpzFile at 0x1ded8d28088>"
      ]
     },
     "execution_count": 23,
     "metadata": {},
     "output_type": "execute_result"
    }
   ],
   "source": [
    "coo"
   ]
  },
  {
   "cell_type": "code",
   "execution_count": 26,
   "id": "8ea87aee-de0c-4726-aca5-a43557bdca0a",
   "metadata": {},
   "outputs": [],
   "source": [
    "z_start = 35\n",
    "z_end = 46\n",
    "spots = pd.read_csv(r\"D:\\Home\\Dimitris\\OneDrive - University College London\\dev\\Python\\pciSeq\\pciSeq\\data\\B2A3\\spots.csv\")"
   ]
  },
  {
   "cell_type": "code",
   "execution_count": 27,
   "id": "1be4fb7b-d2c4-4397-a133-3d0e3cd618fa",
   "metadata": {},
   "outputs": [
    {
     "data": {
      "text/plain": [
       "(1009330, 4)"
      ]
     },
     "execution_count": 27,
     "metadata": {},
     "output_type": "execute_result"
    }
   ],
   "source": [
    "spots.shape"
   ]
  },
  {
   "cell_type": "code",
   "execution_count": 28,
   "id": "961fcf61-82ba-4660-b276-d3cd030fd074",
   "metadata": {},
   "outputs": [],
   "source": [
    "spots_35_46 = spots[(spots.z >= z_start) & (spots.z < z_end)]"
   ]
  },
  {
   "cell_type": "code",
   "execution_count": 29,
   "id": "b52aebf7-92b5-47d0-8b00-ede5b8bf1688",
   "metadata": {},
   "outputs": [
    {
     "data": {
      "text/plain": [
       "(319173, 4)"
      ]
     },
     "execution_count": 29,
     "metadata": {},
     "output_type": "execute_result"
    }
   ],
   "source": [
    "spots_35_46.shape"
   ]
  },
  {
   "cell_type": "code",
   "execution_count": 31,
   "id": "827ce005-1a6d-4fff-bdec-395d2db564a3",
   "metadata": {},
   "outputs": [],
   "source": [
    "spots_35_46[['x', 'y', 'Gene']].to_csv('spots_35_46.csv', index=False)"
   ]
  },
  {
   "cell_type": "code",
   "execution_count": 33,
   "id": "b9ea2c23-d5b2-45e8-a707-6f618d55523c",
   "metadata": {},
   "outputs": [
    {
     "data": {
      "text/html": [
       "<div>\n",
       "<style scoped>\n",
       "    .dataframe tbody tr th:only-of-type {\n",
       "        vertical-align: middle;\n",
       "    }\n",
       "\n",
       "    .dataframe tbody tr th {\n",
       "        vertical-align: top;\n",
       "    }\n",
       "\n",
       "    .dataframe thead th {\n",
       "        text-align: right;\n",
       "    }\n",
       "</style>\n",
       "<table border=\"1\" class=\"dataframe\">\n",
       "  <thead>\n",
       "    <tr style=\"text-align: right;\">\n",
       "      <th></th>\n",
       "      <th>x</th>\n",
       "      <th>y</th>\n",
       "      <th>Gene</th>\n",
       "    </tr>\n",
       "  </thead>\n",
       "  <tbody>\n",
       "    <tr>\n",
       "      <th>0</th>\n",
       "      <td>3734.724607</td>\n",
       "      <td>6430.34901</td>\n",
       "      <td>Cxcl14</td>\n",
       "    </tr>\n",
       "    <tr>\n",
       "      <th>1</th>\n",
       "      <td>3736.724607</td>\n",
       "      <td>6165.34901</td>\n",
       "      <td>Rgs4</td>\n",
       "    </tr>\n",
       "    <tr>\n",
       "      <th>2</th>\n",
       "      <td>3736.724607</td>\n",
       "      <td>6185.34901</td>\n",
       "      <td>Neurod6</td>\n",
       "    </tr>\n",
       "    <tr>\n",
       "      <th>3</th>\n",
       "      <td>3736.724607</td>\n",
       "      <td>7199.34901</td>\n",
       "      <td>Neurod6</td>\n",
       "    </tr>\n",
       "    <tr>\n",
       "      <th>4</th>\n",
       "      <td>3737.724607</td>\n",
       "      <td>5975.34901</td>\n",
       "      <td>Snca</td>\n",
       "    </tr>\n",
       "    <tr>\n",
       "      <th>...</th>\n",
       "      <td>...</td>\n",
       "      <td>...</td>\n",
       "      <td>...</td>\n",
       "    </tr>\n",
       "    <tr>\n",
       "      <th>319168</th>\n",
       "      <td>1977.929914</td>\n",
       "      <td>1047.00000</td>\n",
       "      <td>Gabrd</td>\n",
       "    </tr>\n",
       "    <tr>\n",
       "      <th>319169</th>\n",
       "      <td>1978.929914</td>\n",
       "      <td>177.00000</td>\n",
       "      <td>Neurod6</td>\n",
       "    </tr>\n",
       "    <tr>\n",
       "      <th>319170</th>\n",
       "      <td>1979.929914</td>\n",
       "      <td>324.00000</td>\n",
       "      <td>Cadps2</td>\n",
       "    </tr>\n",
       "    <tr>\n",
       "      <th>319171</th>\n",
       "      <td>1979.929914</td>\n",
       "      <td>338.00000</td>\n",
       "      <td>Cplx2</td>\n",
       "    </tr>\n",
       "    <tr>\n",
       "      <th>319172</th>\n",
       "      <td>2089.929914</td>\n",
       "      <td>48.00000</td>\n",
       "      <td>Cplx2</td>\n",
       "    </tr>\n",
       "  </tbody>\n",
       "</table>\n",
       "<p>319173 rows × 3 columns</p>\n",
       "</div>"
      ],
      "text/plain": [
       "                  x           y     Gene\n",
       "0       3734.724607  6430.34901   Cxcl14\n",
       "1       3736.724607  6165.34901     Rgs4\n",
       "2       3736.724607  6185.34901  Neurod6\n",
       "3       3736.724607  7199.34901  Neurod6\n",
       "4       3737.724607  5975.34901     Snca\n",
       "...             ...         ...      ...\n",
       "319168  1977.929914  1047.00000    Gabrd\n",
       "319169  1978.929914   177.00000  Neurod6\n",
       "319170  1979.929914   324.00000   Cadps2\n",
       "319171  1979.929914   338.00000    Cplx2\n",
       "319172  2089.929914    48.00000    Cplx2\n",
       "\n",
       "[319173 rows x 3 columns]"
      ]
     },
     "execution_count": 33,
     "metadata": {},
     "output_type": "execute_result"
    }
   ],
   "source": [
    "pd.read_csv('spots_35_46.csv')"
   ]
  },
  {
   "cell_type": "code",
   "execution_count": null,
   "id": "fe7a87c3-0b37-4f44-a87e-1388e012804f",
   "metadata": {},
   "outputs": [],
   "source": [
    "    # read some demo data\n",
    "    _iss_spots = pd.read_csv(os.path.join(ROOT_DIR, 'data', 'B2A3', 'spots_35_46.csv'))\n",
    "    _coo = load_npz(os.path.join(ROOT_DIR, 'data', 'B2A3', 'coo_B2A3_page_40.npz'))\n",
    "\n",
    "    _scRNAseq = pd.read_csv(os.path.join(ROOT_DIR, 'data', 'mouse', 'ca1', 'scRNA', 'scRNAseq.csv.gz'),\n",
    "                            header=None, index_col=0, compression='gzip', dtype=object)\n",
    "    _scRNAseq = _scRNAseq.rename(columns=_scRNAseq.iloc[0], copy=False).iloc[1:]\n",
    "    _scRNAseq = _scRNAseq.astype(float).astype(np.uint32)\n"
   ]
  }
 ],
 "metadata": {
  "kernelspec": {
   "display_name": "Python 3",
   "language": "python",
   "name": "python3"
  },
  "language_info": {
   "codemirror_mode": {
    "name": "ipython",
    "version": 3
   },
   "file_extension": ".py",
   "mimetype": "text/x-python",
   "name": "python",
   "nbconvert_exporter": "python",
   "pygments_lexer": "ipython3",
   "version": "3.7.6"
  }
 },
 "nbformat": 4,
 "nbformat_minor": 5
}
