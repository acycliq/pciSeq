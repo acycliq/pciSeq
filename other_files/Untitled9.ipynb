{
 "cells": [
  {
   "cell_type": "code",
   "execution_count": 1,
   "id": "e162034c-2bfe-4961-a44d-cf91d76feadb",
   "metadata": {},
   "outputs": [],
   "source": [
    "import numpy as np\n",
    "import pandas as pd\n",
    "from scipy.sparse import coo_matrix, load_npz, save_npz\n",
    "import skimage.io\n",
    "import matplotlib.pyplot as plt\n",
    "import os"
   ]
  },
  {
   "cell_type": "code",
   "execution_count": 2,
   "id": "74dfee34-3c34-490a-a2f4-14b910625f5b",
   "metadata": {},
   "outputs": [],
   "source": [
    "coo_list = np.load('B2A3_label_image_truncated.npz', allow_pickle=True)['arr_0']"
   ]
  },
  {
   "cell_type": "code",
   "execution_count": 3,
   "id": "afe94377-4d05-4cc2-a823-68d89cf3f693",
   "metadata": {},
   "outputs": [
    {
     "data": {
      "text/plain": [
       "(72,)"
      ]
     },
     "execution_count": 3,
     "metadata": {},
     "output_type": "execute_result"
    }
   ],
   "source": [
    "coo_list.shape"
   ]
  },
  {
   "cell_type": "code",
   "execution_count": 4,
   "id": "de6463db-ceeb-4346-8287-13dc4b38b9a5",
   "metadata": {},
   "outputs": [],
   "source": [
    "ymin = 2154\n",
    "ymax = 2267\n",
    "xmin = 1333\n",
    "xmax = 1462"
   ]
  },
  {
   "cell_type": "code",
   "execution_count": 5,
   "id": "06a17d0f-d860-4476-bc61-1b415d49d86e",
   "metadata": {},
   "outputs": [
    {
     "name": "stderr",
     "output_type": "stream",
     "text": [
      "C:\\ProgramData\\Anaconda3\\lib\\site-packages\\skimage\\io\\_plugins\\matplotlib_plugin.py:150: UserWarning: Low image data range; displaying image with stretched contrast.\n",
      "  lo, hi, cmap = _get_display_range(image)\n"
     ]
    },
    {
     "data": {
      "text/plain": [
       "<matplotlib.image.AxesImage at 0x224d5c968c8>"
      ]
     },
     "execution_count": 5,
     "metadata": {},
     "output_type": "execute_result"
    },
    {
     "data": {
      "image/png": "[encoded data removed]",
      "text/plain": [
       "<Figure size 432x288 with 2 Axes>"
      ]
     },
     "metadata": {
      "needs_background": "light"
     },
     "output_type": "display_data"
    }
   ],
   "source": [
    "_img = coo_list[40].toarray()\n",
    "_img = _img[ymin:ymax ,xmin:xmax]\n",
    "skimage.io.imshow(_img)"
   ]
  },
  {
   "cell_type": "code",
   "execution_count": 6,
   "id": "d0491f2f-f0f6-4172-ab9b-c2a85398abdd",
   "metadata": {},
   "outputs": [],
   "source": [
    "_iss_spots = pd.read_csv(os.path.join('pciSeq', 'data', 'B2A3', 'truncated_data', 'B2A3_spots_truncated.csv'))\n",
    "buffer = 20\n",
    "mask_x = (_iss_spots.x < xmax) & (_iss_spots.x > xmin)\n",
    "mask_y = (_iss_spots.y < ymax) & (_iss_spots.y > ymin)\n",
    "mask = mask_x & mask_y\n",
    "_iss_spots = _iss_spots[mask]"
   ]
  },
  {
   "cell_type": "code",
   "execution_count": 7,
   "id": "c839c0f9-bb68-4850-aa2a-dcc4f905681a",
   "metadata": {},
   "outputs": [],
   "source": [
    "_iss_spots.x = _iss_spots.x - xmin\n",
    "_iss_spots.y = _iss_spots.y - ymin"
   ]
  },
  {
   "cell_type": "code",
   "execution_count": 8,
   "id": "3ea788bb-7649-4924-9fb8-f99eec17f84d",
   "metadata": {},
   "outputs": [
    {
     "name": "stderr",
     "output_type": "stream",
     "text": [
      "C:\\ProgramData\\Anaconda3\\lib\\site-packages\\skimage\\io\\_plugins\\matplotlib_plugin.py:150: UserWarning: Low image data range; displaying image with stretched contrast.\n",
      "  lo, hi, cmap = _get_display_range(image)\n"
     ]
    },
    {
     "data": {
      "image/png": "[encoded data removed]",
      "text/plain": [
       "<Figure size 432x288 with 2 Axes>"
      ]
     },
     "metadata": {
      "needs_background": "light"
     },
     "output_type": "display_data"
    }
   ],
   "source": [
    "plt.scatter(_iss_spots.x, _iss_spots.y)\n",
    "eclipse_coords = [[146, 48], [144, 58], [140, 68], [135, 77], [127, 86], [118, 93], [107, 99], [96, 103], [84, 106], [71, 107], [58, 107], [45, 104], [33, 101], [22, 95], [12, 88], [3, 80], [-3, 71], [-8, 61], [-12, 51], [-13, 41], [-12, 30], [-9, 20], [-4, 10], [1, 1], [10, -6], [20, -12], [31, -18], [43, -21], [55, -23], [68, -23], [81, -22], [93, -19], [105, -14], [116, -8], [125, -1], [133, 7], [139, 16], [144, 26], [146, 37], [146, 48]]\n",
    "xs, ys = zip(*eclipse_coords) \n",
    "plt.plot(xs, ys, 'red') \n",
    "skimage.io.imshow(_img)\n",
    "plt.show()"
   ]
  },
  {
   "cell_type": "code",
   "execution_count": null,
   "id": "09a8d6de-a60c-44d4-a449-715b03fe2ee0",
   "metadata": {},
   "outputs": [],
   "source": []
  },
  {
   "cell_type": "code",
   "execution_count": 11,
   "id": "c14f9ec6-73fc-4319-9a85-b5b431655f15",
   "metadata": {},
   "outputs": [],
   "source": [
    " _iss_spots = pd.read_csv(r\"D:\\Home\\Dimitris\\OneDrive - University College London\\dev\\Python\\pciSeq\\pciSeq\\data\\B2A3\\truncated_data\\B2A3_spots_truncated.csv\")"
   ]
  },
  {
   "cell_type": "code",
   "execution_count": 16,
   "id": "c38249e3-8b78-4b60-b3ea-b92999756508",
   "metadata": {},
   "outputs": [
    {
     "data": {
      "text/plain": [
       "y        2177.33114\n",
       "x       1386.726932\n",
       "z         16.522209\n",
       "Gene         Bcl11b\n",
       "Name: 267221, dtype: object"
      ]
     },
     "execution_count": 16,
     "metadata": {},
     "output_type": "execute_result"
    }
   ],
   "source": [
    "_iss_spots.iloc[267221,:]"
   ]
  },
  {
   "cell_type": "code",
   "execution_count": null,
   "id": "217aabf3-afee-43c7-a0dd-6ab5e246a735",
   "metadata": {},
   "outputs": [],
   "source": []
  }
 ],
 "metadata": {
  "kernelspec": {
   "display_name": "Python 3",
   "language": "python",
   "name": "python3"
  },
  "language_info": {
   "codemirror_mode": {
    "name": "ipython",
    "version": 3
   },
   "file_extension": ".py",
   "mimetype": "text/x-python",
   "name": "python",
   "nbconvert_exporter": "python",
   "pygments_lexer": "ipython3",
   "version": "3.7.6"
  }
 },
 "nbformat": 4,
 "nbformat_minor": 5
}
