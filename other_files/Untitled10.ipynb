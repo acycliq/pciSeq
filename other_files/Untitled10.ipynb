{
 "cells": [
  {
   "cell_type": "code",
   "execution_count": 1,
   "id": "ea29a2d9-66c2-45ba-9d51-c6648ab5bef4",
   "metadata": {},
   "outputs": [],
   "source": [
    "import numpy as np\n",
    "import pandas as pd"
   ]
  },
  {
   "cell_type": "code",
   "execution_count": 66,
   "id": "841b1575-7145-488f-9f5b-30214be49a7f",
   "metadata": {},
   "outputs": [],
   "source": [
    "def gaussian_ellipsoid_props(cov, sdwidth=None):\n",
    "    \"\"\"\n",
    "    get the scaling, rotation of the ellipsoid\n",
    "    \"\"\"\n",
    "    eigvals, eigvecs = np.linalg.eig(cov)\n",
    "    scaling = sdwidth * np.sqrt(eigvals)\n",
    "    rotation = roll_pitch_yaw(eigvecs)\n",
    "    return scaling, rotation"
   ]
  },
  {
   "cell_type": "code",
   "execution_count": 67,
   "id": "a0ff7f3d-0282-4236-b09a-773ae5e4fe51",
   "metadata": {},
   "outputs": [],
   "source": [
    "def roll_pitch_yaw(R):\n",
    "    \"\"\"\n",
    "    Illustration of the rotation matrix / sometimes called 'orientation' matrix\n",
    "    R = [\n",
    "           R11 , R12 , R13,\n",
    "           R21 , R22 , R23,\n",
    "           R31 , R32 , R33\n",
    "        ]\n",
    "    REMARKS:\n",
    "    1. this implementation is meant to make the mathematics easy to be deciphered\n",
    "    from the script, not so much on 'optimized' code.\n",
    "    You can then optimize it to your own style.\n",
    "    2. I have utilized naval rigid body terminology here whereby;\n",
    "    2.1 roll -> rotation about x-axis\n",
    "    2.2 pitch -> rotation about the y-axis\n",
    "    2.3 yaw -> rotation about the z-axis (this is pointing 'upwards')\n",
    "    \"\"\"\n",
    "    from math import (\n",
    "        asin, pi, atan2, cos\n",
    "    )\n",
    "    R11 = R[0,0]\n",
    "    R12 = R[0,1]\n",
    "    R13 = R[0,2]\n",
    "\n",
    "    R21 = R[1,0]\n",
    "    R22 = R[1,1]\n",
    "    R23 = R[1,2]\n",
    "\n",
    "    R31 = R[2, 0]\n",
    "    R32 = R[2, 1]\n",
    "    R33 = R[2, 2]\n",
    "\n",
    "\n",
    "    if R31 != 1 and R31 != -1:\n",
    "        pitch_1 = -1 * asin(R31)\n",
    "        pitch_2 = pi - pitch_1\n",
    "        roll_1 = atan2(R32 / cos(pitch_1), R33 / cos(pitch_1))\n",
    "        roll_2 = atan2(R32 / cos(pitch_2), R33 / cos(pitch_2))\n",
    "        yaw_1 = atan2(R21 / cos(pitch_1), R11 / cos(pitch_1))\n",
    "        yaw_2 = atan2(R21 / cos(pitch_2), R11 / cos(pitch_2))\n",
    "\n",
    "        # IMPORTANT NOTE here, there is more than one solution but we choose the first for this case for simplicity !\n",
    "        # You can insert your own domain logic here on how to handle both solutions appropriately (see the reference publication link for more info).\n",
    "        pitch = pitch_1\n",
    "        roll = roll_1\n",
    "        yaw = yaw_1\n",
    "    else:\n",
    "        yaw = 0  # anything (we default this to zero)\n",
    "        if R31 == -1:\n",
    "            pitch = pi / 2\n",
    "            roll = yaw + atan2(R12, R13)\n",
    "        else:\n",
    "            pitch = -pi / 2\n",
    "            roll = -1 * yaw + atan2(-1 * R12, -1 * R13)\n",
    "\n",
    "    # convert from radians to degrees\n",
    "    roll = roll * 180 / pi\n",
    "    pitch = pitch * 180 / pi\n",
    "    yaw = yaw * 180 / pi\n",
    "\n",
    "    return [roll, pitch, yaw]"
   ]
  },
  {
   "cell_type": "code",
   "execution_count": 68,
   "id": "c228fcf7-1a7d-4975-896a-00c3a5d026b2",
   "metadata": {},
   "outputs": [
    {
     "data": {
      "text/plain": [
       "array([[1., 0., 0.],\n",
       "       [0., 2., 0.],\n",
       "       [0., 0., 3.]])"
      ]
     },
     "execution_count": 68,
     "metadata": {},
     "output_type": "execute_result"
    }
   ],
   "source": [
    "cov = np.eye(3) * np.array([1,2,3])\n",
    "cov"
   ]
  },
  {
   "cell_type": "code",
   "execution_count": 69,
   "id": "36836b56-e9f2-494e-9623-977c3bb5cc6e",
   "metadata": {},
   "outputs": [
    {
     "data": {
      "text/plain": [
       "(array([3.        , 4.24264069, 5.19615242]), [0.0, -0.0, 0.0])"
      ]
     },
     "execution_count": 69,
     "metadata": {},
     "output_type": "execute_result"
    }
   ],
   "source": [
    "gaussian_ellipsoid_props(cov, sdwidth=3)"
   ]
  },
  {
   "cell_type": "code",
   "execution_count": 70,
   "id": "0866851c-c76e-4ee4-ba8f-e2df0c5720aa",
   "metadata": {},
   "outputs": [
    {
     "data": {
      "text/plain": [
       "5.196152422706632"
      ]
     },
     "execution_count": 70,
     "metadata": {},
     "output_type": "execute_result"
    }
   ],
   "source": [
    "np.sqrt(3) * 3"
   ]
  },
  {
   "cell_type": "code",
   "execution_count": 71,
   "id": "b643395a-b2a7-4247-a7b0-d3716a48337e",
   "metadata": {},
   "outputs": [],
   "source": [
    "# Sample from:\n",
    "d = 3 # Number of dimensions\n",
    "mean = np.matrix([[0.], [1.], [2.]])\n",
    "covariance = np.matrix([\n",
    "    [ 1.0, 0.8,  0.5], \n",
    "    [ 0.8, 1.0,  0.4],\n",
    "    [ 0.5, 0.4,  1.0]\n",
    "])\n",
    "\n",
    "# Create L\n",
    "L = np.linalg.cholesky(covariance)\n",
    "# Sample X from standard normal\n",
    "n = 5000  # Samples to draw\n",
    "X = np.random.normal(size=(d, n))\n",
    "# Apply the transformation\n",
    "Y = L.dot(X) + mean\n"
   ]
  },
  {
   "cell_type": "code",
   "execution_count": 72,
   "id": "b0a0cbac-67d8-43df-8b63-f231657a6756",
   "metadata": {},
   "outputs": [
    {
     "data": {
      "text/plain": [
       "matrix([[-0.21151026,  1.37782697,  2.21241187],\n",
       "        [-1.37984787, -0.05746648,  1.06104902],\n",
       "        [ 0.23122818,  1.17039376,  2.31647355],\n",
       "        ...,\n",
       "        [ 0.56229915,  2.11807091,  1.86661835],\n",
       "        [ 0.25624951,  0.87167439,  3.61280318],\n",
       "        [ 1.79771875,  1.63699606,  1.64952801]])"
      ]
     },
     "execution_count": 72,
     "metadata": {},
     "output_type": "execute_result"
    }
   ],
   "source": [
    "Y.T"
   ]
  },
  {
   "cell_type": "code",
   "execution_count": 73,
   "id": "02894463-af08-4e8a-9808-857f74161cac",
   "metadata": {},
   "outputs": [
    {
     "data": {
      "text/plain": [
       "array([[1.03245147, 0.83361098, 0.50172152],\n",
       "       [0.83361098, 1.02847484, 0.39492964],\n",
       "       [0.50172152, 0.39492964, 0.98213103]])"
      ]
     },
     "execution_count": 73,
     "metadata": {},
     "output_type": "execute_result"
    }
   ],
   "source": [
    "cov_hat = np.cov(Y)\n",
    "cov_hat"
   ]
  },
  {
   "cell_type": "code",
   "execution_count": 103,
   "id": "a8de7945-19f2-4930-ab92-031b235430c3",
   "metadata": {},
   "outputs": [],
   "source": [
    "rho_xy = 0.0\n",
    "sigma_x = 2\n",
    "sigma_y = 3\n",
    "sigma_z = 4\n",
    "my_cov = [\n",
    "    [sigma_x**2, rho_xy*sigma_x*sigma_y, 0],\n",
    "    [rho_xy*sigma_x*sigma_y, sigma_y**2, 0],\n",
    "    [0, 0, sigma_z]\n",
    "    \n",
    "]\n",
    "scaling, rotation = gaussian_ellipsoid_props(3.407345007480164 * np.array(my_cov), sdwidth=1)"
   ]
  },
  {
   "cell_type": "code",
   "execution_count": 104,
   "id": "f27d859b-8f1d-407c-bdc5-b862b66b6c3d",
   "metadata": {},
   "outputs": [
    {
     "data": {
      "text/plain": [
       "array([3.69179902, 5.53769854, 3.69179902])"
      ]
     },
     "execution_count": 104,
     "metadata": {},
     "output_type": "execute_result"
    }
   ],
   "source": [
    "scaling"
   ]
  },
  {
   "cell_type": "code",
   "execution_count": 44,
   "id": "958f8ccb-16e5-485d-9ce4-b425b90266d2",
   "metadata": {},
   "outputs": [
    {
     "data": {
      "text/plain": [
       "[8.098272227944676, 28.23296714865301, -135.731971156704]"
      ]
     },
     "execution_count": 44,
     "metadata": {},
     "output_type": "execute_result"
    }
   ],
   "source": [
    "rotation"
   ]
  },
  {
   "cell_type": "code",
   "execution_count": 55,
   "id": "1a213d8b-2dcc-4363-b96d-5d656ecf546c",
   "metadata": {},
   "outputs": [
    {
     "data": {
      "text/plain": [
       "3.22172324"
      ]
     },
     "execution_count": 55,
     "metadata": {},
     "output_type": "execute_result"
    }
   ],
   "source": []
  },
  {
   "cell_type": "code",
   "execution_count": 78,
   "id": "bc3216ba-dfb2-4374-8dfd-506a846e6353",
   "metadata": {},
   "outputs": [
    {
     "data": {
      "text/plain": [
       "2.4162924315167267"
      ]
     },
     "execution_count": 78,
     "metadata": {},
     "output_type": "execute_result"
    }
   ],
   "source": [
    "scaling[0]/2"
   ]
  },
  {
   "cell_type": "code",
   "execution_count": 79,
   "id": "bc703f4f-eb75-42db-83c3-299e7c980425",
   "metadata": {},
   "outputs": [
    {
     "data": {
      "text/plain": [
       "3.225697573851791"
      ]
     },
     "execution_count": 79,
     "metadata": {},
     "output_type": "execute_result"
    }
   ],
   "source": [
    "scaling[1]/3"
   ]
  },
  {
   "cell_type": "code",
   "execution_count": 81,
   "id": "9748a5c0-f454-479a-9413-76e9f3dfcc59",
   "metadata": {},
   "outputs": [
    {
     "data": {
      "text/plain": [
       "1.4142135623730951"
      ]
     },
     "execution_count": 81,
     "metadata": {},
     "output_type": "execute_result"
    }
   ],
   "source": []
  },
  {
   "cell_type": "code",
   "execution_count": 86,
   "id": "46265977-c61c-47d6-86f3-0cc6991ba446",
   "metadata": {},
   "outputs": [
    {
     "data": {
      "text/plain": [
       "array([ 2.59487516, 10.40512484,  4.        ])"
      ]
     },
     "execution_count": 86,
     "metadata": {},
     "output_type": "execute_result"
    }
   ],
   "source": [
    "scaling**2"
   ]
  },
  {
   "cell_type": "code",
   "execution_count": 89,
   "id": "7fa57fdb-bef2-45bc-8014-8de03d02c07b",
   "metadata": {},
   "outputs": [
    {
     "ename": "SyntaxError",
     "evalue": "invalid character in identifier (<ipython-input-89-dfeba8ef3d14>, line 2)",
     "output_type": "error",
     "traceback": [
      "\u001b[1;36m  File \u001b[1;32m\"<ipython-input-89-dfeba8ef3d14>\"\u001b[1;36m, line \u001b[1;32m2\u001b[0m\n\u001b[1;33m    2*np.log(1−p)\u001b[0m\n\u001b[1;37m               ^\u001b[0m\n\u001b[1;31mSyntaxError\u001b[0m\u001b[1;31m:\u001b[0m invalid character in identifier\n"
     ]
    }
   ],
   "source": [
    "p = 0.99\n",
    "2*np.log(1−p)"
   ]
  },
  {
   "cell_type": "code",
   "execution_count": 96,
   "id": "6b2f227a-b6ef-4dc3-89d7-6fbdb041ae11",
   "metadata": {},
   "outputs": [
    {
     "data": {
      "text/plain": [
       "11.618285980628054"
      ]
     },
     "execution_count": 96,
     "metadata": {},
     "output_type": "execute_result"
    }
   ],
   "source": [
    "p = 0.997\n",
    "-2 * np.log(1-p)"
   ]
  },
  {
   "cell_type": "code",
   "execution_count": 97,
   "id": "b9c41416-b554-4fc4-be64-14af3d6ee5af",
   "metadata": {},
   "outputs": [
    {
     "data": {
      "text/plain": [
       "3.407345007480164"
      ]
     },
     "execution_count": 97,
     "metadata": {},
     "output_type": "execute_result"
    }
   ],
   "source": [
    "np.sqrt(11.61)"
   ]
  },
  {
   "cell_type": "code",
   "execution_count": null,
   "id": "a3e6e0eb-568f-4e43-9331-15e46a9ab4c3",
   "metadata": {},
   "outputs": [],
   "source": [
    "n"
   ]
  }
 ],
 "metadata": {
  "kernelspec": {
   "display_name": "Python 3",
   "language": "python",
   "name": "python3"
  },
  "language_info": {
   "codemirror_mode": {
    "name": "ipython",
    "version": 3
   },
   "file_extension": ".py",
   "mimetype": "text/x-python",
   "name": "python",
   "nbconvert_exporter": "python",
   "pygments_lexer": "ipython3",
   "version": "3.7.6"
  }
 },
 "nbformat": 4,
 "nbformat_minor": 5
}
