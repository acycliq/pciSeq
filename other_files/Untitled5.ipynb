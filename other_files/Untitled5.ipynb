{
 "cells": [
  {
   "cell_type": "code",
   "execution_count": 2,
   "id": "8b991d41-6a49-432c-abe0-023e41b39da5",
   "metadata": {},
   "outputs": [
    {
     "name": "stdout",
     "output_type": "stream",
     "text": [
      "Processing d:\\home\\dimitris\\onedrive - university college london\\dev\\python\\pciseq\\dist\\pciseq-0.0.36.dev2-py3-none-any.whl\n",
      "Collecting sklearn\n",
      "  Using cached sklearn-0.0-py2.py3-none-any.whl\n",
      "Collecting pyvips\n",
      "  Using cached pyvips-2.1.16-py2.py3-none-any.whl\n",
      "Collecting numpy-groupies\n",
      "  Using cached numpy_groupies-0.9.14-py3-none-any.whl\n",
      "Collecting numpy\n",
      "  Using cached numpy-1.21.5-cp37-cp37m-win_amd64.whl (14.0 MB)\n",
      "Collecting numexpr\n",
      "  Using cached numexpr-2.8.1-cp37-cp37m-win_amd64.whl (88 kB)\n",
      "Collecting tqdm\n",
      "  Using cached tqdm-4.62.3-py2.py3-none-any.whl (76 kB)\n",
      "Collecting xarray\n",
      "  Using cached xarray-0.20.2-py3-none-any.whl (845 kB)\n",
      "Collecting scikit-image\n",
      "  Using cached scikit_image-0.19.1-cp37-cp37m-win_amd64.whl (12.4 MB)\n",
      "Collecting diplib\n",
      "  Using cached diplib-3.2.0-cp37-cp37m-win_amd64.whl (4.2 MB)\n",
      "Collecting opencv-python\n",
      "  Using cached opencv_python-4.5.5.62-cp36-abi3-win_amd64.whl (35.4 MB)\n",
      "Collecting pandas\n",
      "  Using cached pandas-1.3.5-cp37-cp37m-win_amd64.whl (10.0 MB)\n",
      "Collecting packaging\n",
      "  Using cached packaging-21.3-py3-none-any.whl (40 kB)\n",
      "Collecting pyparsing!=3.0.5,>=2.0.2\n",
      "  Using cached pyparsing-3.0.7-py3-none-any.whl (98 kB)\n",
      "Collecting python-dateutil>=2.7.3\n",
      "  Using cached python_dateutil-2.8.2-py2.py3-none-any.whl (247 kB)\n",
      "Collecting pytz>=2017.3\n",
      "  Using cached pytz-2021.3-py2.py3-none-any.whl (503 kB)\n",
      "Collecting six>=1.5\n",
      "  Using cached six-1.16.0-py2.py3-none-any.whl (11 kB)\n",
      "Collecting cffi>=1.0.0\n",
      "  Using cached cffi-1.15.0-cp37-cp37m-win_amd64.whl (179 kB)\n",
      "Collecting pycparser\n",
      "  Using cached pycparser-2.21-py2.py3-none-any.whl (118 kB)\n",
      "Collecting pillow!=7.1.0,!=7.1.1,!=8.3.0,>=6.1.0\n",
      "  Using cached Pillow-9.0.1-cp37-cp37m-win_amd64.whl (3.2 MB)\n",
      "Collecting imageio>=2.4.1\n",
      "  Using cached imageio-2.16.0-py3-none-any.whl (3.3 MB)\n",
      "Collecting networkx>=2.2\n",
      "  Using cached networkx-2.6.3-py3-none-any.whl (1.9 MB)\n",
      "Collecting PyWavelets>=1.1.1\n",
      "  Using cached PyWavelets-1.2.0-cp37-cp37m-win_amd64.whl (4.2 MB)\n",
      "Collecting tifffile>=2019.7.26\n",
      "  Using cached tifffile-2021.11.2-py3-none-any.whl (178 kB)\n",
      "Collecting scipy>=1.4.1\n",
      "  Using cached scipy-1.7.3-cp37-cp37m-win_amd64.whl (34.1 MB)\n",
      "Collecting scikit-learn\n",
      "  Using cached scikit_learn-1.0.2-cp37-cp37m-win_amd64.whl (7.1 MB)\n",
      "Collecting threadpoolctl>=2.0.0\n",
      "  Using cached threadpoolctl-3.1.0-py3-none-any.whl (14 kB)\n",
      "Collecting joblib>=0.11\n",
      "  Using cached joblib-1.1.0-py2.py3-none-any.whl (306 kB)\n",
      "Collecting colorama\n",
      "  Using cached colorama-0.4.4-py2.py3-none-any.whl (16 kB)\n",
      "Collecting typing-extensions>=3.7\n",
      "  Using cached typing_extensions-4.1.1-py3-none-any.whl (26 kB)\n",
      "Collecting importlib-metadata\n",
      "  Using cached importlib_metadata-4.11.1-py3-none-any.whl (17 kB)\n",
      "Collecting zipp>=0.5\n",
      "  Using cached zipp-3.7.0-py3-none-any.whl (5.3 kB)\n",
      "Installing collected packages: six, numpy, zipp, typing-extensions, threadpoolctl, scipy, pytz, python-dateutil, pyparsing, pycparser, pillow, joblib, tifffile, scikit-learn, PyWavelets, pandas, packaging, networkx, importlib-metadata, imageio, colorama, cffi, xarray, tqdm, sklearn, scikit-image, pyvips, opencv-python, numpy-groupies, numexpr, diplib, pciSeq\n",
      "  Attempting uninstall: six\n",
      "    Found existing installation: six 1.16.0\n",
      "    Uninstalling six-1.16.0:\n",
      "      Successfully uninstalled six-1.16.0\n",
      "  Attempting uninstall: numpy\n",
      "    Found existing installation: numpy 1.21.5\n",
      "    Uninstalling numpy-1.21.5:\n",
      "      Successfully uninstalled numpy-1.21.5\n",
      "  Attempting uninstall: zipp\n",
      "    Found existing installation: zipp 3.4.1\n",
      "    Uninstalling zipp-3.4.1:\n",
      "      Successfully uninstalled zipp-3.4.1\n",
      "  Attempting uninstall: typing-extensions\n",
      "    Found existing installation: typing-extensions 3.7.4.3\n",
      "    Uninstalling typing-extensions-3.7.4.3:\n",
      "      Successfully uninstalled typing-extensions-3.7.4.3\n",
      "  Attempting uninstall: threadpoolctl\n",
      "    Found existing installation: threadpoolctl 2.1.0\n",
      "    Uninstalling threadpoolctl-2.1.0:\n",
      "      Successfully uninstalled threadpoolctl-2.1.0\n",
      "  Attempting uninstall: scipy\n",
      "    Found existing installation: scipy 1.6.2\n",
      "    Uninstalling scipy-1.6.2:\n",
      "      Successfully uninstalled scipy-1.6.2\n",
      "Note: you may need to restart the kernel to use updated packages.\n"
     ]
    },
    {
     "name": "stderr",
     "output_type": "stream",
     "text": [
      "ERROR: Could not install packages due to an OSError: [WinError 5] Access is denied: 'c:\\\\programdata\\\\anaconda3\\\\lib\\\\site-packages\\\\~cipy\\\\fft\\\\_pocketfft\\\\pypocketfft.cp37-win_amd64.pyd'\n",
      "Consider using the `--user` option or check the permissions.\n",
      "\n"
     ]
    }
   ],
   "source": [
    "pip install --force-reinstall \"D:\\Home\\Dimitris\\OneDrive - University College London\\dev\\Python\\pciSeq\\dist\\pciSeq-0.0.36.dev2-py3-none-any.whl\""
   ]
  },
  {
   "cell_type": "code",
   "execution_count": 1,
   "id": "6284a943-072a-4296-8117-528191ade70c",
   "metadata": {},
   "outputs": [
    {
     "name": "stdout",
     "output_type": "stream",
     "text": [
      "Requirement already satisfied: pciSeq==0.0.36 in c:\\programdata\\anaconda3\\lib\\site-packages (0.0.36)\n",
      "Requirement already satisfied: numpy in c:\\programdata\\anaconda3\\lib\\site-packages (from pciSeq==0.0.36) (1.19.2)\n",
      "Requirement already satisfied: opencv-python in c:\\programdata\\anaconda3\\lib\\site-packages (from pciSeq==0.0.36) (4.5.1.48)\n",
      "Requirement already satisfied: numpy-groupies in c:\\programdata\\anaconda3\\lib\\site-packages (from pciSeq==0.0.36) (0+unknown)\n",
      "Requirement already satisfied: numexpr in c:\\programdata\\anaconda3\\lib\\site-packages (from pciSeq==0.0.36) (2.7.3)\n",
      "Requirement already satisfied: xarray in c:\\programdata\\anaconda3\\lib\\site-packages (from pciSeq==0.0.36) (0.15.1)\n",
      "Requirement already satisfied: diplib in c:\\programdata\\anaconda3\\lib\\site-packages (from pciSeq==0.0.36) (3.0b8)\n",
      "Requirement already satisfied: tqdm in c:\\programdata\\anaconda3\\lib\\site-packages (from pciSeq==0.0.36) (4.50.2)\n",
      "Requirement already satisfied: sklearn in c:\\programdata\\anaconda3\\lib\\site-packages (from pciSeq==0.0.36) (0.0)\n",
      "Requirement already satisfied: scikit-image in c:\\programdata\\anaconda3\\lib\\site-packages (from pciSeq==0.0.36) (0.17.2)\n",
      "Requirement already satisfied: pandas in c:\\programdata\\anaconda3\\lib\\site-packages (from pciSeq==0.0.36) (1.2.3)\n",
      "Requirement already satisfied: pytz>=2017.3 in c:\\programdata\\anaconda3\\lib\\site-packages (from pandas->pciSeq==0.0.36) (2021.1)\n",
      "Requirement already satisfied: python-dateutil>=2.7.3 in c:\\programdata\\anaconda3\\lib\\site-packages (from pandas->pciSeq==0.0.36) (2.8.1)\n",
      "Requirement already satisfied: six>=1.5 in c:\\programdata\\anaconda3\\lib\\site-packages (from python-dateutil>=2.7.3->pandas->pciSeq==0.0.36) (1.15.0)\n",
      "Requirement already satisfied: scipy>=1.0.1 in c:\\programdata\\anaconda3\\lib\\site-packages (from scikit-image->pciSeq==0.0.36) (1.6.2)\n",
      "Requirement already satisfied: matplotlib!=3.0.0,>=2.0.0 in c:\\programdata\\anaconda3\\lib\\site-packages (from scikit-image->pciSeq==0.0.36) (3.3.4)\n",
      "Requirement already satisfied: networkx>=2.0 in c:\\programdata\\anaconda3\\lib\\site-packages (from scikit-image->pciSeq==0.0.36) (2.5)\n",
      "Requirement already satisfied: pillow!=7.1.0,!=7.1.1,>=4.3.0 in c:\\programdata\\anaconda3\\lib\\site-packages (from scikit-image->pciSeq==0.0.36) (8.1.2)\n",
      "Requirement already satisfied: imageio>=2.3.0 in c:\\programdata\\anaconda3\\lib\\site-packages (from scikit-image->pciSeq==0.0.36) (2.9.0)\n",
      "Requirement already satisfied: tifffile>=2019.7.26 in c:\\programdata\\anaconda3\\lib\\site-packages (from scikit-image->pciSeq==0.0.36) (2019.7.26.2)\n",
      "Requirement already satisfied: PyWavelets>=1.1.1 in c:\\programdata\\anaconda3\\lib\\site-packages (from scikit-image->pciSeq==0.0.36) (1.1.1)\n",
      "Requirement already satisfied: cycler>=0.10 in c:\\programdata\\anaconda3\\lib\\site-packages (from matplotlib!=3.0.0,>=2.0.0->scikit-image->pciSeq==0.0.36) (0.10.0)\n",
      "Requirement already satisfied: pyparsing!=2.0.4,!=2.1.2,!=2.1.6,>=2.0.3 in c:\\programdata\\anaconda3\\lib\\site-packages (from matplotlib!=3.0.0,>=2.0.0->scikit-image->pciSeq==0.0.36) (2.4.7)\n",
      "Requirement already satisfied: kiwisolver>=1.0.1 in c:\\programdata\\anaconda3\\lib\\site-packages (from matplotlib!=3.0.0,>=2.0.0->scikit-image->pciSeq==0.0.36) (1.3.1)\n",
      "Requirement already satisfied: decorator>=4.3.0 in c:\\programdata\\anaconda3\\lib\\site-packages (from networkx>=2.0->scikit-image->pciSeq==0.0.36) (4.4.2)\n",
      "Requirement already satisfied: imagecodecs>=2019.11.28 in c:\\programdata\\anaconda3\\lib\\site-packages (from tifffile>=2019.7.26->scikit-image->pciSeq==0.0.36) (2021.1.11)\n",
      "Requirement already satisfied: scikit-learn in c:\\programdata\\anaconda3\\lib\\site-packages (from sklearn->pciSeq==0.0.36) (0.24.1)\n",
      "Requirement already satisfied: joblib>=0.11 in c:\\programdata\\anaconda3\\lib\\site-packages (from scikit-learn->sklearn->pciSeq==0.0.36) (1.0.1)\n",
      "Requirement already satisfied: threadpoolctl>=2.0.0 in c:\\programdata\\anaconda3\\lib\\site-packages (from scikit-learn->sklearn->pciSeq==0.0.36) (2.1.0)\n",
      "Requirement already satisfied: setuptools>=41.2 in c:\\programdata\\anaconda3\\lib\\site-packages (from xarray->pciSeq==0.0.36) (50.3.0.post20201006)\n"
     ]
    }
   ],
   "source": [
    "!pip install pciSeq==0.0.36"
   ]
  },
  {
   "cell_type": "code",
   "execution_count": 4,
   "id": "6b4b2b67-1ed6-42b6-a52f-6fb185ea22bd",
   "metadata": {},
   "outputs": [],
   "source": [
    "import pciSeq"
   ]
  },
  {
   "cell_type": "code",
   "execution_count": 5,
   "id": "bbb15a9f-e5b4-4484-8927-6dfa14271a38",
   "metadata": {},
   "outputs": [
    {
     "ename": "AttributeError",
     "evalue": "module 'pciSeq' has no attribute '__version__'",
     "output_type": "error",
     "traceback": [
      "\u001b[1;31m---------------------------------------------------------------------------\u001b[0m",
      "\u001b[1;31mAttributeError\u001b[0m                            Traceback (most recent call last)",
      "\u001b[1;32m<ipython-input-5-f8fe606de235>\u001b[0m in \u001b[0;36m<module>\u001b[1;34m\u001b[0m\n\u001b[1;32m----> 1\u001b[1;33m \u001b[0mpciSeq\u001b[0m\u001b[1;33m.\u001b[0m\u001b[0m__version__\u001b[0m\u001b[1;33m\u001b[0m\u001b[1;33m\u001b[0m\u001b[0m\n\u001b[0m",
      "\u001b[1;31mAttributeError\u001b[0m: module 'pciSeq' has no attribute '__version__'"
     ]
    }
   ],
   "source": [
    "pciSeq.__version__"
   ]
  },
  {
   "cell_type": "code",
   "execution_count": null,
   "id": "aebd58fc-dcd2-4e10-bd77-c630be022391",
   "metadata": {},
   "outputs": [],
   "source": []
  }
 ],
 "metadata": {
  "kernelspec": {
   "display_name": "Python 3",
   "language": "python",
   "name": "python3"
  },
  "language_info": {
   "codemirror_mode": {
    "name": "ipython",
    "version": 3
   },
   "file_extension": ".py",
   "mimetype": "text/x-python",
   "name": "python",
   "nbconvert_exporter": "python",
   "pygments_lexer": "ipython3",
   "version": "3.7.6"
  }
 },
 "nbformat": 4,
 "nbformat_minor": 5
}
