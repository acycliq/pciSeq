{
 "cells": [
  {
   "cell_type": "markdown",
   "metadata": {
    "id": "N-BfzmdCms2d"
   },
   "source": [
    "# Demo: pciSeq diagnostics\n",
    "This notebook aims to help you monitor on-the-fly how the fit progresses.\n",
    "<div class=\"alert alert-block alert-warning\">\n",
    "<b>Warning:</b> Download and run the notebook locally. Diagnostics run on the browser and the call will fail if the notebook is cloud-based. I couldnt also make redis run on Colab.\n",
    "</div>"
   ]
  },
  {
   "cell_type": "markdown",
   "metadata": {
    "id": "jzHk2QWXms2j"
   },
   "source": [
    "## Installation:"
   ]
  },
  {
   "cell_type": "code",
   "execution_count": 1,
   "metadata": {
    "colab": {
     "base_uri": "https://localhost:8080/"
    },
    "id": "2N3fTzPDms2k",
    "outputId": "99fe3f0d-cb05-445e-cfb0-bd5ac544797c"
   },
   "outputs": [
    {
     "name": "stdout",
     "output_type": "stream",
     "text": [
      "Requirement already satisfied: pciSeq==0.0.54 in c:\\programdata\\anaconda3\\lib\\site-packages (0.0.54)\n",
      "Requirement already satisfied: altair in c:\\programdata\\anaconda3\\lib\\site-packages (from pciSeq==0.0.54) (4.2.0)\n",
      "Requirement already satisfied: pyvips in c:\\programdata\\anaconda3\\lib\\site-packages (from pciSeq==0.0.54) (2.2.1)\n",
      "Requirement already satisfied: scikit-learn in c:\\programdata\\anaconda3\\lib\\site-packages (from pciSeq==0.0.54) (1.1.1)\n",
      "Requirement already satisfied: scipy in c:\\programdata\\anaconda3\\lib\\site-packages (from pciSeq==0.0.54) (1.8.1)\n",
      "Requirement already satisfied: tqdm in c:\\programdata\\anaconda3\\lib\\site-packages (from pciSeq==0.0.54) (4.64.0)\n",
      "Requirement already satisfied: flask in c:\\programdata\\anaconda3\\lib\\site-packages (from pciSeq==0.0.54) (2.1.3)\n",
      "Requirement already satisfied: redis in c:\\programdata\\anaconda3\\lib\\site-packages (from pciSeq==0.0.54) (4.3.4)\n",
      "Requirement already satisfied: diplib in c:\\programdata\\anaconda3\\lib\\site-packages (from pciSeq==0.0.54) (3.3.0)\n",
      "Requirement already satisfied: pandas in c:\\programdata\\anaconda3\\lib\\site-packages (from pciSeq==0.0.54) (1.4.3)\n",
      "Requirement already satisfied: scikit-image in c:\\programdata\\anaconda3\\lib\\site-packages (from pciSeq==0.0.54) (0.19.3)\n",
      "Requirement already satisfied: numexpr in c:\\programdata\\anaconda3\\lib\\site-packages (from pciSeq==0.0.54) (2.7.3)\n",
      "Requirement already satisfied: streamlit in c:\\programdata\\anaconda3\\lib\\site-packages (from pciSeq==0.0.54) (1.11.1)\n",
      "Requirement already satisfied: natsort in c:\\programdata\\anaconda3\\lib\\site-packages (from pciSeq==0.0.54) (8.1.0)\n",
      "Requirement already satisfied: numpy-groupies in c:\\programdata\\anaconda3\\lib\\site-packages (from pciSeq==0.0.54) (0.9.17)\n",
      "Requirement already satisfied: jsonschema>=3.0 in c:\\programdata\\anaconda3\\lib\\site-packages (from altair->pciSeq==0.0.54) (4.7.2)\n",
      "Requirement already satisfied: entrypoints in c:\\programdata\\anaconda3\\lib\\site-packages (from altair->pciSeq==0.0.54) (0.4)\n",
      "Requirement already satisfied: toolz in c:\\programdata\\anaconda3\\lib\\site-packages (from altair->pciSeq==0.0.54) (0.12.0)\n",
      "Requirement already satisfied: jinja2 in c:\\programdata\\anaconda3\\lib\\site-packages (from altair->pciSeq==0.0.54) (3.1.2)\n",
      "Requirement already satisfied: numpy in c:\\programdata\\anaconda3\\lib\\site-packages (from altair->pciSeq==0.0.54) (1.20.3)\n",
      "Requirement already satisfied: pytz>=2020.1 in c:\\programdata\\anaconda3\\lib\\site-packages (from pandas->pciSeq==0.0.54) (2022.1)\n",
      "Requirement already satisfied: python-dateutil>=2.8.1 in c:\\programdata\\anaconda3\\lib\\site-packages (from pandas->pciSeq==0.0.54) (2.8.2)\n",
      "Requirement already satisfied: itsdangerous>=2.0 in c:\\programdata\\anaconda3\\lib\\site-packages (from flask->pciSeq==0.0.54) (2.1.2)\n",
      "Requirement already satisfied: importlib-metadata>=3.6.0 in c:\\programdata\\anaconda3\\lib\\site-packages (from flask->pciSeq==0.0.54) (4.11.4)\n",
      "Requirement already satisfied: click>=8.0 in c:\\programdata\\anaconda3\\lib\\site-packages (from flask->pciSeq==0.0.54) (8.1.3)\n",
      "Requirement already satisfied: Werkzeug>=2.0 in c:\\programdata\\anaconda3\\lib\\site-packages (from flask->pciSeq==0.0.54) (2.1.2)\n",
      "Requirement already satisfied: cffi>=1.0.0 in c:\\programdata\\anaconda3\\lib\\site-packages (from pyvips->pciSeq==0.0.54) (1.15.1)\n",
      "Requirement already satisfied: async-timeout>=4.0.2 in c:\\programdata\\anaconda3\\lib\\site-packages (from redis->pciSeq==0.0.54) (4.0.2)\n",
      "Requirement already satisfied: deprecated>=1.2.3 in c:\\programdata\\anaconda3\\lib\\site-packages (from redis->pciSeq==0.0.54) (1.2.13)\n",
      "Requirement already satisfied: packaging>=20.4 in c:\\programdata\\anaconda3\\lib\\site-packages (from redis->pciSeq==0.0.54) (21.3)\n",
      "Requirement already satisfied: PyWavelets>=1.1.1 in c:\\programdata\\anaconda3\\lib\\site-packages (from scikit-image->pciSeq==0.0.54) (1.3.0)\n",
      "Requirement already satisfied: tifffile>=2019.7.26 in c:\\programdata\\anaconda3\\lib\\site-packages (from scikit-image->pciSeq==0.0.54) (2022.5.4)\n",
      "Requirement already satisfied: networkx>=2.2 in c:\\programdata\\anaconda3\\lib\\site-packages (from scikit-image->pciSeq==0.0.54) (2.8.5)\n",
      "Requirement already satisfied: imageio>=2.4.1 in c:\\programdata\\anaconda3\\lib\\site-packages (from scikit-image->pciSeq==0.0.54) (2.19.3)\n",
      "Requirement already satisfied: pillow!=7.1.0,!=7.1.1,!=8.3.0,>=6.1.0 in c:\\programdata\\anaconda3\\lib\\site-packages (from scikit-image->pciSeq==0.0.54) (9.2.0)\n",
      "Requirement already satisfied: joblib>=1.0.0 in c:\\programdata\\anaconda3\\lib\\site-packages (from scikit-learn->pciSeq==0.0.54) (1.1.0)\n",
      "Requirement already satisfied: threadpoolctl>=2.0.0 in c:\\programdata\\anaconda3\\lib\\site-packages (from scikit-learn->pciSeq==0.0.54) (3.1.0)\n",
      "Requirement already satisfied: protobuf<4,>=3.12 in c:\\programdata\\anaconda3\\lib\\site-packages (from streamlit->pciSeq==0.0.54) (3.20.1)\n",
      "Requirement already satisfied: rich>=10.11.0 in c:\\programdata\\anaconda3\\lib\\site-packages (from streamlit->pciSeq==0.0.54) (12.5.1)\n",
      "Requirement already satisfied: pympler>=0.9 in c:\\programdata\\anaconda3\\lib\\site-packages (from streamlit->pciSeq==0.0.54) (1.0.1)\n",
      "Requirement already satisfied: watchdog in c:\\programdata\\anaconda3\\lib\\site-packages (from streamlit->pciSeq==0.0.54) (2.1.9)\n",
      "Requirement already satisfied: attrs>=16.0.0 in c:\\programdata\\anaconda3\\lib\\site-packages (from streamlit->pciSeq==0.0.54) (21.4.0)\n",
      "Requirement already satisfied: cachetools>=4.0 in c:\\programdata\\anaconda3\\lib\\site-packages (from streamlit->pciSeq==0.0.54) (5.0.0)\n",
      "Requirement already satisfied: validators>=0.2 in c:\\programdata\\anaconda3\\lib\\site-packages (from streamlit->pciSeq==0.0.54) (0.18.2)\n",
      "Requirement already satisfied: tornado>=5.0 in c:\\programdata\\anaconda3\\lib\\site-packages (from streamlit->pciSeq==0.0.54) (6.1)\n",
      "Requirement already satisfied: blinker>=1.0.0 in c:\\programdata\\anaconda3\\lib\\site-packages (from streamlit->pciSeq==0.0.54) (1.4)\n",
      "Requirement already satisfied: typing-extensions>=3.10.0.0 in c:\\programdata\\anaconda3\\lib\\site-packages (from streamlit->pciSeq==0.0.54) (4.3.0)\n",
      "Requirement already satisfied: tzlocal>=1.1 in c:\\programdata\\anaconda3\\lib\\site-packages (from streamlit->pciSeq==0.0.54) (4.2)\n",
      "Requirement already satisfied: pyarrow>=4.0 in c:\\programdata\\anaconda3\\lib\\site-packages (from streamlit->pciSeq==0.0.54) (9.0.0)\n",
      "Requirement already satisfied: gitpython!=3.1.19 in c:\\programdata\\anaconda3\\lib\\site-packages (from streamlit->pciSeq==0.0.54) (3.1.27)\n",
      "Requirement already satisfied: requests>=2.4 in c:\\programdata\\anaconda3\\lib\\site-packages (from streamlit->pciSeq==0.0.54) (2.28.1)\n",
      "Requirement already satisfied: toml in c:\\programdata\\anaconda3\\lib\\site-packages (from streamlit->pciSeq==0.0.54) (0.10.2)\n",
      "Requirement already satisfied: semver in c:\\programdata\\anaconda3\\lib\\site-packages (from streamlit->pciSeq==0.0.54) (2.13.0)\n",
      "Requirement already satisfied: pydeck>=0.1.dev5 in c:\\programdata\\anaconda3\\lib\\site-packages (from streamlit->pciSeq==0.0.54) (0.6.2)\n",
      "Requirement already satisfied: colorama in c:\\programdata\\anaconda3\\lib\\site-packages (from tqdm->pciSeq==0.0.54) (0.4.5)\n",
      "Requirement already satisfied: pycparser in c:\\programdata\\anaconda3\\lib\\site-packages (from cffi>=1.0.0->pyvips->pciSeq==0.0.54) (2.21)\n",
      "Requirement already satisfied: wrapt<2,>=1.10 in c:\\programdata\\anaconda3\\lib\\site-packages (from deprecated>=1.2.3->redis->pciSeq==0.0.54) (1.11.2)\n",
      "Requirement already satisfied: gitdb<5,>=4.0.1 in c:\\programdata\\anaconda3\\lib\\site-packages (from gitpython!=3.1.19->streamlit->pciSeq==0.0.54) (4.0.9)\n",
      "Requirement already satisfied: zipp>=0.5 in c:\\programdata\\anaconda3\\lib\\site-packages (from importlib-metadata>=3.6.0->flask->pciSeq==0.0.54) (3.8.0)\n",
      "Requirement already satisfied: MarkupSafe>=2.0 in c:\\programdata\\anaconda3\\lib\\site-packages (from jinja2->altair->pciSeq==0.0.54) (2.1.1)\n",
      "Requirement already satisfied: pyrsistent!=0.17.0,!=0.17.1,!=0.17.2,>=0.14.0 in c:\\programdata\\anaconda3\\lib\\site-packages (from jsonschema>=3.0->altair->pciSeq==0.0.54) (0.18.1)\n",
      "Requirement already satisfied: importlib-resources>=1.4.0 in c:\\programdata\\anaconda3\\lib\\site-packages (from jsonschema>=3.0->altair->pciSeq==0.0.54) (5.8.0)\n",
      "Requirement already satisfied: pyparsing!=3.0.5,>=2.0.2 in c:\\programdata\\anaconda3\\lib\\site-packages (from packaging>=20.4->redis->pciSeq==0.0.54) (3.0.9)\n",
      "Requirement already satisfied: ipykernel>=5.1.2 in c:\\programdata\\anaconda3\\lib\\site-packages (from pydeck>=0.1.dev5->streamlit->pciSeq==0.0.54) (6.15.1)\n",
      "Requirement already satisfied: traitlets>=4.3.2 in c:\\programdata\\anaconda3\\lib\\site-packages (from pydeck>=0.1.dev5->streamlit->pciSeq==0.0.54) (5.3.0)\n",
      "Requirement already satisfied: ipywidgets>=7.0.0 in c:\\programdata\\anaconda3\\lib\\site-packages (from pydeck>=0.1.dev5->streamlit->pciSeq==0.0.54) (7.7.1)\n",
      "Requirement already satisfied: six>=1.5 in c:\\programdata\\anaconda3\\lib\\site-packages (from python-dateutil>=2.8.1->pandas->pciSeq==0.0.54) (1.16.0)\n",
      "Requirement already satisfied: urllib3<1.27,>=1.21.1 in c:\\programdata\\anaconda3\\lib\\site-packages (from requests>=2.4->streamlit->pciSeq==0.0.54) (1.26.10)\n",
      "Requirement already satisfied: charset-normalizer<3,>=2 in c:\\programdata\\anaconda3\\lib\\site-packages (from requests>=2.4->streamlit->pciSeq==0.0.54) (2.1.0)\n",
      "Requirement already satisfied: idna<4,>=2.5 in c:\\programdata\\anaconda3\\lib\\site-packages (from requests>=2.4->streamlit->pciSeq==0.0.54) (3.3)\n",
      "Requirement already satisfied: certifi>=2017.4.17 in c:\\programdata\\anaconda3\\lib\\site-packages (from requests>=2.4->streamlit->pciSeq==0.0.54) (2022.12.7)\n",
      "Requirement already satisfied: commonmark<0.10.0,>=0.9.0 in c:\\programdata\\anaconda3\\lib\\site-packages (from rich>=10.11.0->streamlit->pciSeq==0.0.54) (0.9.1)\n",
      "Requirement already satisfied: pygments<3.0.0,>=2.6.0 in c:\\programdata\\anaconda3\\lib\\site-packages (from rich>=10.11.0->streamlit->pciSeq==0.0.54) (2.12.0)\n",
      "Requirement already satisfied: tzdata in c:\\programdata\\anaconda3\\lib\\site-packages (from tzlocal>=1.1->streamlit->pciSeq==0.0.54) (2022.1)\n",
      "Requirement already satisfied: pytz-deprecation-shim in c:\\programdata\\anaconda3\\lib\\site-packages (from tzlocal>=1.1->streamlit->pciSeq==0.0.54) (0.1.0.post0)\n",
      "Requirement already satisfied: backports.zoneinfo in c:\\programdata\\anaconda3\\lib\\site-packages (from tzlocal>=1.1->streamlit->pciSeq==0.0.54) (0.2.1)\n",
      "Requirement already satisfied: decorator>=3.4.0 in c:\\programdata\\anaconda3\\lib\\site-packages (from validators>=0.2->streamlit->pciSeq==0.0.54) (5.1.1)\n",
      "Requirement already satisfied: smmap<6,>=3.0.1 in c:\\programdata\\anaconda3\\lib\\site-packages (from gitdb<5,>=4.0.1->gitpython!=3.1.19->streamlit->pciSeq==0.0.54) (3.0.5)\n",
      "Requirement already satisfied: ipython>=7.23.1 in c:\\programdata\\anaconda3\\lib\\site-packages (from ipykernel>=5.1.2->pydeck>=0.1.dev5->streamlit->pciSeq==0.0.54) (8.4.0)\n",
      "Requirement already satisfied: psutil in c:\\programdata\\anaconda3\\lib\\site-packages (from ipykernel>=5.1.2->pydeck>=0.1.dev5->streamlit->pciSeq==0.0.54) (5.9.1)\n",
      "Requirement already satisfied: matplotlib-inline>=0.1 in c:\\programdata\\anaconda3\\lib\\site-packages (from ipykernel>=5.1.2->pydeck>=0.1.dev5->streamlit->pciSeq==0.0.54) (0.1.3)\n",
      "Requirement already satisfied: jupyter-client>=6.1.12 in c:\\programdata\\anaconda3\\lib\\site-packages (from ipykernel>=5.1.2->pydeck>=0.1.dev5->streamlit->pciSeq==0.0.54) (7.3.4)\n",
      "Requirement already satisfied: nest-asyncio in c:\\programdata\\anaconda3\\lib\\site-packages (from ipykernel>=5.1.2->pydeck>=0.1.dev5->streamlit->pciSeq==0.0.54) (1.5.5)\n",
      "Requirement already satisfied: pyzmq>=17 in c:\\programdata\\anaconda3\\lib\\site-packages (from ipykernel>=5.1.2->pydeck>=0.1.dev5->streamlit->pciSeq==0.0.54) (23.2.0)\n",
      "Requirement already satisfied: debugpy>=1.0 in c:\\programdata\\anaconda3\\lib\\site-packages (from ipykernel>=5.1.2->pydeck>=0.1.dev5->streamlit->pciSeq==0.0.54) (1.6.0)\n",
      "Requirement already satisfied: jupyterlab-widgets>=1.0.0 in c:\\programdata\\anaconda3\\lib\\site-packages (from ipywidgets>=7.0.0->pydeck>=0.1.dev5->streamlit->pciSeq==0.0.54) (1.1.1)\n",
      "Requirement already satisfied: ipython-genutils~=0.2.0 in c:\\programdata\\anaconda3\\lib\\site-packages (from ipywidgets>=7.0.0->pydeck>=0.1.dev5->streamlit->pciSeq==0.0.54) (0.2.0)\n",
      "Requirement already satisfied: widgetsnbextension~=3.6.0 in c:\\programdata\\anaconda3\\lib\\site-packages (from ipywidgets>=7.0.0->pydeck>=0.1.dev5->streamlit->pciSeq==0.0.54) (3.6.1)\n",
      "Requirement already satisfied: prompt-toolkit!=3.0.0,!=3.0.1,<3.1.0,>=2.0.0 in c:\\programdata\\anaconda3\\lib\\site-packages (from ipython>=7.23.1->ipykernel>=5.1.2->pydeck>=0.1.dev5->streamlit->pciSeq==0.0.54) (3.0.30)\n",
      "Requirement already satisfied: stack-data in c:\\programdata\\anaconda3\\lib\\site-packages (from ipython>=7.23.1->ipykernel>=5.1.2->pydeck>=0.1.dev5->streamlit->pciSeq==0.0.54) (0.3.0)\n",
      "Requirement already satisfied: jedi>=0.16 in c:\\programdata\\anaconda3\\lib\\site-packages (from ipython>=7.23.1->ipykernel>=5.1.2->pydeck>=0.1.dev5->streamlit->pciSeq==0.0.54) (0.17.2)\n",
      "Requirement already satisfied: pickleshare in c:\\programdata\\anaconda3\\lib\\site-packages (from ipython>=7.23.1->ipykernel>=5.1.2->pydeck>=0.1.dev5->streamlit->pciSeq==0.0.54) (0.7.5)\n",
      "Requirement already satisfied: backcall in c:\\programdata\\anaconda3\\lib\\site-packages (from ipython>=7.23.1->ipykernel>=5.1.2->pydeck>=0.1.dev5->streamlit->pciSeq==0.0.54) (0.2.0)\n",
      "Requirement already satisfied: setuptools>=18.5 in c:\\programdata\\anaconda3\\lib\\site-packages (from ipython>=7.23.1->ipykernel>=5.1.2->pydeck>=0.1.dev5->streamlit->pciSeq==0.0.54) (63.2.0)\n",
      "Requirement already satisfied: jupyter-core>=4.9.2 in c:\\programdata\\anaconda3\\lib\\site-packages (from jupyter-client>=6.1.12->ipykernel>=5.1.2->pydeck>=0.1.dev5->streamlit->pciSeq==0.0.54) (4.11.1)\n",
      "Requirement already satisfied: notebook>=4.4.1 in c:\\programdata\\anaconda3\\lib\\site-packages (from widgetsnbextension~=3.6.0->ipywidgets>=7.0.0->pydeck>=0.1.dev5->streamlit->pciSeq==0.0.54) (6.4.12)\n",
      "Requirement already satisfied: parso<0.8.0,>=0.7.0 in c:\\programdata\\anaconda3\\lib\\site-packages (from jedi>=0.16->ipython>=7.23.1->ipykernel>=5.1.2->pydeck>=0.1.dev5->streamlit->pciSeq==0.0.54) (0.7.0)\n",
      "Requirement already satisfied: pywin32>=1.0 in c:\\programdata\\anaconda3\\lib\\site-packages (from jupyter-core>=4.9.2->jupyter-client>=6.1.12->ipykernel>=5.1.2->pydeck>=0.1.dev5->streamlit->pciSeq==0.0.54) (303)\n",
      "Requirement already satisfied: nbformat in c:\\programdata\\anaconda3\\lib\\site-packages (from notebook>=4.4.1->widgetsnbextension~=3.6.0->ipywidgets>=7.0.0->pydeck>=0.1.dev5->streamlit->pciSeq==0.0.54) (5.4.0)\n",
      "Requirement already satisfied: prometheus-client in c:\\programdata\\anaconda3\\lib\\site-packages (from notebook>=4.4.1->widgetsnbextension~=3.6.0->ipywidgets>=7.0.0->pydeck>=0.1.dev5->streamlit->pciSeq==0.0.54) (0.14.1)\n",
      "Requirement already satisfied: terminado>=0.8.3 in c:\\programdata\\anaconda3\\lib\\site-packages (from notebook>=4.4.1->widgetsnbextension~=3.6.0->ipywidgets>=7.0.0->pydeck>=0.1.dev5->streamlit->pciSeq==0.0.54) (0.15.0)\n",
      "Requirement already satisfied: Send2Trash>=1.8.0 in c:\\programdata\\anaconda3\\lib\\site-packages (from notebook>=4.4.1->widgetsnbextension~=3.6.0->ipywidgets>=7.0.0->pydeck>=0.1.dev5->streamlit->pciSeq==0.0.54) (1.8.0)\n",
      "Requirement already satisfied: argon2-cffi in c:\\programdata\\anaconda3\\lib\\site-packages (from notebook>=4.4.1->widgetsnbextension~=3.6.0->ipywidgets>=7.0.0->pydeck>=0.1.dev5->streamlit->pciSeq==0.0.54) (21.3.0)\n",
      "Requirement already satisfied: nbconvert>=5 in c:\\programdata\\anaconda3\\lib\\site-packages (from notebook>=4.4.1->widgetsnbextension~=3.6.0->ipywidgets>=7.0.0->pydeck>=0.1.dev5->streamlit->pciSeq==0.0.54) (6.5.0)\n",
      "Requirement already satisfied: wcwidth in c:\\programdata\\anaconda3\\lib\\site-packages (from prompt-toolkit!=3.0.0,!=3.0.1,<3.1.0,>=2.0.0->ipython>=7.23.1->ipykernel>=5.1.2->pydeck>=0.1.dev5->streamlit->pciSeq==0.0.54) (0.2.5)\n",
      "Requirement already satisfied: pure-eval in c:\\programdata\\anaconda3\\lib\\site-packages (from stack-data->ipython>=7.23.1->ipykernel>=5.1.2->pydeck>=0.1.dev5->streamlit->pciSeq==0.0.54) (0.2.2)\n",
      "Requirement already satisfied: executing in c:\\programdata\\anaconda3\\lib\\site-packages (from stack-data->ipython>=7.23.1->ipykernel>=5.1.2->pydeck>=0.1.dev5->streamlit->pciSeq==0.0.54) (0.8.3)\n",
      "Requirement already satisfied: asttokens in c:\\programdata\\anaconda3\\lib\\site-packages (from stack-data->ipython>=7.23.1->ipykernel>=5.1.2->pydeck>=0.1.dev5->streamlit->pciSeq==0.0.54) (2.0.5)\n",
      "Requirement already satisfied: beautifulsoup4 in c:\\programdata\\anaconda3\\lib\\site-packages (from nbconvert>=5->notebook>=4.4.1->widgetsnbextension~=3.6.0->ipywidgets>=7.0.0->pydeck>=0.1.dev5->streamlit->pciSeq==0.0.54) (4.11.1)\n",
      "Requirement already satisfied: tinycss2 in c:\\programdata\\anaconda3\\lib\\site-packages (from nbconvert>=5->notebook>=4.4.1->widgetsnbextension~=3.6.0->ipywidgets>=7.0.0->pydeck>=0.1.dev5->streamlit->pciSeq==0.0.54) (1.1.1)\n",
      "Requirement already satisfied: jupyterlab-pygments in c:\\programdata\\anaconda3\\lib\\site-packages (from nbconvert>=5->notebook>=4.4.1->widgetsnbextension~=3.6.0->ipywidgets>=7.0.0->pydeck>=0.1.dev5->streamlit->pciSeq==0.0.54) (0.2.2)\n",
      "Requirement already satisfied: pandocfilters>=1.4.1 in c:\\programdata\\anaconda3\\lib\\site-packages (from nbconvert>=5->notebook>=4.4.1->widgetsnbextension~=3.6.0->ipywidgets>=7.0.0->pydeck>=0.1.dev5->streamlit->pciSeq==0.0.54) (1.5.0)\n",
      "Requirement already satisfied: mistune<2,>=0.8.1 in c:\\programdata\\anaconda3\\lib\\site-packages (from nbconvert>=5->notebook>=4.4.1->widgetsnbextension~=3.6.0->ipywidgets>=7.0.0->pydeck>=0.1.dev5->streamlit->pciSeq==0.0.54) (0.8.4)\n",
      "Requirement already satisfied: defusedxml in c:\\programdata\\anaconda3\\lib\\site-packages (from nbconvert>=5->notebook>=4.4.1->widgetsnbextension~=3.6.0->ipywidgets>=7.0.0->pydeck>=0.1.dev5->streamlit->pciSeq==0.0.54) (0.7.1)\n",
      "Requirement already satisfied: nbclient>=0.5.0 in c:\\programdata\\anaconda3\\lib\\site-packages (from nbconvert>=5->notebook>=4.4.1->widgetsnbextension~=3.6.0->ipywidgets>=7.0.0->pydeck>=0.1.dev5->streamlit->pciSeq==0.0.54) (0.6.6)\n",
      "Requirement already satisfied: bleach in c:\\programdata\\anaconda3\\lib\\site-packages (from nbconvert>=5->notebook>=4.4.1->widgetsnbextension~=3.6.0->ipywidgets>=7.0.0->pydeck>=0.1.dev5->streamlit->pciSeq==0.0.54) (5.0.1)\n",
      "Requirement already satisfied: fastjsonschema in c:\\programdata\\anaconda3\\lib\\site-packages (from nbformat->notebook>=4.4.1->widgetsnbextension~=3.6.0->ipywidgets>=7.0.0->pydeck>=0.1.dev5->streamlit->pciSeq==0.0.54) (2.16.1)\n",
      "Requirement already satisfied: pywinpty>=1.1.0 in c:\\programdata\\anaconda3\\lib\\site-packages (from terminado>=0.8.3->notebook>=4.4.1->widgetsnbextension~=3.6.0->ipywidgets>=7.0.0->pydeck>=0.1.dev5->streamlit->pciSeq==0.0.54) (2.0.6)\n",
      "Requirement already satisfied: argon2-cffi-bindings in c:\\programdata\\anaconda3\\lib\\site-packages (from argon2-cffi->notebook>=4.4.1->widgetsnbextension~=3.6.0->ipywidgets>=7.0.0->pydeck>=0.1.dev5->streamlit->pciSeq==0.0.54) (21.2.0)\n",
      "Requirement already satisfied: soupsieve>1.2 in c:\\programdata\\anaconda3\\lib\\site-packages (from beautifulsoup4->nbconvert>=5->notebook>=4.4.1->widgetsnbextension~=3.6.0->ipywidgets>=7.0.0->pydeck>=0.1.dev5->streamlit->pciSeq==0.0.54) (2.3.2.post1)\n",
      "Requirement already satisfied: webencodings in c:\\programdata\\anaconda3\\lib\\site-packages (from bleach->nbconvert>=5->notebook>=4.4.1->widgetsnbextension~=3.6.0->ipywidgets>=7.0.0->pydeck>=0.1.dev5->streamlit->pciSeq==0.0.54) (0.5.1)\n"
     ]
    }
   ],
   "source": [
    "!pip install pciSeq==0.0.54"
   ]
  },
  {
   "cell_type": "markdown",
   "metadata": {
    "id": "kih1uz8yms2k"
   },
   "source": [
    "Other libraries needed for this notebook:"
   ]
  },
  {
   "cell_type": "code",
   "execution_count": 2,
   "metadata": {
    "colab": {
     "base_uri": "https://localhost:8080/"
    },
    "id": "rPyZnE0Mms2l",
    "outputId": "9bc465fa-6542-4dc0-a190-56a52b6fa90e"
   },
   "outputs": [
    {
     "name": "stdout",
     "output_type": "stream",
     "text": [
      "DIPlib -- a quantitative image analysis library\n",
      "Version 3.3.0 (May 21 2022)\n",
      "For more information see https://diplib.org\n"
     ]
    }
   ],
   "source": [
    "import os\n",
    "import numpy as np\n",
    "import pandas as pd\n",
    "from scipy.sparse import load_npz, coo_matrix\n",
    "import pciSeq"
   ]
  },
  {
   "cell_type": "code",
   "execution_count": 3,
   "metadata": {
    "colab": {
     "base_uri": "https://localhost:8080/",
     "height": 36
    },
    "id": "9sSZslhtu_zd",
    "outputId": "81c8978a-890d-4f41-f4c5-e588600f626b"
   },
   "outputs": [
    {
     "data": {
      "text/plain": [
       "'0.0.54'"
      ]
     },
     "execution_count": 3,
     "metadata": {},
     "output_type": "execute_result"
    }
   ],
   "source": [
    "pciSeq.__version__"
   ]
  },
  {
   "cell_type": "markdown",
   "metadata": {},
   "source": [
    "## 1. Diagnostics"
   ]
  },
  {
   "cell_type": "markdown",
   "metadata": {},
   "source": [
    "Diagnostics is a dashboard aiming to help users understand, on the fly, whether the algorithm is heading towards the wrong direction. If that happends he/she can stop the run at the spot instead of waiting until the very end (which could take a while) to examine the results and realise that they do not make sense. He/she can then reconfigure the hyperparameters and start again pciSeq"
   ]
  },
  {
   "cell_type": "markdown",
   "metadata": {},
   "source": [
    "### 1.1. Prerequisities"
   ]
  },
  {
   "cell_type": "markdown",
   "metadata": {},
   "source": [
    "You must install redis if you are on Linux, or Memurai if you are on Windows. \n",
    "\n",
    "For redis do:\n",
    "* sudo apt-get install redis-server redis-tools \n",
    "\n",
    "and then start the service: \n",
    "\n",
    "* sudo service redis-server start\n",
    "\n",
    "You can get memurai from [here](https://www.memurai.com/get-memurai). Once installed, the service should start automatically but you can manually start it by: \n",
    "\n",
    "* memurai.exe --service-start \n",
    "\n",
    "If for whatever reason you cannot install redis (or memurai) then pass *'launch_diagnostics': False* in the options dict when you call *pciSeq.fit()*. Redis serves as layer to pass data from the main python loop to the dashboard. By setting *'launch_diagnostics': False* this communication should be prevented and redis shouldnt got into the landscape."
   ]
  },
  {
   "cell_type": "markdown",
   "metadata": {},
   "source": [
    "### 1.2. The dashboard"
   ]
  },
  {
   "cell_type": "markdown",
   "metadata": {},
   "source": [
    "We skip the preliminairies, they have been covered on the other notebooks, and we go straight to the *fit()* method having first loaded some demo data"
   ]
  },
  {
   "cell_type": "code",
   "execution_count": 4,
   "metadata": {},
   "outputs": [],
   "source": [
    "coo_file = pciSeq.utils.load_from_url('https://github.com/acycliq/pciSeq/blob/dev/pciSeq/data/mouse/ca1/segmentation/label_image.coo.npz?raw=true')\n",
    "coo = load_npz(coo_file)"
   ]
  },
  {
   "cell_type": "code",
   "execution_count": 5,
   "metadata": {},
   "outputs": [],
   "source": [
    "spots_file = pciSeq.utils.load_from_url('https://github.com/acycliq/pciSeq/blob/dev/pciSeq/data/mouse/ca1/iss/spots.csv?raw=true')\n",
    "iss_spots = pd.read_csv(spots_file)"
   ]
  },
  {
   "cell_type": "code",
   "execution_count": 6,
   "metadata": {},
   "outputs": [],
   "source": [
    "sc_file = pciSeq.utils.load_from_url('https://github.com/acycliq/pciSeq/blob/dev/pciSeq/data/mouse/ca1/scRNA/scRNAseq.csv.gz?raw=true')\n",
    "scRNAseq = pd.read_csv(sc_file, header=None, index_col=0, compression='gzip', dtype=object)\n",
    "scRNAseq = scRNAseq.rename(columns=scRNAseq.iloc[0], copy=False).iloc[1:]\n",
    "scRNAseq = scRNAseq.astype(float).astype(np.uint32)"
   ]
  },
  {
   "cell_type": "code",
   "execution_count": 7,
   "metadata": {},
   "outputs": [],
   "source": [
    "pciSeq.attach_to_log()"
   ]
  },
  {
   "cell_type": "code",
   "execution_count": 8,
   "metadata": {},
   "outputs": [],
   "source": [
    "# Switch on the diagnostics\n",
    "opts = {'launch_diagnostics': True} "
   ]
  },
  {
   "cell_type": "markdown",
   "metadata": {},
   "source": [
    "**Do not miss to read some useful comments at the bottom of this notebook, section 2.1. You can jump straight to them by clicking [here](#2.1-Reading-the-dashboard).**"
   ]
  },
  {
   "cell_type": "code",
   "execution_count": 9,
   "metadata": {},
   "outputs": [
    {
     "name": "stderr",
     "output_type": "stream",
     "text": [
      "[2023-07-03 01:38:34] INFO    (app.py:226)  launch_diagnostics is set to True\n",
      "[2023-07-03 01:38:34] INFO    (app.py:251) check_redis_server\n",
      "[2023-07-03 01:38:36] INFO    (utils.py: 67)  enabling keyspace events... OK\n",
      "[2023-07-03 01:38:36] INFO    (app.py:122) Launching the diagnostics dashboard\n",
      "[2023-07-03 01:38:36] INFO    (app.py:126)  Preprocessing data\n",
      "[2023-07-03 01:38:37] INFO    (spot_labels.py: 69)  Number of spots passed-in: 72336\n",
      "[2023-07-03 01:38:37] INFO    (spot_labels.py: 70)  Number of segmented cells: 3481\n",
      "[2023-07-03 01:38:37] INFO    (spot_labels.py: 71)  Segmentation array implies that image has width: 7602px and height: 5471px\n",
      "[2023-07-03 01:38:51] INFO    (utils.py: 67)  enabling keyspace events... OK\n",
      "[2023-07-03 01:38:51] INFO    (datatypes.py:460)  Single cell data passed-in have 27998 genes and 5712 cells\n",
      "[2023-07-03 01:38:51] INFO    (datatypes.py:462)  Single cell data: Keeping counts for the gene panel of 92 only\n",
      "[2023-07-03 01:38:51] INFO    (datatypes.py:474)  Single cell data: Grouping gene counts by cell type. Aggregating function is the mean.\n",
      "[2023-07-03 01:38:51] INFO    (datatypes.py:476)  Grouped single cell data have 92 genes and 71 cell types\n",
      "[2023-07-03 01:38:51] INFO    (app.py:160)  Start cell typing\n",
      "[2023-07-03 01:38:55] INFO    (main.py: 86)  Iteration 0, mean prob change 1.000000\n",
      "[2023-07-03 01:38:56] INFO    (main.py: 86)  Iteration 1, mean prob change 0.899874\n",
      "[2023-07-03 01:38:58] INFO    (main.py: 86)  Iteration 2, mean prob change 0.670799\n",
      "[2023-07-03 01:38:59] INFO    (main.py: 86)  Iteration 3, mean prob change 0.470356\n",
      "[2023-07-03 01:39:01] INFO    (main.py: 86)  Iteration 4, mean prob change 0.627468\n",
      "[2023-07-03 01:39:03] INFO    (main.py: 86)  Iteration 5, mean prob change 0.580998\n",
      "[2023-07-03 01:39:04] INFO    (main.py: 86)  Iteration 6, mean prob change 0.605054\n",
      "[2023-07-03 01:39:05] INFO    (main.py: 86)  Iteration 7, mean prob change 0.281664\n",
      "[2023-07-03 01:39:07] INFO    (main.py: 86)  Iteration 8, mean prob change 0.262912\n",
      "[2023-07-03 01:39:08] INFO    (main.py: 86)  Iteration 9, mean prob change 0.191133\n",
      "[2023-07-03 01:39:09] INFO    (main.py: 86)  Iteration 10, mean prob change 0.558235\n",
      "[2023-07-03 01:39:10] INFO    (main.py: 86)  Iteration 11, mean prob change 0.190493\n",
      "[2023-07-03 01:39:11] INFO    (main.py: 86)  Iteration 12, mean prob change 0.248299\n",
      "[2023-07-03 01:39:13] INFO    (main.py: 86)  Iteration 13, mean prob change 0.282528\n",
      "[2023-07-03 01:39:14] INFO    (main.py: 86)  Iteration 14, mean prob change 0.068274\n",
      "[2023-07-03 01:39:15] INFO    (main.py: 86)  Iteration 15, mean prob change 0.160980\n",
      "[2023-07-03 01:39:16] INFO    (main.py: 86)  Iteration 16, mean prob change 0.582828\n",
      "[2023-07-03 01:39:17] INFO    (main.py: 86)  Iteration 17, mean prob change 0.167344\n",
      "[2023-07-03 01:39:18] INFO    (main.py: 86)  Iteration 18, mean prob change 0.148894\n",
      "[2023-07-03 01:39:20] INFO    (main.py: 86)  Iteration 19, mean prob change 0.122970\n",
      "[2023-07-03 01:39:21] INFO    (main.py: 86)  Iteration 20, mean prob change 0.089855\n",
      "[2023-07-03 01:39:22] INFO    (main.py: 86)  Iteration 21, mean prob change 0.044864\n",
      "[2023-07-03 01:39:23] INFO    (main.py: 86)  Iteration 22, mean prob change 0.067801\n",
      "[2023-07-03 01:39:24] INFO    (main.py: 86)  Iteration 23, mean prob change 0.107513\n",
      "[2023-07-03 01:39:25] INFO    (main.py: 86)  Iteration 24, mean prob change 0.191525\n",
      "[2023-07-03 01:39:27] INFO    (main.py: 86)  Iteration 25, mean prob change 0.162755\n",
      "[2023-07-03 01:39:28] INFO    (main.py: 86)  Iteration 26, mean prob change 0.062075\n",
      "[2023-07-03 01:39:29] INFO    (main.py: 86)  Iteration 27, mean prob change 0.044864\n",
      "[2023-07-03 01:39:30] INFO    (main.py: 86)  Iteration 28, mean prob change 0.031515\n",
      "[2023-07-03 01:39:31] INFO    (main.py: 86)  Iteration 29, mean prob change 0.019637\n",
      "[2023-07-03 01:39:31] INFO    (summary.py: 23)  Start collecting data ...\n",
      "[2023-07-03 01:39:31] INFO    (summary.py: 47)  Data collected!\n",
      "[2023-07-03 01:39:32] INFO    (app.py:153)  Done\n"
     ]
    }
   ],
   "source": [
    "cellData, geneData = pciSeq.fit(spots=iss_spots, coo=coo, scRNAseq=scRNAseq, opts=opts)"
   ]
  },
  {
   "cell_type": "markdown",
   "metadata": {},
   "source": [
    "#### 2.1 Reading the dashboard"
   ]
  },
  {
   "cell_type": "markdown",
   "metadata": {},
   "source": [
    "The dashboard should now be running on another tab of your browser. It should show two plots similar to the ones below; They are getting refreshed on every loop as they algorithm tries to converge.\n",
    "\n",
    "Gene efficiency can be thought of as the ratio between the observed and the theoretical gene counts. The default value for example, is 0.2 which means that on average for each gene we expect to have 5 times less counts than those expressed in the single cell data. If I had included a plot of the gene efficiency before the start of the iterations then we should have had a bar chart where all bars have the same length and equal to 0.2. This value however changes based on our prior views coupled with evidence that comes from the data and is crystallised when the algorithm converges. This gradual shift  from the data-agnostic state (where only the prior 0.2 is available) to the optimal one is shown in the left plot of the dashboard. It is easy to see for example that Neurod6 stands out with a gene efficiency close to 1.35. Technically, the plot show the mean of the approximated (ie variational) posterior distribution.\n",
    "\n",
    "In my view, the most useful plot to check whether something has gone horrible wrong is the plot on the right. In each loop, it calculates how many cells have been assigned to each cell class and then plots those cell counts. The class that stands out is the Zero class, we see that about 1030 out of the total 3481 (around 30%) have been classed as Zero class. This is not uncommon, quite often the Zero class is the most populated class (could be more than 30% on some occasions). If something has gone wrong however then the vast majority (around 95%) of the cells will be Zero class. If that happens, then one reason could be that the gene efficiency needs to be adjusted. The user should reflect about the reference data (single cell data) and the experiment and set the inefficiency value to something that relfects the case.\n",
    "\n",
    "To familiarise yourself, the user is encouraged to purposely kick-off *pciSeq.fit()* with a mis-specified value for inefficiency, set for example *'Inefficiency': 100* or even *'Inefficiency': 1000*. You will notice that gene efficiency hardly moves as the algorithms loops and all cells end up under the Zero class. With the demo data, the fit finishes after a few runs, your data however maybe more demanding; Hopefully these diagnostic plots will help you detect problems at the very starting stages and you will not have to wait until the end to realise that some has been mispecified. \n",
    "\n",
    "If you are confident that you have set a reasonable value for Inefficiency and despite that and despite that you get way too many Zero class cells, then a contributing factor could be the *MisreadDensity*. A higher value, (for example from 1e-5 to 1e-4) will tilt the likelihood towards a view that considers the spots as misreads and that will have a knock-on effect on the cell-to-cellClass assignments which will demonstrate itself by the abundance of Zero class cells in our results.\n",
    "\n",
    "Most often however it is the *Inefficiency* that needs tweaking and not the *MisreadDensity*.\n",
    "\n",
    "Notes: \n",
    " - You can close the diagnostics tab while the algorithm converges, nothing will happen to the main loop, they are handled by different processes.\n",
    " - I am using the terms *Inefficiency* and *gene efficiency* interchangeably, they mean exaclty the same thing (which TBH doesnt look very effcient as a way of writing... Strictly speaking they are the complete opposite!)"
   ]
  },
  {
   "cell_type": "markdown",
   "metadata": {},
   "source": [
    "<img src=\"diagnostics.gif\" />"
   ]
  },
  {
   "cell_type": "code",
   "execution_count": null,
   "metadata": {},
   "outputs": [],
   "source": []
  }
 ],
 "metadata": {
  "colab": {
   "name": "pciSeq.ipynb",
   "provenance": []
  },
  "kernelspec": {
   "display_name": "Python 3 (ipykernel)",
   "language": "python",
   "name": "python3"
  },
  "language_info": {
   "codemirror_mode": {
    "name": "ipython",
    "version": 3
   },
   "file_extension": ".py",
   "mimetype": "text/x-python",
   "name": "python",
   "nbconvert_exporter": "python",
   "pygments_lexer": "ipython3",
   "version": "3.8.13"
  }
 },
 "nbformat": 4,
 "nbformat_minor": 4
}
