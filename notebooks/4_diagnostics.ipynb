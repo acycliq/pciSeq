{
 "cells": [
  {
   "cell_type": "markdown",
   "metadata": {
    "id": "N-BfzmdCms2d"
   },
   "source": [
    "# Demo: pciSeq diagnostics\n",
    "Diagnostics aim to help you monitor on-the-fly how the fit progresses.\n",
    "<div class=\"alert alert-block alert-warning\">\n",
    "<b>Note:</b> Download and run the notebook locally. Diagnostics run on the browser and the call will fail if the notebook is cloud-based. I couldnt also make redis run on Colab.\n",
    "</div>"
   ]
  },
  {
   "cell_type": "markdown",
   "metadata": {
    "id": "jzHk2QWXms2j"
   },
   "source": [
    "## Installation:"
   ]
  },
  {
   "cell_type": "code",
   "execution_count": 1,
   "metadata": {
    "colab": {
     "base_uri": "https://localhost:8080/"
    },
    "id": "2N3fTzPDms2k",
    "outputId": "2390d2ad-3916-494b-f1c8-e44915ddaccf"
   },
   "outputs": [
    {
     "output_type": "stream",
     "name": "stdout",
     "text": [
      "Requirement already satisfied: pciSeq==0.0.56 in /usr/local/lib/python3.10/dist-packages (0.0.56)\n",
      "Requirement already satisfied: numpy-groupies in /usr/local/lib/python3.10/dist-packages (from pciSeq==0.0.56) (0.9.22)\n",
      "Requirement already satisfied: pandas in /usr/local/lib/python3.10/dist-packages (from pciSeq==0.0.56) (1.5.3)\n",
      "Requirement already satisfied: scipy in /usr/local/lib/python3.10/dist-packages (from pciSeq==0.0.56) (1.10.1)\n",
      "Requirement already satisfied: streamlit in /usr/local/lib/python3.10/dist-packages (from pciSeq==0.0.56) (1.24.0)\n",
      "Requirement already satisfied: altair in /usr/local/lib/python3.10/dist-packages (from pciSeq==0.0.56) (4.2.2)\n",
      "Requirement already satisfied: scikit-image in /usr/local/lib/python3.10/dist-packages (from pciSeq==0.0.56) (0.19.3)\n",
      "Requirement already satisfied: scikit-learn in /usr/local/lib/python3.10/dist-packages (from pciSeq==0.0.56) (1.2.2)\n",
      "Requirement already satisfied: tqdm in /usr/local/lib/python3.10/dist-packages (from pciSeq==0.0.56) (4.65.0)\n",
      "Requirement already satisfied: flask in /usr/local/lib/python3.10/dist-packages (from pciSeq==0.0.56) (2.2.5)\n",
      "Requirement already satisfied: numexpr in /usr/local/lib/python3.10/dist-packages (from pciSeq==0.0.56) (2.8.4)\n",
      "Requirement already satisfied: diplib in /usr/local/lib/python3.10/dist-packages (from pciSeq==0.0.56) (3.4.0)\n",
      "Requirement already satisfied: pyvips in /usr/local/lib/python3.10/dist-packages (from pciSeq==0.0.56) (2.2.1)\n",
      "Requirement already satisfied: natsort in /usr/local/lib/python3.10/dist-packages (from pciSeq==0.0.56) (8.3.1)\n",
      "Requirement already satisfied: redis in /usr/local/lib/python3.10/dist-packages (from pciSeq==0.0.56) (4.6.0)\n",
      "Requirement already satisfied: entrypoints in /usr/local/lib/python3.10/dist-packages (from altair->pciSeq==0.0.56) (0.4)\n",
      "Requirement already satisfied: jinja2 in /usr/local/lib/python3.10/dist-packages (from altair->pciSeq==0.0.56) (3.1.2)\n",
      "Requirement already satisfied: jsonschema>=3.0 in /usr/local/lib/python3.10/dist-packages (from altair->pciSeq==0.0.56) (4.3.3)\n",
      "Requirement already satisfied: numpy in /usr/local/lib/python3.10/dist-packages (from altair->pciSeq==0.0.56) (1.22.4)\n",
      "Requirement already satisfied: toolz in /usr/local/lib/python3.10/dist-packages (from altair->pciSeq==0.0.56) (0.12.0)\n",
      "Requirement already satisfied: python-dateutil>=2.8.1 in /usr/local/lib/python3.10/dist-packages (from pandas->pciSeq==0.0.56) (2.8.2)\n",
      "Requirement already satisfied: pytz>=2020.1 in /usr/local/lib/python3.10/dist-packages (from pandas->pciSeq==0.0.56) (2022.7.1)\n",
      "Requirement already satisfied: Werkzeug>=2.2.2 in /usr/local/lib/python3.10/dist-packages (from flask->pciSeq==0.0.56) (2.3.6)\n",
      "Requirement already satisfied: itsdangerous>=2.0 in /usr/local/lib/python3.10/dist-packages (from flask->pciSeq==0.0.56) (2.1.2)\n",
      "Requirement already satisfied: click>=8.0 in /usr/local/lib/python3.10/dist-packages (from flask->pciSeq==0.0.56) (8.1.3)\n",
      "Requirement already satisfied: cffi>=1.0.0 in /usr/local/lib/python3.10/dist-packages (from pyvips->pciSeq==0.0.56) (1.15.1)\n",
      "Requirement already satisfied: async-timeout>=4.0.2 in /usr/local/lib/python3.10/dist-packages (from redis->pciSeq==0.0.56) (4.0.2)\n",
      "Requirement already satisfied: networkx>=2.2 in /usr/local/lib/python3.10/dist-packages (from scikit-image->pciSeq==0.0.56) (3.1)\n",
      "Requirement already satisfied: pillow!=7.1.0,!=7.1.1,!=8.3.0,>=6.1.0 in /usr/local/lib/python3.10/dist-packages (from scikit-image->pciSeq==0.0.56) (8.4.0)\n",
      "Requirement already satisfied: imageio>=2.4.1 in /usr/local/lib/python3.10/dist-packages (from scikit-image->pciSeq==0.0.56) (2.25.1)\n",
      "Requirement already satisfied: tifffile>=2019.7.26 in /usr/local/lib/python3.10/dist-packages (from scikit-image->pciSeq==0.0.56) (2023.4.12)\n",
      "Requirement already satisfied: PyWavelets>=1.1.1 in /usr/local/lib/python3.10/dist-packages (from scikit-image->pciSeq==0.0.56) (1.4.1)\n",
      "Requirement already satisfied: packaging>=20.0 in /usr/local/lib/python3.10/dist-packages (from scikit-image->pciSeq==0.0.56) (23.1)\n",
      "Requirement already satisfied: joblib>=1.1.1 in /usr/local/lib/python3.10/dist-packages (from scikit-learn->pciSeq==0.0.56) (1.2.0)\n",
      "Requirement already satisfied: threadpoolctl>=2.0.0 in /usr/local/lib/python3.10/dist-packages (from scikit-learn->pciSeq==0.0.56) (3.1.0)\n",
      "Requirement already satisfied: blinker<2,>=1.0.0 in /usr/local/lib/python3.10/dist-packages (from streamlit->pciSeq==0.0.56) (1.6.2)\n",
      "Requirement already satisfied: cachetools<6,>=4.0 in /usr/local/lib/python3.10/dist-packages (from streamlit->pciSeq==0.0.56) (5.3.1)\n",
      "Requirement already satisfied: importlib-metadata<7,>=1.4 in /usr/local/lib/python3.10/dist-packages (from streamlit->pciSeq==0.0.56) (6.7.0)\n",
      "Requirement already satisfied: protobuf<5,>=3.20 in /usr/local/lib/python3.10/dist-packages (from streamlit->pciSeq==0.0.56) (3.20.3)\n",
      "Requirement already satisfied: pyarrow>=4.0 in /usr/local/lib/python3.10/dist-packages (from streamlit->pciSeq==0.0.56) (9.0.0)\n",
      "Requirement already satisfied: pympler<2,>=0.9 in /usr/local/lib/python3.10/dist-packages (from streamlit->pciSeq==0.0.56) (1.0.1)\n",
      "Requirement already satisfied: requests<3,>=2.4 in /usr/local/lib/python3.10/dist-packages (from streamlit->pciSeq==0.0.56) (2.27.1)\n",
      "Requirement already satisfied: rich<14,>=10.11.0 in /usr/local/lib/python3.10/dist-packages (from streamlit->pciSeq==0.0.56) (13.4.2)\n",
      "Requirement already satisfied: tenacity<9,>=8.0.0 in /usr/local/lib/python3.10/dist-packages (from streamlit->pciSeq==0.0.56) (8.2.2)\n",
      "Requirement already satisfied: toml<2 in /usr/local/lib/python3.10/dist-packages (from streamlit->pciSeq==0.0.56) (0.10.2)\n",
      "Requirement already satisfied: typing-extensions<5,>=4.0.1 in /usr/local/lib/python3.10/dist-packages (from streamlit->pciSeq==0.0.56) (4.6.3)\n",
      "Requirement already satisfied: tzlocal<5,>=1.1 in /usr/local/lib/python3.10/dist-packages (from streamlit->pciSeq==0.0.56) (4.3.1)\n",
      "Requirement already satisfied: validators<1,>=0.2 in /usr/local/lib/python3.10/dist-packages (from streamlit->pciSeq==0.0.56) (0.20.0)\n",
      "Requirement already satisfied: gitpython!=3.1.19,<4,>=3 in /usr/local/lib/python3.10/dist-packages (from streamlit->pciSeq==0.0.56) (3.1.31)\n",
      "Requirement already satisfied: pydeck<1,>=0.1.dev5 in /usr/local/lib/python3.10/dist-packages (from streamlit->pciSeq==0.0.56) (0.8.1b0)\n",
      "Requirement already satisfied: tornado<7,>=6.0.3 in /usr/local/lib/python3.10/dist-packages (from streamlit->pciSeq==0.0.56) (6.3.1)\n",
      "Requirement already satisfied: watchdog in /usr/local/lib/python3.10/dist-packages (from streamlit->pciSeq==0.0.56) (3.0.0)\n",
      "Requirement already satisfied: pycparser in /usr/local/lib/python3.10/dist-packages (from cffi>=1.0.0->pyvips->pciSeq==0.0.56) (2.21)\n",
      "Requirement already satisfied: gitdb<5,>=4.0.1 in /usr/local/lib/python3.10/dist-packages (from gitpython!=3.1.19,<4,>=3->streamlit->pciSeq==0.0.56) (4.0.10)\n",
      "Requirement already satisfied: zipp>=0.5 in /usr/local/lib/python3.10/dist-packages (from importlib-metadata<7,>=1.4->streamlit->pciSeq==0.0.56) (3.15.0)\n",
      "Requirement already satisfied: MarkupSafe>=2.0 in /usr/local/lib/python3.10/dist-packages (from jinja2->altair->pciSeq==0.0.56) (2.1.3)\n",
      "Requirement already satisfied: attrs>=17.4.0 in /usr/local/lib/python3.10/dist-packages (from jsonschema>=3.0->altair->pciSeq==0.0.56) (23.1.0)\n",
      "Requirement already satisfied: pyrsistent!=0.17.0,!=0.17.1,!=0.17.2,>=0.14.0 in /usr/local/lib/python3.10/dist-packages (from jsonschema>=3.0->altair->pciSeq==0.0.56) (0.19.3)\n",
      "Requirement already satisfied: six>=1.5 in /usr/local/lib/python3.10/dist-packages (from python-dateutil>=2.8.1->pandas->pciSeq==0.0.56) (1.16.0)\n",
      "Requirement already satisfied: urllib3<1.27,>=1.21.1 in /usr/local/lib/python3.10/dist-packages (from requests<3,>=2.4->streamlit->pciSeq==0.0.56) (1.26.16)\n",
      "Requirement already satisfied: certifi>=2017.4.17 in /usr/local/lib/python3.10/dist-packages (from requests<3,>=2.4->streamlit->pciSeq==0.0.56) (2023.5.7)\n",
      "Requirement already satisfied: charset-normalizer~=2.0.0 in /usr/local/lib/python3.10/dist-packages (from requests<3,>=2.4->streamlit->pciSeq==0.0.56) (2.0.12)\n",
      "Requirement already satisfied: idna<4,>=2.5 in /usr/local/lib/python3.10/dist-packages (from requests<3,>=2.4->streamlit->pciSeq==0.0.56) (3.4)\n",
      "Requirement already satisfied: markdown-it-py>=2.2.0 in /usr/local/lib/python3.10/dist-packages (from rich<14,>=10.11.0->streamlit->pciSeq==0.0.56) (3.0.0)\n",
      "Requirement already satisfied: pygments<3.0.0,>=2.13.0 in /usr/local/lib/python3.10/dist-packages (from rich<14,>=10.11.0->streamlit->pciSeq==0.0.56) (2.14.0)\n",
      "Requirement already satisfied: pytz-deprecation-shim in /usr/local/lib/python3.10/dist-packages (from tzlocal<5,>=1.1->streamlit->pciSeq==0.0.56) (0.1.0.post0)\n",
      "Requirement already satisfied: decorator>=3.4.0 in /usr/local/lib/python3.10/dist-packages (from validators<1,>=0.2->streamlit->pciSeq==0.0.56) (4.4.2)\n",
      "Requirement already satisfied: smmap<6,>=3.0.1 in /usr/local/lib/python3.10/dist-packages (from gitdb<5,>=4.0.1->gitpython!=3.1.19,<4,>=3->streamlit->pciSeq==0.0.56) (5.0.0)\n",
      "Requirement already satisfied: mdurl~=0.1 in /usr/local/lib/python3.10/dist-packages (from markdown-it-py>=2.2.0->rich<14,>=10.11.0->streamlit->pciSeq==0.0.56) (0.1.2)\n",
      "Requirement already satisfied: tzdata in /usr/local/lib/python3.10/dist-packages (from pytz-deprecation-shim->tzlocal<5,>=1.1->streamlit->pciSeq==0.0.56) (2023.3)\n"
     ]
    }
   ],
   "source": [
    "!pip install pciSeq==0.0.56"
   ]
  },
  {
   "cell_type": "markdown",
   "metadata": {
    "id": "kih1uz8yms2k"
   },
   "source": [
    "Other libraries needed for this notebook:"
   ]
  },
  {
   "cell_type": "code",
   "execution_count": 2,
   "metadata": {
    "colab": {
     "base_uri": "https://localhost:8080/"
    },
    "id": "rPyZnE0Mms2l",
    "outputId": "a0c5142a-eb76-4e82-8798-9f3a34ce005d"
   },
   "outputs": [
    {
     "output_type": "stream",
     "name": "stdout",
     "text": [
      "DIPlib -- a quantitative image analysis library\n",
      "Version 3.4.0 (Dec 13 2022)\n",
      "For more information see https://diplib.org\n"
     ]
    },
    {
     "output_type": "stream",
     "name": "stderr",
     "text": [
      "WARNING:pciSeq:>>>> libvips is not installed. Please see https://www.libvips.org/install.html <<<<\n",
      "WARNING:pciSeq:>>>> This is required only if you want to add a background image to the viewer. <<<<\n",
      "WARNING:pciSeq:>>>> and visualise your results after cell typing. <<<<\n",
      "WARNING:pciSeq:>>>> To do cell typing, libvips can be ignored, it is *not* necessary.  <<<<\n"
     ]
    }
   ],
   "source": [
    "import os\n",
    "import numpy as np\n",
    "import pandas as pd\n",
    "from scipy.sparse import load_npz, coo_matrix\n",
    "import pciSeq"
   ]
  },
  {
   "cell_type": "code",
   "execution_count": 3,
   "metadata": {
    "colab": {
     "base_uri": "https://localhost:8080/",
     "height": 36
    },
    "id": "9sSZslhtu_zd",
    "outputId": "2b5be1ec-8a35-44e1-fb01-6ef0951ad031"
   },
   "outputs": [
    {
     "output_type": "execute_result",
     "data": {
      "text/plain": [
       "'0.0.56'"
      ],
      "application/vnd.google.colaboratory.intrinsic+json": {
       "type": "string"
      }
     },
     "metadata": {},
     "execution_count": 3
    }
   ],
   "source": [
    "pciSeq.__version__"
   ]
  },
  {
   "cell_type": "markdown",
   "metadata": {
    "id": "IkhAoM3xVgzo"
   },
   "source": [
    "## 1. Diagnostics"
   ]
  },
  {
   "cell_type": "markdown",
   "metadata": {
    "id": "LjywfZfXVgzo"
   },
   "source": [
    "Diagnostics is a dashboard aiming to help users understand, on the fly, whether the algorithm is heading towards the wrong direction. If that happens he/she can stop the run at the spot instead of waiting until the very end (which could take a while) to examine the results and realise that they do not make sense. He/she can then reconfigure the hyperparameters and start again pciSeq"
   ]
  },
  {
   "cell_type": "markdown",
   "metadata": {
    "id": "7cpA_KFnVgzo"
   },
   "source": [
    "### 1.1. Prerequisities"
   ]
  },
  {
   "cell_type": "markdown",
   "metadata": {
    "id": "DvPz94pyVgzo"
   },
   "source": [
    "You must install redis if you are on Linux, or Memurai if you are on Windows.\n",
    "\n",
    "For redis do:\n",
    "* sudo apt-get install redis-server redis-tools\n",
    "\n",
    "and then start the service:\n",
    "\n",
    "* sudo service redis-server start\n",
    "\n",
    "You can get memurai from [here](https://www.memurai.com/get-memurai). Once installed, the service should start automatically but you can manually start it by:\n",
    "\n",
    "* memurai.exe --service-start\n",
    "\n",
    "If for whatever reason you cannot install redis (or memurai) then pass *'launch_diagnostics': False* in the options dict when you call *pciSeq.fit()*. Redis serves as layer to pass data from the main python loop to the dashboard. By setting *'launch_diagnostics': False* this communication should be prevented and redis shouldnt got into the landscape."
   ]
  },
  {
   "cell_type": "markdown",
   "metadata": {
    "id": "2o6QOwvvVgzp"
   },
   "source": [
    "### 1.2. The dashboard"
   ]
  },
  {
   "cell_type": "markdown",
   "metadata": {
    "id": "8JFaLAAjVgzp"
   },
   "source": [
    "We skip the preliminairies, they have been covered on the other notebooks, and we go straight to the *fit()* method having first loaded some demo data"
   ]
  },
  {
   "cell_type": "code",
   "execution_count": 4,
   "metadata": {
    "id": "pQ9MmWToVgzp"
   },
   "outputs": [],
   "source": [
    "coo_file = pciSeq.utils.load_from_url('https://github.com/acycliq/pciSeq/blob/dev/pciSeq/data/mouse/ca1/segmentation/label_image.coo.npz?raw=true')\n",
    "coo = load_npz(coo_file)"
   ]
  },
  {
   "cell_type": "code",
   "execution_count": 5,
   "metadata": {
    "id": "X-J2OxqTVgzp"
   },
   "outputs": [],
   "source": [
    "spots_file = pciSeq.utils.load_from_url('https://github.com/acycliq/pciSeq/blob/dev/pciSeq/data/mouse/ca1/iss/spots.csv?raw=true')\n",
    "iss_spots = pd.read_csv(spots_file)"
   ]
  },
  {
   "cell_type": "code",
   "execution_count": 6,
   "metadata": {
    "id": "zA2Z7TbVVgzp"
   },
   "outputs": [],
   "source": [
    "sc_file = pciSeq.utils.load_from_url('https://github.com/acycliq/pciSeq/blob/dev/pciSeq/data/mouse/ca1/scRNA/scRNAseq.csv.gz?raw=true')\n",
    "scRNAseq = pd.read_csv(sc_file, header=None, index_col=0, compression='gzip', dtype=object)\n",
    "scRNAseq = scRNAseq.rename(columns=scRNAseq.iloc[0], copy=False).iloc[1:]\n",
    "scRNAseq = scRNAseq.astype(float).astype(np.uint32)"
   ]
  },
  {
   "cell_type": "code",
   "execution_count": 7,
   "metadata": {
    "id": "A8z9AfvJVgzq"
   },
   "outputs": [],
   "source": [
    "pciSeq.attach_to_log()"
   ]
  },
  {
   "cell_type": "code",
   "execution_count": 8,
   "metadata": {
    "id": "LhFuu_hoVgzq"
   },
   "outputs": [],
   "source": [
    "# Switch on the diagnostics\n",
    "opts = {'launch_diagnostics': True}"
   ]
  },
  {
   "cell_type": "markdown",
   "metadata": {
    "id": "0aROl63HVgzq"
   },
   "source": [
    "**Do not miss to read some useful comments at the bottom of this notebook, section 2.1. You can jump straight to them by clicking [here](#2.1-Reading-the-dashboard).**"
   ]
  },
  {
   "cell_type": "code",
   "execution_count": 9,
   "metadata": {
    "id": "t3-xm-1UVgzq",
    "outputId": "d112ec77-b2a5-4c8b-e956-b159077cd8c2",
    "colab": {
     "base_uri": "https://localhost:8080/"
    }
   },
   "outputs": [
    {
     "output_type": "stream",
     "name": "stderr",
     "text": [
      "[2023-07-03 15:00:28] INFO    (app.py:226)  launch_diagnostics is set to True\n",
      "INFO:pciSeq: launch_diagnostics is set to True\n",
      "[2023-07-03 15:00:28] INFO    (app.py:251) check_redis_server\n",
      "INFO:pciSeq:check_redis_server\n",
      "[2023-07-03 15:00:28] INFO    (app.py:256) Redis ping failed!. Diagnostics will not be called unless redis is installed and the service is running\n",
      "INFO:pciSeq:Redis ping failed!. Diagnostics will not be called unless redis is installed and the service is running\n",
      "[2023-07-03 15:00:28] INFO    (app.py:126)  Preprocessing data\n",
      "INFO:pciSeq: Preprocessing data\n",
      "[2023-07-03 15:00:30] INFO    (spot_labels.py: 69)  Number of spots passed-in: 72336\n",
      "INFO:pciSeq: Number of spots passed-in: 72336\n",
      "[2023-07-03 15:00:30] INFO    (spot_labels.py: 70)  Number of segmented cells: 3481\n",
      "INFO:pciSeq: Number of segmented cells: 3481\n",
      "[2023-07-03 15:00:30] INFO    (spot_labels.py: 71)  Segmentation array implies that image has width: 7602px and height: 5471px\n",
      "INFO:pciSeq: Segmentation array implies that image has width: 7602px and height: 5471px\n",
      "[2023-07-03 15:00:47] INFO    (datatypes.py:460)  Single cell data passed-in have 27998 genes and 5712 cells\n",
      "INFO:pciSeq: Single cell data passed-in have 27998 genes and 5712 cells\n",
      "[2023-07-03 15:00:47] INFO    (datatypes.py:462)  Single cell data: Keeping counts for the gene panel of 92 only\n",
      "INFO:pciSeq: Single cell data: Keeping counts for the gene panel of 92 only\n",
      "[2023-07-03 15:00:47] INFO    (datatypes.py:474)  Single cell data: Grouping gene counts by cell type. Aggregating function is the mean.\n",
      "INFO:pciSeq: Single cell data: Grouping gene counts by cell type. Aggregating function is the mean.\n",
      "[2023-07-03 15:00:47] INFO    (datatypes.py:476)  Grouped single cell data have 92 genes and 71 cell types\n",
      "INFO:pciSeq: Grouped single cell data have 92 genes and 71 cell types\n",
      "[2023-07-03 15:00:47] INFO    (app.py:160)  Start cell typing\n",
      "INFO:pciSeq: Start cell typing\n",
      "[2023-07-03 15:00:51] INFO    (main.py: 86)  Iteration 0, mean prob change 1.000000\n",
      "INFO:pciSeq: Iteration 0, mean prob change 1.000000\n",
      "[2023-07-03 15:00:53] INFO    (main.py: 86)  Iteration 1, mean prob change 0.899874\n",
      "INFO:pciSeq: Iteration 1, mean prob change 0.899874\n",
      "[2023-07-03 15:00:54] INFO    (main.py: 86)  Iteration 2, mean prob change 0.670799\n",
      "INFO:pciSeq: Iteration 2, mean prob change 0.670799\n",
      "[2023-07-03 15:00:58] INFO    (main.py: 86)  Iteration 3, mean prob change 0.470356\n",
      "INFO:pciSeq: Iteration 3, mean prob change 0.470356\n",
      "[2023-07-03 15:01:00] INFO    (main.py: 86)  Iteration 4, mean prob change 0.627468\n",
      "INFO:pciSeq: Iteration 4, mean prob change 0.627468\n",
      "[2023-07-03 15:01:02] INFO    (main.py: 86)  Iteration 5, mean prob change 0.580998\n",
      "INFO:pciSeq: Iteration 5, mean prob change 0.580998\n",
      "[2023-07-03 15:01:04] INFO    (main.py: 86)  Iteration 6, mean prob change 0.605054\n",
      "INFO:pciSeq: Iteration 6, mean prob change 0.605054\n",
      "[2023-07-03 15:01:06] INFO    (main.py: 86)  Iteration 7, mean prob change 0.281664\n",
      "INFO:pciSeq: Iteration 7, mean prob change 0.281664\n",
      "[2023-07-03 15:01:08] INFO    (main.py: 86)  Iteration 8, mean prob change 0.262912\n",
      "INFO:pciSeq: Iteration 8, mean prob change 0.262912\n",
      "[2023-07-03 15:01:11] INFO    (main.py: 86)  Iteration 9, mean prob change 0.191133\n",
      "INFO:pciSeq: Iteration 9, mean prob change 0.191133\n",
      "[2023-07-03 15:01:13] INFO    (main.py: 86)  Iteration 10, mean prob change 0.558235\n",
      "INFO:pciSeq: Iteration 10, mean prob change 0.558235\n",
      "[2023-07-03 15:01:15] INFO    (main.py: 86)  Iteration 11, mean prob change 0.190493\n",
      "INFO:pciSeq: Iteration 11, mean prob change 0.190493\n",
      "[2023-07-03 15:01:17] INFO    (main.py: 86)  Iteration 12, mean prob change 0.248299\n",
      "INFO:pciSeq: Iteration 12, mean prob change 0.248299\n",
      "[2023-07-03 15:01:19] INFO    (main.py: 86)  Iteration 13, mean prob change 0.282528\n",
      "INFO:pciSeq: Iteration 13, mean prob change 0.282528\n",
      "[2023-07-03 15:01:21] INFO    (main.py: 86)  Iteration 14, mean prob change 0.068274\n",
      "INFO:pciSeq: Iteration 14, mean prob change 0.068274\n",
      "[2023-07-03 15:01:23] INFO    (main.py: 86)  Iteration 15, mean prob change 0.160980\n",
      "INFO:pciSeq: Iteration 15, mean prob change 0.160980\n",
      "[2023-07-03 15:01:26] INFO    (main.py: 86)  Iteration 16, mean prob change 0.582828\n",
      "INFO:pciSeq: Iteration 16, mean prob change 0.582828\n",
      "[2023-07-03 15:01:28] INFO    (main.py: 86)  Iteration 17, mean prob change 0.167344\n",
      "INFO:pciSeq: Iteration 17, mean prob change 0.167344\n",
      "[2023-07-03 15:01:30] INFO    (main.py: 86)  Iteration 18, mean prob change 0.148894\n",
      "INFO:pciSeq: Iteration 18, mean prob change 0.148894\n",
      "[2023-07-03 15:01:32] INFO    (main.py: 86)  Iteration 19, mean prob change 0.122970\n",
      "INFO:pciSeq: Iteration 19, mean prob change 0.122970\n",
      "[2023-07-03 15:01:34] INFO    (main.py: 86)  Iteration 20, mean prob change 0.089855\n",
      "INFO:pciSeq: Iteration 20, mean prob change 0.089855\n",
      "[2023-07-03 15:01:36] INFO    (main.py: 86)  Iteration 21, mean prob change 0.044864\n",
      "INFO:pciSeq: Iteration 21, mean prob change 0.044864\n",
      "[2023-07-03 15:01:39] INFO    (main.py: 86)  Iteration 22, mean prob change 0.067801\n",
      "INFO:pciSeq: Iteration 22, mean prob change 0.067801\n",
      "[2023-07-03 15:01:41] INFO    (main.py: 86)  Iteration 23, mean prob change 0.107513\n",
      "INFO:pciSeq: Iteration 23, mean prob change 0.107513\n",
      "[2023-07-03 15:01:43] INFO    (main.py: 86)  Iteration 24, mean prob change 0.191525\n",
      "INFO:pciSeq: Iteration 24, mean prob change 0.191525\n",
      "[2023-07-03 15:01:45] INFO    (main.py: 86)  Iteration 25, mean prob change 0.162755\n",
      "INFO:pciSeq: Iteration 25, mean prob change 0.162755\n",
      "[2023-07-03 15:01:47] INFO    (main.py: 86)  Iteration 26, mean prob change 0.062075\n",
      "INFO:pciSeq: Iteration 26, mean prob change 0.062075\n",
      "[2023-07-03 15:01:49] INFO    (main.py: 86)  Iteration 27, mean prob change 0.044864\n",
      "INFO:pciSeq: Iteration 27, mean prob change 0.044864\n",
      "[2023-07-03 15:01:52] INFO    (main.py: 86)  Iteration 28, mean prob change 0.031515\n",
      "INFO:pciSeq: Iteration 28, mean prob change 0.031515\n",
      "[2023-07-03 15:01:54] INFO    (main.py: 86)  Iteration 29, mean prob change 0.019637\n",
      "INFO:pciSeq: Iteration 29, mean prob change 0.019637\n",
      "[2023-07-03 15:01:54] INFO    (summary.py: 23)  Start collecting data ...\n",
      "INFO:pciSeq: Start collecting data ...\n",
      "[2023-07-03 15:01:54] INFO    (summary.py: 47)  Data collected!\n",
      "INFO:pciSeq: Data collected!\n",
      "[2023-07-03 15:01:55] INFO    (app.py:153)  Done\n",
      "INFO:pciSeq: Done\n"
     ]
    }
   ],
   "source": [
    "cellData, geneData = pciSeq.fit(spots=iss_spots, coo=coo, scRNAseq=scRNAseq, opts=opts)"
   ]
  },
  {
   "cell_type": "markdown",
   "metadata": {
    "id": "7aoFWD0EVgzq"
   },
   "source": [
    "#### 2.1 Reading the dashboard"
   ]
  },
  {
   "cell_type": "markdown",
   "metadata": {
    "id": "MJWX5ondVgzq"
   },
   "source": [
    "The dashboard should now be running on another tab of your browser. It should show two plots similar to the ones below; They are getting refreshed on every loop as they algorithm tries to converge.\n",
    "\n",
    "Gene efficiency can be thought of as the ratio between the observed and the theoretical gene counts. The default value for example, is 0.2 which means that on average for each gene we expect to have 5 times less counts than those expressed in the single cell data. If I had included a plot of the gene efficiency before the start of the iterations then we should have had a bar chart where all bars have the same length and equal to 0.2. This value however changes based on our prior views coupled with evidence that comes from the data and is crystallised when the algorithm converges. This gradual shift  from the data-agnostic state (where only the prior 0.2 is available) to the optimal one is shown in the left plot of the dashboard. It is easy to see for example that Neurod6 stands out with a gene efficiency close to 1.35. Technically, the plot shows the mean of the approximated (ie variational) posterior distribution.\n",
    "\n",
    "In my view, the most useful plot to check whether something has gone horrible wrong is the plot on the right. In each loop, it calculates how many cells have been assigned to each cell class and then plots those cell counts. The class that stands out is the Zero class, we see that about 1030 out of the total 3481 (around 30%) have been classed as Zero class. This is not uncommon, quite often the Zero class is the most populated class (could be more than 30% on some occasions). If something has gone wrong however then the vast majority (around 95%) of the cells will be Zero class. If that happens, then one reason could be that the gene efficiency needs to be adjusted. The user should reflect about the reference data (single cell data) and the experiment and set the inefficiency value to something that reflects the case.\n",
    "\n",
    "To familiarise yourself, the user is encouraged to purposely kick-off *pciSeq.fit()* with a mis-specified value for inefficiency, set for example *'Inefficiency': 100* or even *'Inefficiency': 1000*. You will notice that gene efficiency hardly moves as the algorithms loops and all cells end up under the Zero class. With the demo data, the fit finishes after a few runs, your data however maybe more demanding; Hopefully these diagnostic plots will help you detect problems at the very starting stages and you will not have to wait until the end to realise that some has been mispecified.\n",
    "\n",
    "If you are confident that you have set a reasonable value for Inefficiency and despite that you get way too many Zero class cells, then a contributing factor could be the *MisreadDensity*. A higher value, (for example from 1e-5 to 1e-4) will tilt the likelihood towards a view that considers the spots as misreads and that will have a knock-on effect on the cell-to-cellClass assignments which will demonstrate itself by the abundance of Zero class cells in our results.\n",
    "\n",
    "Most often however it is the *Inefficiency* that needs tweaking and not the *MisreadDensity*.\n",
    "\n",
    "Notes:\n",
    " - You can close the diagnostics tab while the algorithm converges, nothing will happen to the main loop, they are handled by different processes.\n",
	" - As you can notice from the plot, each gene has its own inefficiency. The starting value (0.2 in this case) doesnt have to be spot-on, it is just a guess to help the algorithm not to side-step into the wrong search path.\n",
	" - The *MisreadDensity* is set once and never changes throughout the pciSeq run. It is a hyperparamerer, no inference is done about it. This is in contrast to the "Inefficiency" which is assumed as uknown and a probability distribution is drawn to describe our view about it. As said earlier, the mean of its approximated distribution is shown on the left plot below.\n",
    " - I am using the terms *Inefficiency* and *gene efficiency* interchangeably, they mean exaclty the same thing (which TBH doesnt look very effcient as a way of writing... Strictly speaking they are the complete opposite!)"
   ]
  },
  {
   "cell_type": "markdown",
   "metadata": {
    "id": "WjXribOfVgzr"
   },
   "source": [
    "<img src=\"https://github.com/acycliq/pciSeq/blob/master/notebooks/diagnostics.gif?raw=1\" />"
   ]
  },
  {
   "cell_type": "code",
   "execution_count": 9,
   "metadata": {
    "id": "beB3H9XVVgzr"
   },
   "outputs": [],
   "source": []
  }
 ],
 "metadata": {
  "colab": {
   "name": "diagnostics.ipynb",
   "provenance": []
  },
  "kernelspec": {
   "display_name": "Python 3 (ipykernel)",
   "language": "python",
   "name": "python3"
  },
  "language_info": {
   "codemirror_mode": {
    "name": "ipython",
    "version": 3
   },
   "file_extension": ".py",
   "mimetype": "text/x-python",
   "name": "python",
   "nbconvert_exporter": "python",
   "pygments_lexer": "ipython3",
   "version": "3.8.13"
  }
 },
 "nbformat": 4,
 "nbformat_minor": 0
}
