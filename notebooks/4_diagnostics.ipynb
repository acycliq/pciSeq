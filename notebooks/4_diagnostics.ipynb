{
  "cells": [
    {
      "cell_type": "markdown",
      "metadata": {
        "id": "N-BfzmdCms2d"
      },
      "source": [
        "# Demo: pciSeq diagnostics\n",
        "Diagnostics aim to help you monitor on-the-fly how the fit progresses.\n",
        "<div class=\"alert alert-block alert-warning\">\n",
        "<b>Note:</b> Download and run the notebook locally. Diagnostics run on the browser and the call will fail if the notebook is cloud-based. I couldnt also make redis run on Colab.\n",
        "</div>"
      ]
    },
    {
      "cell_type": "markdown",
      "metadata": {
        "id": "jzHk2QWXms2j"
      },
      "source": [
        "## Installation:"
      ]
    },
    {
      "cell_type": "code",
      "execution_count": 1,
      "metadata": {
        "colab": {
          "base_uri": "https://localhost:8080/"
        },
        "id": "2N3fTzPDms2k",
        "outputId": "07fdccf3-2d8f-4fc9-8793-b3baeccf76fd"
      },
      "outputs": [
        {
          "output_type": "stream",
          "name": "stdout",
          "text": [
            "Collecting pciSeq==0.0.59\n",
            "  Downloading pciSeq-0.0.59-py3-none-any.whl (355 kB)\n",
            "\u001b[2K     \u001b[90m━━━━━━━━━━━━━━━━━━━━━━━━━━━━━━━━━━━━━━━━\u001b[0m \u001b[32m355.5/355.5 kB\u001b[0m \u001b[31m5.3 MB/s\u001b[0m eta \u001b[36m0:00:00\u001b[0m\n",
            "\u001b[?25hCollecting numpy-groupies (from pciSeq==0.0.59)\n",
            "  Downloading numpy_groupies-0.10.2-py3-none-any.whl (39 kB)\n",
            "Requirement already satisfied: pandas in /usr/local/lib/python3.10/dist-packages (from pciSeq==0.0.59) (1.5.3)\n",
            "Requirement already satisfied: scipy in /usr/local/lib/python3.10/dist-packages (from pciSeq==0.0.59) (1.11.3)\n",
            "Collecting streamlit (from pciSeq==0.0.59)\n",
            "  Downloading streamlit-1.27.2-py2.py3-none-any.whl (7.6 MB)\n",
            "\u001b[2K     \u001b[90m━━━━━━━━━━━━━━━━━━━━━━━━━━━━━━━━━━━━━━━━\u001b[0m \u001b[32m7.6/7.6 MB\u001b[0m \u001b[31m16.9 MB/s\u001b[0m eta \u001b[36m0:00:00\u001b[0m\n",
            "\u001b[?25hRequirement already satisfied: altair in /usr/local/lib/python3.10/dist-packages (from pciSeq==0.0.59) (4.2.2)\n",
            "Requirement already satisfied: scikit-image in /usr/local/lib/python3.10/dist-packages (from pciSeq==0.0.59) (0.19.3)\n",
            "Requirement already satisfied: scikit-learn in /usr/local/lib/python3.10/dist-packages (from pciSeq==0.0.59) (1.2.2)\n",
            "Requirement already satisfied: tqdm in /usr/local/lib/python3.10/dist-packages (from pciSeq==0.0.59) (4.66.1)\n",
            "Requirement already satisfied: flask in /usr/local/lib/python3.10/dist-packages (from pciSeq==0.0.59) (2.2.5)\n",
            "Requirement already satisfied: numexpr in /usr/local/lib/python3.10/dist-packages (from pciSeq==0.0.59) (2.8.7)\n",
            "Collecting diplib (from pciSeq==0.0.59)\n",
            "  Downloading diplib-3.4.1-cp310-cp310-manylinux_2_17_x86_64.manylinux2014_x86_64.whl (7.7 MB)\n",
            "\u001b[2K     \u001b[90m━━━━━━━━━━━━━━━━━━━━━━━━━━━━━━━━━━━━━━━━\u001b[0m \u001b[32m7.7/7.7 MB\u001b[0m \u001b[31m13.7 MB/s\u001b[0m eta \u001b[36m0:00:00\u001b[0m\n",
            "\u001b[?25hCollecting pyvips (from pciSeq==0.0.59)\n",
            "  Downloading pyvips-2.2.1.tar.gz (633 kB)\n",
            "\u001b[2K     \u001b[90m━━━━━━━━━━━━━━━━━━━━━━━━━━━━━━━━━━━━━━━━\u001b[0m \u001b[32m633.6/633.6 kB\u001b[0m \u001b[31m15.7 MB/s\u001b[0m eta \u001b[36m0:00:00\u001b[0m\n",
            "\u001b[?25h  Preparing metadata (setup.py) ... \u001b[?25l\u001b[?25hdone\n",
            "Requirement already satisfied: natsort in /usr/local/lib/python3.10/dist-packages (from pciSeq==0.0.59) (8.4.0)\n",
            "Collecting redis (from pciSeq==0.0.59)\n",
            "  Downloading redis-5.0.1-py3-none-any.whl (250 kB)\n",
            "\u001b[2K     \u001b[90m━━━━━━━━━━━━━━━━━━━━━━━━━━━━━━━━━━━━━━━━\u001b[0m \u001b[32m250.3/250.3 kB\u001b[0m \u001b[31m25.6 MB/s\u001b[0m eta \u001b[36m0:00:00\u001b[0m\n",
            "\u001b[?25hRequirement already satisfied: entrypoints in /usr/local/lib/python3.10/dist-packages (from altair->pciSeq==0.0.59) (0.4)\n",
            "Requirement already satisfied: jinja2 in /usr/local/lib/python3.10/dist-packages (from altair->pciSeq==0.0.59) (3.1.2)\n",
            "Requirement already satisfied: jsonschema>=3.0 in /usr/local/lib/python3.10/dist-packages (from altair->pciSeq==0.0.59) (4.19.1)\n",
            "Requirement already satisfied: numpy in /usr/local/lib/python3.10/dist-packages (from altair->pciSeq==0.0.59) (1.23.5)\n",
            "Requirement already satisfied: toolz in /usr/local/lib/python3.10/dist-packages (from altair->pciSeq==0.0.59) (0.12.0)\n",
            "Requirement already satisfied: python-dateutil>=2.8.1 in /usr/local/lib/python3.10/dist-packages (from pandas->pciSeq==0.0.59) (2.8.2)\n",
            "Requirement already satisfied: pytz>=2020.1 in /usr/local/lib/python3.10/dist-packages (from pandas->pciSeq==0.0.59) (2023.3.post1)\n",
            "Requirement already satisfied: Werkzeug>=2.2.2 in /usr/local/lib/python3.10/dist-packages (from flask->pciSeq==0.0.59) (3.0.0)\n",
            "Requirement already satisfied: itsdangerous>=2.0 in /usr/local/lib/python3.10/dist-packages (from flask->pciSeq==0.0.59) (2.1.2)\n",
            "Requirement already satisfied: click>=8.0 in /usr/local/lib/python3.10/dist-packages (from flask->pciSeq==0.0.59) (8.1.7)\n",
            "Requirement already satisfied: cffi>=1.0.0 in /usr/local/lib/python3.10/dist-packages (from pyvips->pciSeq==0.0.59) (1.16.0)\n",
            "Requirement already satisfied: async-timeout>=4.0.2 in /usr/local/lib/python3.10/dist-packages (from redis->pciSeq==0.0.59) (4.0.3)\n",
            "Requirement already satisfied: networkx>=2.2 in /usr/local/lib/python3.10/dist-packages (from scikit-image->pciSeq==0.0.59) (3.1)\n",
            "Requirement already satisfied: pillow!=7.1.0,!=7.1.1,!=8.3.0,>=6.1.0 in /usr/local/lib/python3.10/dist-packages (from scikit-image->pciSeq==0.0.59) (9.4.0)\n",
            "Requirement already satisfied: imageio>=2.4.1 in /usr/local/lib/python3.10/dist-packages (from scikit-image->pciSeq==0.0.59) (2.31.5)\n",
            "Requirement already satisfied: tifffile>=2019.7.26 in /usr/local/lib/python3.10/dist-packages (from scikit-image->pciSeq==0.0.59) (2023.9.26)\n",
            "Requirement already satisfied: PyWavelets>=1.1.1 in /usr/local/lib/python3.10/dist-packages (from scikit-image->pciSeq==0.0.59) (1.4.1)\n",
            "Requirement already satisfied: packaging>=20.0 in /usr/local/lib/python3.10/dist-packages (from scikit-image->pciSeq==0.0.59) (23.2)\n",
            "Requirement already satisfied: joblib>=1.1.1 in /usr/local/lib/python3.10/dist-packages (from scikit-learn->pciSeq==0.0.59) (1.3.2)\n",
            "Requirement already satisfied: threadpoolctl>=2.0.0 in /usr/local/lib/python3.10/dist-packages (from scikit-learn->pciSeq==0.0.59) (3.2.0)\n",
            "Requirement already satisfied: blinker<2,>=1.0.0 in /usr/lib/python3/dist-packages (from streamlit->pciSeq==0.0.59) (1.4)\n",
            "Requirement already satisfied: cachetools<6,>=4.0 in /usr/local/lib/python3.10/dist-packages (from streamlit->pciSeq==0.0.59) (5.3.1)\n",
            "Requirement already satisfied: importlib-metadata<7,>=1.4 in /usr/local/lib/python3.10/dist-packages (from streamlit->pciSeq==0.0.59) (6.8.0)\n",
            "Requirement already satisfied: protobuf<5,>=3.20 in /usr/local/lib/python3.10/dist-packages (from streamlit->pciSeq==0.0.59) (3.20.3)\n",
            "Requirement already satisfied: pyarrow>=6.0 in /usr/local/lib/python3.10/dist-packages (from streamlit->pciSeq==0.0.59) (9.0.0)\n",
            "Requirement already satisfied: requests<3,>=2.27 in /usr/local/lib/python3.10/dist-packages (from streamlit->pciSeq==0.0.59) (2.31.0)\n",
            "Requirement already satisfied: rich<14,>=10.14.0 in /usr/local/lib/python3.10/dist-packages (from streamlit->pciSeq==0.0.59) (13.6.0)\n",
            "Requirement already satisfied: tenacity<9,>=8.1.0 in /usr/local/lib/python3.10/dist-packages (from streamlit->pciSeq==0.0.59) (8.2.3)\n",
            "Requirement already satisfied: toml<2,>=0.10.1 in /usr/local/lib/python3.10/dist-packages (from streamlit->pciSeq==0.0.59) (0.10.2)\n",
            "Requirement already satisfied: typing-extensions<5,>=4.3.0 in /usr/local/lib/python3.10/dist-packages (from streamlit->pciSeq==0.0.59) (4.5.0)\n",
            "Requirement already satisfied: tzlocal<6,>=1.1 in /usr/local/lib/python3.10/dist-packages (from streamlit->pciSeq==0.0.59) (5.1)\n",
            "Collecting validators<1,>=0.2 (from streamlit->pciSeq==0.0.59)\n",
            "  Downloading validators-0.22.0-py3-none-any.whl (26 kB)\n",
            "Collecting gitpython!=3.1.19,<4,>=3.0.7 (from streamlit->pciSeq==0.0.59)\n",
            "  Downloading GitPython-3.1.38-py3-none-any.whl (190 kB)\n",
            "\u001b[2K     \u001b[90m━━━━━━━━━━━━━━━━━━━━━━━━━━━━━━━━━━━━━━━━\u001b[0m \u001b[32m190.6/190.6 kB\u001b[0m \u001b[31m21.2 MB/s\u001b[0m eta \u001b[36m0:00:00\u001b[0m\n",
            "\u001b[?25hCollecting pydeck<1,>=0.8.0b4 (from streamlit->pciSeq==0.0.59)\n",
            "  Downloading pydeck-0.8.1b0-py2.py3-none-any.whl (4.8 MB)\n",
            "\u001b[2K     \u001b[90m━━━━━━━━━━━━━━━━━━━━━━━━━━━━━━━━━━━━━━━━\u001b[0m \u001b[32m4.8/4.8 MB\u001b[0m \u001b[31m24.2 MB/s\u001b[0m eta \u001b[36m0:00:00\u001b[0m\n",
            "\u001b[?25hRequirement already satisfied: tornado<7,>=6.0.3 in /usr/local/lib/python3.10/dist-packages (from streamlit->pciSeq==0.0.59) (6.3.2)\n",
            "Collecting watchdog>=2.1.5 (from streamlit->pciSeq==0.0.59)\n",
            "  Downloading watchdog-3.0.0-py3-none-manylinux2014_x86_64.whl (82 kB)\n",
            "\u001b[2K     \u001b[90m━━━━━━━━━━━━━━━━━━━━━━━━━━━━━━━━━━━━━━━━\u001b[0m \u001b[32m82.1/82.1 kB\u001b[0m \u001b[31m11.4 MB/s\u001b[0m eta \u001b[36m0:00:00\u001b[0m\n",
            "\u001b[?25hRequirement already satisfied: pycparser in /usr/local/lib/python3.10/dist-packages (from cffi>=1.0.0->pyvips->pciSeq==0.0.59) (2.21)\n",
            "Collecting gitdb<5,>=4.0.1 (from gitpython!=3.1.19,<4,>=3.0.7->streamlit->pciSeq==0.0.59)\n",
            "  Downloading gitdb-4.0.10-py3-none-any.whl (62 kB)\n",
            "\u001b[2K     \u001b[90m━━━━━━━━━━━━━━━━━━━━━━━━━━━━━━━━━━━━━━━━\u001b[0m \u001b[32m62.7/62.7 kB\u001b[0m \u001b[31m8.9 MB/s\u001b[0m eta \u001b[36m0:00:00\u001b[0m\n",
            "\u001b[?25hRequirement already satisfied: zipp>=0.5 in /usr/local/lib/python3.10/dist-packages (from importlib-metadata<7,>=1.4->streamlit->pciSeq==0.0.59) (3.17.0)\n",
            "Requirement already satisfied: MarkupSafe>=2.0 in /usr/local/lib/python3.10/dist-packages (from jinja2->altair->pciSeq==0.0.59) (2.1.3)\n",
            "Requirement already satisfied: attrs>=22.2.0 in /usr/local/lib/python3.10/dist-packages (from jsonschema>=3.0->altair->pciSeq==0.0.59) (23.1.0)\n",
            "Requirement already satisfied: jsonschema-specifications>=2023.03.6 in /usr/local/lib/python3.10/dist-packages (from jsonschema>=3.0->altair->pciSeq==0.0.59) (2023.7.1)\n",
            "Requirement already satisfied: referencing>=0.28.4 in /usr/local/lib/python3.10/dist-packages (from jsonschema>=3.0->altair->pciSeq==0.0.59) (0.30.2)\n",
            "Requirement already satisfied: rpds-py>=0.7.1 in /usr/local/lib/python3.10/dist-packages (from jsonschema>=3.0->altair->pciSeq==0.0.59) (0.10.4)\n",
            "Requirement already satisfied: six>=1.5 in /usr/local/lib/python3.10/dist-packages (from python-dateutil>=2.8.1->pandas->pciSeq==0.0.59) (1.16.0)\n",
            "Requirement already satisfied: charset-normalizer<4,>=2 in /usr/local/lib/python3.10/dist-packages (from requests<3,>=2.27->streamlit->pciSeq==0.0.59) (3.3.0)\n",
            "Requirement already satisfied: idna<4,>=2.5 in /usr/local/lib/python3.10/dist-packages (from requests<3,>=2.27->streamlit->pciSeq==0.0.59) (3.4)\n",
            "Requirement already satisfied: urllib3<3,>=1.21.1 in /usr/local/lib/python3.10/dist-packages (from requests<3,>=2.27->streamlit->pciSeq==0.0.59) (2.0.6)\n",
            "Requirement already satisfied: certifi>=2017.4.17 in /usr/local/lib/python3.10/dist-packages (from requests<3,>=2.27->streamlit->pciSeq==0.0.59) (2023.7.22)\n",
            "Requirement already satisfied: markdown-it-py>=2.2.0 in /usr/local/lib/python3.10/dist-packages (from rich<14,>=10.14.0->streamlit->pciSeq==0.0.59) (3.0.0)\n",
            "Requirement already satisfied: pygments<3.0.0,>=2.13.0 in /usr/local/lib/python3.10/dist-packages (from rich<14,>=10.14.0->streamlit->pciSeq==0.0.59) (2.16.1)\n",
            "Collecting smmap<6,>=3.0.1 (from gitdb<5,>=4.0.1->gitpython!=3.1.19,<4,>=3.0.7->streamlit->pciSeq==0.0.59)\n",
            "  Downloading smmap-5.0.1-py3-none-any.whl (24 kB)\n",
            "Requirement already satisfied: mdurl~=0.1 in /usr/local/lib/python3.10/dist-packages (from markdown-it-py>=2.2.0->rich<14,>=10.14.0->streamlit->pciSeq==0.0.59) (0.1.2)\n",
            "Building wheels for collected packages: pyvips\n",
            "  Building wheel for pyvips (setup.py) ... \u001b[?25l\u001b[?25hdone\n",
            "  Created wheel for pyvips: filename=pyvips-2.2.1-py2.py3-none-any.whl size=54176 sha256=c4f0ed1a350b647d42f620854c233e90403f1be0c5489f858b153324750efa99\n",
            "  Stored in directory: /root/.cache/pip/wheels/53/a1/9e/895a8ca1f7881a879a8841047d32250e03f3ec7444539c7ce3\n",
            "Successfully built pyvips\n",
            "Installing collected packages: watchdog, validators, smmap, redis, numpy-groupies, diplib, pyvips, pydeck, gitdb, gitpython, streamlit, pciSeq\n",
            "Successfully installed diplib-3.4.1 gitdb-4.0.10 gitpython-3.1.38 numpy-groupies-0.10.2 pciSeq-0.0.59 pydeck-0.8.1b0 pyvips-2.2.1 redis-5.0.1 smmap-5.0.1 streamlit-1.27.2 validators-0.22.0 watchdog-3.0.0\n"
          ]
        }
      ],
      "source": [
        "!pip install pciSeq==0.0.59"
      ]
    },
    {
      "cell_type": "markdown",
      "metadata": {
        "id": "kih1uz8yms2k"
      },
      "source": [
        "Other libraries needed for this notebook:"
      ]
    },
    {
      "cell_type": "code",
      "execution_count": 2,
      "metadata": {
        "id": "rPyZnE0Mms2l",
        "outputId": "6e1cf07c-fcd6-4e16-b511-72ec23f979a5",
        "colab": {
          "base_uri": "https://localhost:8080/"
        }
      },
      "outputs": [
        {
          "output_type": "stream",
          "name": "stdout",
          "text": [
            "DIPlib -- a quantitative image analysis library\n",
            "Version 3.4.1 (Oct 13 2023)\n",
            "For more information see https://diplib.org\n"
          ]
        },
        {
          "output_type": "stream",
          "name": "stderr",
          "text": [
            "WARNING:pciSeq:>>>> libvips is not installed. Please see https://www.libvips.org/install.html <<<<\n",
            "WARNING:pciSeq:>>>> This is required only if you want to add a background image to the viewer. <<<<\n",
            "WARNING:pciSeq:>>>> and visualise your results after cell typing. <<<<\n",
            "WARNING:pciSeq:>>>> To do cell typing, libvips can be ignored, it is *not* necessary.  <<<<\n"
          ]
        }
      ],
      "source": [
        "import os\n",
        "import numpy as np\n",
        "import pandas as pd\n",
        "from scipy.sparse import load_npz, coo_matrix\n",
        "import pciSeq"
      ]
    },
    {
      "cell_type": "code",
      "execution_count": 3,
      "metadata": {
        "colab": {
          "base_uri": "https://localhost:8080/",
          "height": 35
        },
        "id": "9sSZslhtu_zd",
        "outputId": "fb66b054-afaf-472d-97f3-2ac9738cd30f"
      },
      "outputs": [
        {
          "output_type": "execute_result",
          "data": {
            "text/plain": [
              "'0.0.59'"
            ],
            "application/vnd.google.colaboratory.intrinsic+json": {
              "type": "string"
            }
          },
          "metadata": {},
          "execution_count": 3
        }
      ],
      "source": [
        "pciSeq.__version__"
      ]
    },
    {
      "cell_type": "markdown",
      "metadata": {
        "id": "IkhAoM3xVgzo"
      },
      "source": [
        "## 1. Diagnostics"
      ]
    },
    {
      "cell_type": "markdown",
      "metadata": {
        "id": "LjywfZfXVgzo"
      },
      "source": [
        "Diagnostics is a dashboard aiming to help users understand, on the fly, whether the algorithm is heading towards the wrong direction. If that happens he/she can stop the run at the spot instead of waiting until the very end (which could take a while) to examine the results and realise that they do not make sense. He/she can then reconfigure the hyperparameters and start again pciSeq"
      ]
    },
    {
      "cell_type": "markdown",
      "metadata": {
        "id": "7cpA_KFnVgzo"
      },
      "source": [
        "### 1.1. Prerequisities"
      ]
    },
    {
      "cell_type": "markdown",
      "metadata": {
        "id": "DvPz94pyVgzo"
      },
      "source": [
        "You must install redis if you are on Linux, or Memurai if you are on Windows.\n",
        "\n",
        "For redis do:\n",
        "* sudo apt-get install redis-server redis-tools\n",
        "\n",
        "and then start the service:\n",
        "\n",
        "* sudo service redis-server start\n",
        "\n",
        "You can get memurai from [here](https://www.memurai.com/get-memurai). Once installed, the service should start automatically but you can manually start it by:\n",
        "\n",
        "* memurai.exe --service-start\n",
        "\n",
        "If for whatever reason you cannot install redis (or memurai) then pass *'launch_diagnostics': False* in the options dict when you call *pciSeq.fit()*. Redis serves as layer to pass data from the main python loop to the dashboard. By setting *'launch_diagnostics': False* this communication should be prevented and redis shouldnt got into the landscape."
      ]
    },
    {
      "cell_type": "markdown",
      "metadata": {
        "id": "2o6QOwvvVgzp"
      },
      "source": [
        "### 1.2. The dashboard"
      ]
    },
    {
      "cell_type": "markdown",
      "metadata": {
        "id": "8JFaLAAjVgzp"
      },
      "source": [
        "We skip the preliminairies, they have been covered on the other notebooks, and we go straight to the *fit()* method having first loaded some demo data"
      ]
    },
    {
      "cell_type": "code",
      "execution_count": 4,
      "metadata": {
        "id": "pQ9MmWToVgzp",
        "outputId": "4c8014b3-516e-4c5d-c4ae-9ab77344f2b5",
        "colab": {
          "base_uri": "https://localhost:8080/"
        }
      },
      "outputs": [
        {
          "output_type": "stream",
          "name": "stderr",
          "text": [
            "Downloading: \"https://github.com/acycliq/pciSeq/blob/dev/pciSeq/data/mouse/ca1/segmentation/label_image.coo.npz?raw=true\" to label_image.coo.npz\n",
            "100%|██████████| 654k/654k [00:00<00:00, 20.6MB/s]\n"
          ]
        }
      ],
      "source": [
        "coo_file = pciSeq.utils.load_from_url('https://github.com/acycliq/pciSeq/blob/dev/pciSeq/data/mouse/ca1/segmentation/label_image.coo.npz?raw=true')\n",
        "coo = load_npz(coo_file)"
      ]
    },
    {
      "cell_type": "code",
      "execution_count": 5,
      "metadata": {
        "id": "X-J2OxqTVgzp",
        "outputId": "8873f1d6-c5bf-45ff-84db-f6e1b2aa0136",
        "colab": {
          "base_uri": "https://localhost:8080/"
        }
      },
      "outputs": [
        {
          "output_type": "stream",
          "name": "stderr",
          "text": [
            "Downloading: \"https://github.com/acycliq/pciSeq/blob/dev/pciSeq/data/mouse/ca1/iss/spots.csv?raw=true\" to spots.csv\n",
            "100%|██████████| 1.10M/1.10M [00:00<00:00, 27.6MB/s]\n"
          ]
        }
      ],
      "source": [
        "spots_file = pciSeq.utils.load_from_url('https://github.com/acycliq/pciSeq/blob/dev/pciSeq/data/mouse/ca1/iss/spots.csv?raw=true')\n",
        "iss_spots = pd.read_csv(spots_file)"
      ]
    },
    {
      "cell_type": "code",
      "execution_count": 6,
      "metadata": {
        "id": "zA2Z7TbVVgzp",
        "outputId": "ee611e82-66ab-4785-a7c2-4ba0e4e83dc8",
        "colab": {
          "base_uri": "https://localhost:8080/"
        }
      },
      "outputs": [
        {
          "output_type": "stream",
          "name": "stderr",
          "text": [
            "Downloading: \"https://github.com/acycliq/pciSeq/blob/dev/pciSeq/data/mouse/ca1/scRNA/scRNAseq.csv.gz?raw=true\" to scRNAseq.csv.gz\n",
            "100%|██████████| 11.2M/11.2M [00:00<00:00, 127MB/s]\n"
          ]
        }
      ],
      "source": [
        "sc_file = pciSeq.utils.load_from_url('https://github.com/acycliq/pciSeq/blob/dev/pciSeq/data/mouse/ca1/scRNA/scRNAseq.csv.gz?raw=true')\n",
        "scRNAseq = pd.read_csv(sc_file, header=None, index_col=0, compression='gzip', dtype=object)\n",
        "scRNAseq = scRNAseq.rename(columns=scRNAseq.iloc[0], copy=False).iloc[1:]\n",
        "scRNAseq = scRNAseq.astype(float).astype(np.uint32)"
      ]
    },
    {
      "cell_type": "code",
      "execution_count": 7,
      "metadata": {
        "id": "A8z9AfvJVgzq"
      },
      "outputs": [],
      "source": [
        "pciSeq.attach_to_log()"
      ]
    },
    {
      "cell_type": "code",
      "execution_count": 8,
      "metadata": {
        "id": "LhFuu_hoVgzq"
      },
      "outputs": [],
      "source": [
        "# Switch on the diagnostics\n",
        "opts = {'launch_diagnostics': True}"
      ]
    },
    {
      "cell_type": "markdown",
      "metadata": {
        "id": "0aROl63HVgzq"
      },
      "source": [
        "**Do not miss to read some useful comments at the bottom of this notebook, section 2.1. You can jump straight to them by clicking [here](#2.1-Reading-the-dashboard).**"
      ]
    },
    {
      "cell_type": "code",
      "execution_count": 9,
      "metadata": {
        "colab": {
          "base_uri": "https://localhost:8080/"
        },
        "id": "t3-xm-1UVgzq",
        "outputId": "0b2dce9b-7a1d-427f-a02b-9efaefcfa4b4"
      },
      "outputs": [
        {
          "output_type": "stream",
          "name": "stderr",
          "text": [
            "[2023-10-17 14:39:58] INFO    (app.py:289) check_redis_server\n",
            "INFO:pciSeq:check_redis_server\n",
            "[2023-10-17 14:39:58] INFO    (app.py:294) Redis ping failed!. Diagnostics will not be called unless redis is installed and the service is running\n",
            "INFO:pciSeq:Redis ping failed!. Diagnostics will not be called unless redis is installed and the service is running\n",
            "[2023-10-17 14:39:58] INFO    (app.py:189)  launch_diagnostics is set to True\n",
            "INFO:pciSeq: launch_diagnostics is set to True\n",
            "[2023-10-17 14:39:58] INFO    (app.py:101)  Preprocessing data\n",
            "INFO:pciSeq: Preprocessing data\n",
            "[2023-10-17 14:39:59] INFO    (spot_labels.py: 69)  Number of spots passed-in: 72336\n",
            "INFO:pciSeq: Number of spots passed-in: 72336\n",
            "[2023-10-17 14:39:59] INFO    (spot_labels.py: 70)  Number of segmented cells: 3481\n",
            "INFO:pciSeq: Number of segmented cells: 3481\n",
            "[2023-10-17 14:39:59] INFO    (spot_labels.py: 71)  Segmentation array implies that image has width: 7602px and height: 5471px\n",
            "INFO:pciSeq: Segmentation array implies that image has width: 7602px and height: 5471px\n",
            "[2023-10-17 14:40:01] INFO    (datatypes.py:481)  Single cell data passed-in have 27998 genes and 5712 cells\n",
            "INFO:pciSeq: Single cell data passed-in have 27998 genes and 5712 cells\n",
            "[2023-10-17 14:40:01] INFO    (datatypes.py:483)  Single cell data: Keeping counts for the gene panel of 92 only\n",
            "INFO:pciSeq: Single cell data: Keeping counts for the gene panel of 92 only\n",
            "[2023-10-17 14:40:01] INFO    (datatypes.py:495)  Single cell data: Grouping gene counts by cell type. Aggregating function is the mean.\n",
            "INFO:pciSeq: Single cell data: Grouping gene counts by cell type. Aggregating function is the mean.\n",
            "[2023-10-17 14:40:01] INFO    (datatypes.py:497)  Grouped single cell data have 92 genes and 71 cell types\n",
            "INFO:pciSeq: Grouped single cell data have 92 genes and 71 cell types\n",
            "[2023-10-17 14:40:01] INFO    (app.py:123)  Start cell typing\n",
            "INFO:pciSeq: Start cell typing\n",
            "[2023-10-17 14:40:04] INFO    (main.py: 88)  Iteration 0, mean prob change 1.000000\n",
            "INFO:pciSeq: Iteration 0, mean prob change 1.000000\n",
            "[2023-10-17 14:40:06] INFO    (main.py: 88)  Iteration 1, mean prob change 0.899874\n",
            "INFO:pciSeq: Iteration 1, mean prob change 0.899874\n",
            "[2023-10-17 14:40:09] INFO    (main.py: 88)  Iteration 2, mean prob change 0.670799\n",
            "INFO:pciSeq: Iteration 2, mean prob change 0.670799\n",
            "[2023-10-17 14:40:11] INFO    (main.py: 88)  Iteration 3, mean prob change 0.470356\n",
            "INFO:pciSeq: Iteration 3, mean prob change 0.470356\n",
            "[2023-10-17 14:40:13] INFO    (main.py: 88)  Iteration 4, mean prob change 0.627468\n",
            "INFO:pciSeq: Iteration 4, mean prob change 0.627468\n",
            "[2023-10-17 14:40:15] INFO    (main.py: 88)  Iteration 5, mean prob change 0.580998\n",
            "INFO:pciSeq: Iteration 5, mean prob change 0.580998\n",
            "[2023-10-17 14:40:17] INFO    (main.py: 88)  Iteration 6, mean prob change 0.605054\n",
            "INFO:pciSeq: Iteration 6, mean prob change 0.605054\n",
            "[2023-10-17 14:40:19] INFO    (main.py: 88)  Iteration 7, mean prob change 0.281664\n",
            "INFO:pciSeq: Iteration 7, mean prob change 0.281664\n",
            "[2023-10-17 14:40:21] INFO    (main.py: 88)  Iteration 8, mean prob change 0.262912\n",
            "INFO:pciSeq: Iteration 8, mean prob change 0.262912\n",
            "[2023-10-17 14:40:24] INFO    (main.py: 88)  Iteration 9, mean prob change 0.191133\n",
            "INFO:pciSeq: Iteration 9, mean prob change 0.191133\n",
            "[2023-10-17 14:40:26] INFO    (main.py: 88)  Iteration 10, mean prob change 0.558235\n",
            "INFO:pciSeq: Iteration 10, mean prob change 0.558235\n",
            "[2023-10-17 14:40:28] INFO    (main.py: 88)  Iteration 11, mean prob change 0.190493\n",
            "INFO:pciSeq: Iteration 11, mean prob change 0.190493\n",
            "[2023-10-17 14:40:29] INFO    (main.py: 88)  Iteration 12, mean prob change 0.248299\n",
            "INFO:pciSeq: Iteration 12, mean prob change 0.248299\n",
            "[2023-10-17 14:40:31] INFO    (main.py: 88)  Iteration 13, mean prob change 0.282528\n",
            "INFO:pciSeq: Iteration 13, mean prob change 0.282528\n",
            "[2023-10-17 14:40:33] INFO    (main.py: 88)  Iteration 14, mean prob change 0.068274\n",
            "INFO:pciSeq: Iteration 14, mean prob change 0.068274\n",
            "[2023-10-17 14:40:36] INFO    (main.py: 88)  Iteration 15, mean prob change 0.160980\n",
            "INFO:pciSeq: Iteration 15, mean prob change 0.160980\n",
            "[2023-10-17 14:40:38] INFO    (main.py: 88)  Iteration 16, mean prob change 0.582828\n",
            "INFO:pciSeq: Iteration 16, mean prob change 0.582828\n",
            "[2023-10-17 14:40:40] INFO    (main.py: 88)  Iteration 17, mean prob change 0.167344\n",
            "INFO:pciSeq: Iteration 17, mean prob change 0.167344\n",
            "[2023-10-17 14:40:42] INFO    (main.py: 88)  Iteration 18, mean prob change 0.148894\n",
            "INFO:pciSeq: Iteration 18, mean prob change 0.148894\n",
            "[2023-10-17 14:40:44] INFO    (main.py: 88)  Iteration 19, mean prob change 0.122970\n",
            "INFO:pciSeq: Iteration 19, mean prob change 0.122970\n",
            "[2023-10-17 14:40:46] INFO    (main.py: 88)  Iteration 20, mean prob change 0.089855\n",
            "INFO:pciSeq: Iteration 20, mean prob change 0.089855\n",
            "[2023-10-17 14:40:49] INFO    (main.py: 88)  Iteration 21, mean prob change 0.044864\n",
            "INFO:pciSeq: Iteration 21, mean prob change 0.044864\n",
            "[2023-10-17 14:40:51] INFO    (main.py: 88)  Iteration 22, mean prob change 0.067801\n",
            "INFO:pciSeq: Iteration 22, mean prob change 0.067801\n",
            "[2023-10-17 14:40:53] INFO    (main.py: 88)  Iteration 23, mean prob change 0.107513\n",
            "INFO:pciSeq: Iteration 23, mean prob change 0.107513\n",
            "[2023-10-17 14:40:55] INFO    (main.py: 88)  Iteration 24, mean prob change 0.191525\n",
            "INFO:pciSeq: Iteration 24, mean prob change 0.191525\n",
            "[2023-10-17 14:40:57] INFO    (main.py: 88)  Iteration 25, mean prob change 0.162755\n",
            "INFO:pciSeq: Iteration 25, mean prob change 0.162755\n",
            "[2023-10-17 14:40:58] INFO    (main.py: 88)  Iteration 26, mean prob change 0.062075\n",
            "INFO:pciSeq: Iteration 26, mean prob change 0.062075\n",
            "[2023-10-17 14:41:01] INFO    (main.py: 88)  Iteration 27, mean prob change 0.044864\n",
            "INFO:pciSeq: Iteration 27, mean prob change 0.044864\n",
            "[2023-10-17 14:41:03] INFO    (main.py: 88)  Iteration 28, mean prob change 0.031515\n",
            "INFO:pciSeq: Iteration 28, mean prob change 0.031515\n",
            "[2023-10-17 14:41:05] INFO    (main.py: 88)  Iteration 29, mean prob change 0.019637\n",
            "INFO:pciSeq: Iteration 29, mean prob change 0.019637\n",
            "[2023-10-17 14:41:05] INFO    (summary.py: 23)  Start collecting data ...\n",
            "INFO:pciSeq: Start collecting data ...\n",
            "[2023-10-17 14:41:05] INFO    (summary.py: 47)  Data collected!\n",
            "INFO:pciSeq: Data collected!\n",
            "[2023-10-17 14:41:06] INFO    (app.py:116)  Done\n",
            "INFO:pciSeq: Done\n"
          ]
        }
      ],
      "source": [
        "cellData, geneData = pciSeq.fit(spots=iss_spots, coo=coo, scRNAseq=scRNAseq, opts=opts)"
      ]
    },
    {
      "cell_type": "markdown",
      "metadata": {
        "id": "7aoFWD0EVgzq"
      },
      "source": [
        "#### 2.1 Reading the dashboard"
      ]
    },
    {
      "cell_type": "markdown",
      "metadata": {
        "id": "MJWX5ondVgzq"
      },
      "source": [
        "The dashboard should now be running on another tab of your browser. It should show two plots similar to the ones below; They are getting refreshed on every loop as they algorithm tries to converge.\n",
        "\n",
        "Gene efficiency can be thought of as the ratio between the observed and the theoretical gene counts. The default value for example, is 0.2 which means that on average for each gene we expect to have 5 times less counts than those expressed in the single cell data. If I had included a plot of the gene efficiency before the start of the iterations then we should have had a bar chart where all bars have the same length and equal to 0.2. This value however changes based on our prior views coupled with evidence that comes from the data and is crystallised when the algorithm converges. This gradual shift  from the data-agnostic state (where only the prior 0.2 is available) to the optimal one is shown in the left plot of the dashboard. It is easy to see for example that Neurod6 stands out with a gene efficiency close to 1.35. Technically, the plot shows the mean of the approximated (ie variational) posterior distribution.\n",
        "\n",
        "In my view, the most useful plot to check whether something has gone horrible wrong is the plot on the right. In each loop, it calculates how many cells have been assigned to each cell class and then plots those cell counts. The class that stands out is the Zero class, we see that about 1030 out of the total 3481 (around 30%) have been classed as Zero class. This is not uncommon, quite often the Zero class is the most populated class (could be more than 30% on some occasions). If something has gone wrong however then the vast majority (around 95%) of the cells will be Zero class. If that happens, then one reason could be that the gene efficiency needs to be adjusted. The user should reflect about the reference data (single cell data) and the experiment and set the inefficiency value to something that relfects the case.\n",
        "\n",
        "To familiarise yourself, the user is encouraged to purposely kick-off *pciSeq.fit()* with a mis-specified value for inefficiency, set for example *'Inefficiency': 100* or even *'Inefficiency': 1000*. You will notice that gene efficiency hardly moves as the algorithms loops and all cells end up under the Zero class. With the demo data, the fit finishes after a few runs, your data however maybe more demanding; Hopefully these diagnostic plots will help you detect problems at the very starting stages and you will not have to wait until the end to realise that some has been mispecified.\n",
        "\n",
        "If you are confident that you have set a reasonable value for Inefficiency and despite that you get way too many Zero class cells, then a contributing factor could be the *MisreadDensity*. A higher value, (for example from 1e-5 to 1e-4) will tilt the likelihood towards a view that considers the spots as misreads and that will have a knock-on effect on the cell-to-cellClass assignments which will demonstrate itself by the abundance of Zero class cells in our results.\n",
        "\n",
        "Most often however it is the *Inefficiency* that needs tweaking and not the *MisreadDensity*.\n",
        "\n",
        "Notes:\n",
        " - You can close the diagnostics tab while the algorithm converges, nothing will happen to the main loop, they are handled by different processes.\n",
        " - I am using the terms *Inefficiency* and *gene efficiency* interchangeably, they mean exaclty the same thing (which TBH doesnt look very effcient as a way of writing... Strictly speaking they are the complete opposite!)\n",
        " - As you can notice from the plot, each gene has its own inefficiency. The starting value (0.2 in this case) doesnt have to be spot-on, it is just a guess to help the algorithm not to side-step into the wrong search path.\n",
        " - The *MisreadDensity* is set once and never changes throughout the pciSeq run. It is a hyperparamerer, no inference is done about it. This is in contrast to the *Inefficiency* which is assumed as uknown and a probability distribution is drawn to describe our view about it. As said earlier, the mean of its approximated distribution is shown on the left plot below."
      ]
    },
    {
      "cell_type": "markdown",
      "metadata": {
        "id": "WjXribOfVgzr"
      },
      "source": [
        "<img src=\"https://github.com/acycliq/pciSeq/blob/master/notebooks/img/diagnostics.gif?raw=1\" />"
      ]
    },
    {
      "cell_type": "code",
      "execution_count": 9,
      "metadata": {
        "id": "beB3H9XVVgzr"
      },
      "outputs": [],
      "source": []
    }
  ],
  "metadata": {
    "colab": {
      "name": "diagnostics.ipynb",
      "provenance": []
    },
    "kernelspec": {
      "display_name": "Python 3 (ipykernel)",
      "language": "python",
      "name": "python3"
    },
    "language_info": {
      "codemirror_mode": {
        "name": "ipython",
        "version": 3
      },
      "file_extension": ".py",
      "mimetype": "text/x-python",
      "name": "python",
      "nbconvert_exporter": "python",
      "pygments_lexer": "ipython3",
      "version": "3.8.13"
    }
  },
  "nbformat": 4,
  "nbformat_minor": 0
}