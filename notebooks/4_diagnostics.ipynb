{
  "cells": [
    {
      "cell_type": "markdown",
      "metadata": {
        "id": "N-BfzmdCms2d"
      },
      "source": [
        "# Demo: pciSeq diagnostics\n",
        "Diagnostics aim to help you monitor on-the-fly how the fit progresses.\n",
        "<div class=\"alert alert-block alert-warning\">\n",
        "<b>Note:</b> Download and run the notebook locally. Diagnostics run on the browser and the call will fail if the notebook is cloud-based. I couldnt also make redis run on Colab.\n",
        "</div>"
      ]
    },
    {
      "cell_type": "markdown",
      "metadata": {
        "id": "jzHk2QWXms2j"
      },
      "source": [
        "## Installation:"
      ]
    },
    {
      "cell_type": "code",
      "execution_count": 3,
      "metadata": {
        "colab": {
          "base_uri": "https://localhost:8080/"
        },
        "id": "2N3fTzPDms2k",
        "outputId": "f69cc6cf-208a-49a9-b196-e46a5f16c0f9"
      },
      "outputs": [
        {
          "output_type": "stream",
          "name": "stdout",
          "text": [
            "Requirement already satisfied: pciSeq==0.0.60 in /usr/local/lib/python3.10/dist-packages (0.0.60)\n",
            "Requirement already satisfied: numpy-groupies in /usr/local/lib/python3.10/dist-packages (from pciSeq==0.0.60) (0.10.2)\n",
            "Requirement already satisfied: pandas in /usr/local/lib/python3.10/dist-packages (from pciSeq==0.0.60) (1.5.3)\n",
            "Requirement already satisfied: scipy in /usr/local/lib/python3.10/dist-packages (from pciSeq==0.0.60) (1.11.4)\n",
            "Requirement already satisfied: streamlit in /usr/local/lib/python3.10/dist-packages (from pciSeq==0.0.60) (1.31.0)\n",
            "Requirement already satisfied: altair in /usr/local/lib/python3.10/dist-packages (from pciSeq==0.0.60) (4.2.2)\n",
            "Requirement already satisfied: scikit-image in /usr/local/lib/python3.10/dist-packages (from pciSeq==0.0.60) (0.19.3)\n",
            "Requirement already satisfied: scikit-learn in /usr/local/lib/python3.10/dist-packages (from pciSeq==0.0.60) (1.2.2)\n",
            "Requirement already satisfied: tqdm in /usr/local/lib/python3.10/dist-packages (from pciSeq==0.0.60) (4.66.1)\n",
            "Requirement already satisfied: flask in /usr/local/lib/python3.10/dist-packages (from pciSeq==0.0.60) (2.2.5)\n",
            "Requirement already satisfied: fastremap in /usr/local/lib/python3.10/dist-packages (from pciSeq==0.0.60) (1.14.1)\n",
            "Requirement already satisfied: numexpr in /usr/local/lib/python3.10/dist-packages (from pciSeq==0.0.60) (2.9.0)\n",
            "Requirement already satisfied: diplib in /usr/local/lib/python3.10/dist-packages (from pciSeq==0.0.60) (3.4.1)\n",
            "Requirement already satisfied: pyvips in /usr/local/lib/python3.10/dist-packages (from pciSeq==0.0.60) (2.2.2)\n",
            "Requirement already satisfied: natsort in /usr/local/lib/python3.10/dist-packages (from pciSeq==0.0.60) (8.4.0)\n",
            "Requirement already satisfied: redis in /usr/local/lib/python3.10/dist-packages (from pciSeq==0.0.60) (5.0.1)\n",
            "Requirement already satisfied: pytest in /usr/local/lib/python3.10/dist-packages (from pciSeq==0.0.60) (7.4.4)\n",
            "Requirement already satisfied: entrypoints in /usr/local/lib/python3.10/dist-packages (from altair->pciSeq==0.0.60) (0.4)\n",
            "Requirement already satisfied: jinja2 in /usr/local/lib/python3.10/dist-packages (from altair->pciSeq==0.0.60) (3.1.3)\n",
            "Requirement already satisfied: jsonschema>=3.0 in /usr/local/lib/python3.10/dist-packages (from altair->pciSeq==0.0.60) (4.19.2)\n",
            "Requirement already satisfied: numpy in /usr/local/lib/python3.10/dist-packages (from altair->pciSeq==0.0.60) (1.23.5)\n",
            "Requirement already satisfied: toolz in /usr/local/lib/python3.10/dist-packages (from altair->pciSeq==0.0.60) (0.12.1)\n",
            "Requirement already satisfied: python-dateutil>=2.8.1 in /usr/local/lib/python3.10/dist-packages (from pandas->pciSeq==0.0.60) (2.8.2)\n",
            "Requirement already satisfied: pytz>=2020.1 in /usr/local/lib/python3.10/dist-packages (from pandas->pciSeq==0.0.60) (2023.4)\n",
            "Requirement already satisfied: Werkzeug>=2.2.2 in /usr/local/lib/python3.10/dist-packages (from flask->pciSeq==0.0.60) (3.0.1)\n",
            "Requirement already satisfied: itsdangerous>=2.0 in /usr/local/lib/python3.10/dist-packages (from flask->pciSeq==0.0.60) (2.1.2)\n",
            "Requirement already satisfied: click>=8.0 in /usr/local/lib/python3.10/dist-packages (from flask->pciSeq==0.0.60) (8.1.7)\n",
            "Requirement already satisfied: iniconfig in /usr/local/lib/python3.10/dist-packages (from pytest->pciSeq==0.0.60) (2.0.0)\n",
            "Requirement already satisfied: packaging in /usr/local/lib/python3.10/dist-packages (from pytest->pciSeq==0.0.60) (23.2)\n",
            "Requirement already satisfied: pluggy<2.0,>=0.12 in /usr/local/lib/python3.10/dist-packages (from pytest->pciSeq==0.0.60) (1.4.0)\n",
            "Requirement already satisfied: exceptiongroup>=1.0.0rc8 in /usr/local/lib/python3.10/dist-packages (from pytest->pciSeq==0.0.60) (1.2.0)\n",
            "Requirement already satisfied: tomli>=1.0.0 in /usr/local/lib/python3.10/dist-packages (from pytest->pciSeq==0.0.60) (2.0.1)\n",
            "Requirement already satisfied: cffi>=1.0.0 in /usr/local/lib/python3.10/dist-packages (from pyvips->pciSeq==0.0.60) (1.16.0)\n",
            "Requirement already satisfied: async-timeout>=4.0.2 in /usr/local/lib/python3.10/dist-packages (from redis->pciSeq==0.0.60) (4.0.3)\n",
            "Requirement already satisfied: networkx>=2.2 in /usr/local/lib/python3.10/dist-packages (from scikit-image->pciSeq==0.0.60) (3.2.1)\n",
            "Requirement already satisfied: pillow!=7.1.0,!=7.1.1,!=8.3.0,>=6.1.0 in /usr/local/lib/python3.10/dist-packages (from scikit-image->pciSeq==0.0.60) (9.4.0)\n",
            "Requirement already satisfied: imageio>=2.4.1 in /usr/local/lib/python3.10/dist-packages (from scikit-image->pciSeq==0.0.60) (2.31.6)\n",
            "Requirement already satisfied: tifffile>=2019.7.26 in /usr/local/lib/python3.10/dist-packages (from scikit-image->pciSeq==0.0.60) (2024.1.30)\n",
            "Requirement already satisfied: PyWavelets>=1.1.1 in /usr/local/lib/python3.10/dist-packages (from scikit-image->pciSeq==0.0.60) (1.5.0)\n",
            "Requirement already satisfied: joblib>=1.1.1 in /usr/local/lib/python3.10/dist-packages (from scikit-learn->pciSeq==0.0.60) (1.3.2)\n",
            "Requirement already satisfied: threadpoolctl>=2.0.0 in /usr/local/lib/python3.10/dist-packages (from scikit-learn->pciSeq==0.0.60) (3.2.0)\n",
            "Requirement already satisfied: blinker<2,>=1.0.0 in /usr/lib/python3/dist-packages (from streamlit->pciSeq==0.0.60) (1.4)\n",
            "Requirement already satisfied: cachetools<6,>=4.0 in /usr/local/lib/python3.10/dist-packages (from streamlit->pciSeq==0.0.60) (5.3.2)\n",
            "Requirement already satisfied: importlib-metadata<8,>=1.4 in /usr/local/lib/python3.10/dist-packages (from streamlit->pciSeq==0.0.60) (7.0.1)\n",
            "Requirement already satisfied: protobuf<5,>=3.20 in /usr/local/lib/python3.10/dist-packages (from streamlit->pciSeq==0.0.60) (3.20.3)\n",
            "Requirement already satisfied: pyarrow>=7.0 in /usr/local/lib/python3.10/dist-packages (from streamlit->pciSeq==0.0.60) (10.0.1)\n",
            "Requirement already satisfied: requests<3,>=2.27 in /usr/local/lib/python3.10/dist-packages (from streamlit->pciSeq==0.0.60) (2.31.0)\n",
            "Requirement already satisfied: rich<14,>=10.14.0 in /usr/local/lib/python3.10/dist-packages (from streamlit->pciSeq==0.0.60) (13.7.0)\n",
            "Requirement already satisfied: tenacity<9,>=8.1.0 in /usr/local/lib/python3.10/dist-packages (from streamlit->pciSeq==0.0.60) (8.2.3)\n",
            "Requirement already satisfied: toml<2,>=0.10.1 in /usr/local/lib/python3.10/dist-packages (from streamlit->pciSeq==0.0.60) (0.10.2)\n",
            "Requirement already satisfied: typing-extensions<5,>=4.3.0 in /usr/local/lib/python3.10/dist-packages (from streamlit->pciSeq==0.0.60) (4.5.0)\n",
            "Requirement already satisfied: tzlocal<6,>=1.1 in /usr/local/lib/python3.10/dist-packages (from streamlit->pciSeq==0.0.60) (5.2)\n",
            "Requirement already satisfied: validators<1,>=0.2 in /usr/local/lib/python3.10/dist-packages (from streamlit->pciSeq==0.0.60) (0.22.0)\n",
            "Requirement already satisfied: gitpython!=3.1.19,<4,>=3.0.7 in /usr/local/lib/python3.10/dist-packages (from streamlit->pciSeq==0.0.60) (3.1.41)\n",
            "Requirement already satisfied: pydeck<1,>=0.8.0b4 in /usr/local/lib/python3.10/dist-packages (from streamlit->pciSeq==0.0.60) (0.8.1b0)\n",
            "Requirement already satisfied: tornado<7,>=6.0.3 in /usr/local/lib/python3.10/dist-packages (from streamlit->pciSeq==0.0.60) (6.3.2)\n",
            "Requirement already satisfied: watchdog>=2.1.5 in /usr/local/lib/python3.10/dist-packages (from streamlit->pciSeq==0.0.60) (3.0.0)\n",
            "Requirement already satisfied: pycparser in /usr/local/lib/python3.10/dist-packages (from cffi>=1.0.0->pyvips->pciSeq==0.0.60) (2.21)\n",
            "Requirement already satisfied: gitdb<5,>=4.0.1 in /usr/local/lib/python3.10/dist-packages (from gitpython!=3.1.19,<4,>=3.0.7->streamlit->pciSeq==0.0.60) (4.0.11)\n",
            "Requirement already satisfied: zipp>=0.5 in /usr/local/lib/python3.10/dist-packages (from importlib-metadata<8,>=1.4->streamlit->pciSeq==0.0.60) (3.17.0)\n",
            "Requirement already satisfied: MarkupSafe>=2.0 in /usr/local/lib/python3.10/dist-packages (from jinja2->altair->pciSeq==0.0.60) (2.1.4)\n",
            "Requirement already satisfied: attrs>=22.2.0 in /usr/local/lib/python3.10/dist-packages (from jsonschema>=3.0->altair->pciSeq==0.0.60) (23.2.0)\n",
            "Requirement already satisfied: jsonschema-specifications>=2023.03.6 in /usr/local/lib/python3.10/dist-packages (from jsonschema>=3.0->altair->pciSeq==0.0.60) (2023.12.1)\n",
            "Requirement already satisfied: referencing>=0.28.4 in /usr/local/lib/python3.10/dist-packages (from jsonschema>=3.0->altair->pciSeq==0.0.60) (0.33.0)\n",
            "Requirement already satisfied: rpds-py>=0.7.1 in /usr/local/lib/python3.10/dist-packages (from jsonschema>=3.0->altair->pciSeq==0.0.60) (0.17.1)\n",
            "Requirement already satisfied: six>=1.5 in /usr/local/lib/python3.10/dist-packages (from python-dateutil>=2.8.1->pandas->pciSeq==0.0.60) (1.16.0)\n",
            "Requirement already satisfied: charset-normalizer<4,>=2 in /usr/local/lib/python3.10/dist-packages (from requests<3,>=2.27->streamlit->pciSeq==0.0.60) (3.3.2)\n",
            "Requirement already satisfied: idna<4,>=2.5 in /usr/local/lib/python3.10/dist-packages (from requests<3,>=2.27->streamlit->pciSeq==0.0.60) (3.6)\n",
            "Requirement already satisfied: urllib3<3,>=1.21.1 in /usr/local/lib/python3.10/dist-packages (from requests<3,>=2.27->streamlit->pciSeq==0.0.60) (2.0.7)\n",
            "Requirement already satisfied: certifi>=2017.4.17 in /usr/local/lib/python3.10/dist-packages (from requests<3,>=2.27->streamlit->pciSeq==0.0.60) (2023.11.17)\n",
            "Requirement already satisfied: markdown-it-py>=2.2.0 in /usr/local/lib/python3.10/dist-packages (from rich<14,>=10.14.0->streamlit->pciSeq==0.0.60) (3.0.0)\n",
            "Requirement already satisfied: pygments<3.0.0,>=2.13.0 in /usr/local/lib/python3.10/dist-packages (from rich<14,>=10.14.0->streamlit->pciSeq==0.0.60) (2.16.1)\n",
            "Requirement already satisfied: smmap<6,>=3.0.1 in /usr/local/lib/python3.10/dist-packages (from gitdb<5,>=4.0.1->gitpython!=3.1.19,<4,>=3.0.7->streamlit->pciSeq==0.0.60) (5.0.1)\n",
            "Requirement already satisfied: mdurl~=0.1 in /usr/local/lib/python3.10/dist-packages (from markdown-it-py>=2.2.0->rich<14,>=10.14.0->streamlit->pciSeq==0.0.60) (0.1.2)\n"
          ]
        }
      ],
      "source": [
        "!pip install pciSeq==0.0.60"
      ]
    },
    {
      "cell_type": "markdown",
      "metadata": {
        "id": "kih1uz8yms2k"
      },
      "source": [
        "Other libraries needed for this notebook:"
      ]
    },
    {
      "cell_type": "code",
      "execution_count": 4,
      "metadata": {
        "id": "rPyZnE0Mms2l",
        "outputId": "6440db46-fe9c-4a72-e8df-e705c6417776",
        "colab": {
          "base_uri": "https://localhost:8080/"
        }
      },
      "outputs": [
        {
          "output_type": "stream",
          "name": "stderr",
          "text": [
            "WARNING:pciSeq:>>>> libvips is not installed. Please see https://www.libvips.org/install.html <<<<\n",
            "WARNING:pciSeq:>>>> This is required only if you want to add a background image to the viewer. <<<<\n",
            "WARNING:pciSeq:>>>> and visualise your results after cell typing. <<<<\n",
            "WARNING:pciSeq:>>>> To do cell typing, libvips can be ignored, it is *not* necessary.  <<<<\n"
          ]
        },
        {
          "output_type": "stream",
          "name": "stdout",
          "text": [
            "DIPlib -- a quantitative image analysis library\n",
            "Version 3.4.1 (Oct 13 2023)\n",
            "For more information see https://diplib.org\n"
          ]
        }
      ],
      "source": [
        "import os\n",
        "import numpy as np\n",
        "import pandas as pd\n",
        "from scipy.sparse import load_npz, coo_matrix\n",
        "import pciSeq"
      ]
    },
    {
      "cell_type": "code",
      "execution_count": 5,
      "metadata": {
        "colab": {
          "base_uri": "https://localhost:8080/",
          "height": 35
        },
        "id": "9sSZslhtu_zd",
        "outputId": "ab5138d2-b570-4ef1-9a18-6729b93eaf37"
      },
      "outputs": [
        {
          "output_type": "execute_result",
          "data": {
            "text/plain": [
              "'0.0.60'"
            ],
            "application/vnd.google.colaboratory.intrinsic+json": {
              "type": "string"
            }
          },
          "metadata": {},
          "execution_count": 5
        }
      ],
      "source": [
        "pciSeq.__version__"
      ]
    },
    {
      "cell_type": "markdown",
      "metadata": {
        "id": "IkhAoM3xVgzo"
      },
      "source": [
        "## 1. Diagnostics"
      ]
    },
    {
      "cell_type": "markdown",
      "metadata": {
        "id": "LjywfZfXVgzo"
      },
      "source": [
        "Diagnostics is a dashboard aiming to help users understand, on the fly, whether the algorithm is heading towards the wrong direction. If that happens he/she can stop the run at the spot instead of waiting until the very end (which could take a while) to examine the results and realise that they do not make sense. He/she can then reconfigure the hyperparameters and start again pciSeq"
      ]
    },
    {
      "cell_type": "markdown",
      "metadata": {
        "id": "7cpA_KFnVgzo"
      },
      "source": [
        "### 1.1. Prerequisities"
      ]
    },
    {
      "cell_type": "markdown",
      "metadata": {
        "id": "DvPz94pyVgzo"
      },
      "source": [
        "You must install redis if you are on Linux, or Memurai if you are on Windows.\n",
        "\n",
        "For redis do:\n",
        "* sudo apt-get install redis-server redis-tools\n",
        "\n",
        "and then start the service:\n",
        "\n",
        "* sudo service redis-server start\n",
        "\n",
        "You can get memurai from [here](https://www.memurai.com/get-memurai). Once installed, the service should start automatically but you can manually start it by:\n",
        "\n",
        "* memurai.exe --service-start\n",
        "\n",
        "If for whatever reason you cannot install redis (or memurai) then pass *'launch_diagnostics': False* in the options dict when you call *pciSeq.fit()*. Redis serves as layer to pass data from the main python loop to the dashboard. By setting *'launch_diagnostics': False* this communication should be prevented and redis shouldnt got into the landscape."
      ]
    },
    {
      "cell_type": "markdown",
      "metadata": {
        "id": "2o6QOwvvVgzp"
      },
      "source": [
        "### 1.2. The dashboard"
      ]
    },
    {
      "cell_type": "markdown",
      "metadata": {
        "id": "8JFaLAAjVgzp"
      },
      "source": [
        "We skip the preliminairies, they have been covered on the other notebooks, and we go straight to the *fit()* method having first loaded some demo data"
      ]
    },
    {
      "cell_type": "code",
      "execution_count": 6,
      "metadata": {
        "id": "pQ9MmWToVgzp",
        "outputId": "2aec365d-6337-4f43-e7cd-a624ae8bfb83",
        "colab": {
          "base_uri": "https://localhost:8080/"
        }
      },
      "outputs": [
        {
          "output_type": "stream",
          "name": "stderr",
          "text": [
            "Downloading: \"https://github.com/acycliq/pciSeq/blob/dev/pciSeq/data/mouse/ca1/segmentation/label_image.coo.npz?raw=true\" to label_image.coo.npz\n",
            "100%|██████████| 654k/654k [00:00<00:00, 15.8MB/s]\n"
          ]
        }
      ],
      "source": [
        "coo_file = pciSeq.utils.load_from_url('https://github.com/acycliq/pciSeq/blob/dev/pciSeq/data/mouse/ca1/segmentation/label_image.coo.npz?raw=true')\n",
        "coo = load_npz(coo_file)"
      ]
    },
    {
      "cell_type": "code",
      "execution_count": 7,
      "metadata": {
        "id": "X-J2OxqTVgzp",
        "outputId": "41d77da5-38d5-4447-ea5e-2e3d2edb923f",
        "colab": {
          "base_uri": "https://localhost:8080/"
        }
      },
      "outputs": [
        {
          "output_type": "stream",
          "name": "stderr",
          "text": [
            "Downloading: \"https://github.com/acycliq/pciSeq/blob/dev/pciSeq/data/mouse/ca1/iss/spots.csv?raw=true\" to spots.csv\n",
            "100%|██████████| 1.10M/1.10M [00:00<00:00, 22.1MB/s]\n"
          ]
        }
      ],
      "source": [
        "spots_file = pciSeq.utils.load_from_url('https://github.com/acycliq/pciSeq/blob/dev/pciSeq/data/mouse/ca1/iss/spots.csv?raw=true')\n",
        "iss_spots = pd.read_csv(spots_file)"
      ]
    },
    {
      "cell_type": "code",
      "execution_count": 8,
      "metadata": {
        "id": "zA2Z7TbVVgzp",
        "outputId": "aeba4cf2-5770-4870-960b-f3a10c8fb02f",
        "colab": {
          "base_uri": "https://localhost:8080/"
        }
      },
      "outputs": [
        {
          "output_type": "stream",
          "name": "stderr",
          "text": [
            "Downloading: \"https://github.com/acycliq/pciSeq/blob/dev/pciSeq/data/mouse/ca1/scRNA/scRNAseq.csv.gz?raw=true\" to scRNAseq.csv.gz\n",
            "100%|██████████| 11.2M/11.2M [00:00<00:00, 98.1MB/s]\n"
          ]
        }
      ],
      "source": [
        "sc_file = pciSeq.utils.load_from_url('https://github.com/acycliq/pciSeq/blob/dev/pciSeq/data/mouse/ca1/scRNA/scRNAseq.csv.gz?raw=true')\n",
        "scRNAseq = pd.read_csv(sc_file, header=None, index_col=0, compression='gzip', dtype=object)\n",
        "scRNAseq = scRNAseq.rename(columns=scRNAseq.iloc[0], copy=False).iloc[1:]\n",
        "scRNAseq = scRNAseq.astype(float).astype(np.uint32)"
      ]
    },
    {
      "cell_type": "code",
      "execution_count": 9,
      "metadata": {
        "id": "A8z9AfvJVgzq",
        "outputId": "dbed4365-b311-4748-deea-d6895c1473b9",
        "colab": {
          "base_uri": "https://localhost:8080/"
        }
      },
      "outputs": [
        {
          "output_type": "execute_result",
          "data": {
            "text/plain": [
              "<Logger pciSeq.src.core.logger (INFO)>"
            ]
          },
          "metadata": {},
          "execution_count": 9
        }
      ],
      "source": [
        "pciSeq.setup_logger()"
      ]
    },
    {
      "cell_type": "code",
      "execution_count": 10,
      "metadata": {
        "id": "LhFuu_hoVgzq"
      },
      "outputs": [],
      "source": [
        "# Switch on the diagnostics\n",
        "opts = {'launch_diagnostics': True}"
      ]
    },
    {
      "cell_type": "markdown",
      "metadata": {
        "id": "0aROl63HVgzq"
      },
      "source": [
        "**Do not miss to read some useful comments at the bottom of this notebook, section 2.1. You can jump straight to them by clicking [here](#2.1-Reading-the-dashboard).**"
      ]
    },
    {
      "cell_type": "code",
      "execution_count": 11,
      "metadata": {
        "colab": {
          "base_uri": "https://localhost:8080/"
        },
        "id": "t3-xm-1UVgzq",
        "outputId": "41672131-1078-477b-97a9-26a04df1c365"
      },
      "outputs": [
        {
          "output_type": "stream",
          "name": "stdout",
          "text": [
            "2024-02-05 14:55:33,386 [INFO] check_redis_server\n",
            "2024-02-05 14:55:33,394 [INFO] Redis ping failed!. Diagnostics will not be called unless redis is installed and the service is running\n",
            "2024-02-05 14:55:33,396 [INFO] launch_diagnostics is set to True\n",
            "2024-02-05 14:55:33,414 [INFO] Preprocessing data\n",
            "2024-02-05 14:55:33,719 [INFO] Number of spots passed-in: 72336\n",
            "2024-02-05 14:55:34,000 [INFO] Number of segmented cells: 3481\n",
            "2024-02-05 14:55:34,005 [INFO] Segmentation array implies that image has width: 7602px and height: 5471px\n",
            "2024-02-05 14:55:35,802 [INFO] Single cell data passed-in have 27998 genes and 5712 cells\n",
            "2024-02-05 14:55:35,804 [INFO] Single cell data: Keeping counts for the gene panel of 92 only\n",
            "2024-02-05 14:55:35,855 [INFO] Single cell data: Grouping gene counts by cell type. Aggregating function is the mean.\n",
            "2024-02-05 14:55:35,870 [INFO] Grouped single cell data have 92 genes and 71 cell types\n",
            "2024-02-05 14:55:35,880 [INFO] Start cell typing\n",
            "2024-02-05 14:55:39,427 [INFO] Iteration 0, mean prob change 1.000000\n",
            "2024-02-05 14:55:41,549 [INFO] Iteration 1, mean prob change 0.899874\n",
            "2024-02-05 14:55:44,543 [INFO] Iteration 2, mean prob change 0.670799\n",
            "2024-02-05 14:55:46,544 [INFO] Iteration 3, mean prob change 0.470356\n",
            "2024-02-05 14:55:48,521 [INFO] Iteration 4, mean prob change 0.627468\n",
            "2024-02-05 14:55:50,472 [INFO] Iteration 5, mean prob change 0.580998\n",
            "2024-02-05 14:55:52,432 [INFO] Iteration 6, mean prob change 0.605054\n",
            "2024-02-05 14:55:54,393 [INFO] Iteration 7, mean prob change 0.281664\n",
            "2024-02-05 14:55:57,145 [INFO] Iteration 8, mean prob change 0.262912\n",
            "2024-02-05 14:55:59,248 [INFO] Iteration 9, mean prob change 0.191133\n",
            "2024-02-05 14:56:01,255 [INFO] Iteration 10, mean prob change 0.558235\n",
            "2024-02-05 14:56:03,209 [INFO] Iteration 11, mean prob change 0.190493\n",
            "2024-02-05 14:56:05,213 [INFO] Iteration 12, mean prob change 0.248299\n",
            "2024-02-05 14:56:07,198 [INFO] Iteration 13, mean prob change 0.282528\n",
            "2024-02-05 14:56:09,941 [INFO] Iteration 14, mean prob change 0.068274\n",
            "2024-02-05 14:56:12,034 [INFO] Iteration 15, mean prob change 0.160980\n",
            "2024-02-05 14:56:14,012 [INFO] Iteration 16, mean prob change 0.582828\n",
            "2024-02-05 14:56:15,975 [INFO] Iteration 17, mean prob change 0.167344\n",
            "2024-02-05 14:56:17,943 [INFO] Iteration 18, mean prob change 0.148894\n",
            "2024-02-05 14:56:19,886 [INFO] Iteration 19, mean prob change 0.122970\n",
            "2024-02-05 14:56:22,623 [INFO] Iteration 20, mean prob change 0.089855\n",
            "2024-02-05 14:56:24,698 [INFO] Iteration 21, mean prob change 0.044864\n",
            "2024-02-05 14:56:26,625 [INFO] Iteration 22, mean prob change 0.067801\n",
            "2024-02-05 14:56:28,572 [INFO] Iteration 23, mean prob change 0.107513\n",
            "2024-02-05 14:56:30,527 [INFO] Iteration 24, mean prob change 0.191525\n",
            "2024-02-05 14:56:32,473 [INFO] Iteration 25, mean prob change 0.162755\n",
            "2024-02-05 14:56:35,200 [INFO] Iteration 26, mean prob change 0.062075\n",
            "2024-02-05 14:56:37,316 [INFO] Iteration 27, mean prob change 0.044864\n",
            "2024-02-05 14:56:39,273 [INFO] Iteration 28, mean prob change 0.031515\n",
            "2024-02-05 14:56:41,229 [INFO] Iteration 29, mean prob change 0.019637\n",
            "2024-02-05 14:56:41,255 [INFO] Start collecting data ...\n",
            "2024-02-05 14:56:41,336 [INFO] Data collected!\n",
            "2024-02-05 14:56:41,692 [INFO] Done\n"
          ]
        }
      ],
      "source": [
        "cellData, geneData = pciSeq.fit(spots=iss_spots, coo=coo, scRNAseq=scRNAseq, opts=opts)"
      ]
    },
    {
      "cell_type": "markdown",
      "metadata": {
        "id": "7aoFWD0EVgzq"
      },
      "source": [
        "#### 2.1 Reading the dashboard"
      ]
    },
    {
      "cell_type": "markdown",
      "metadata": {
        "id": "MJWX5ondVgzq"
      },
      "source": [
        "The dashboard should now be running on another tab of your browser. It should show two plots similar to the ones below; They are getting refreshed on every loop as they algorithm tries to converge.\n",
        "\n",
        "Gene efficiency can be thought of as the ratio between the observed and the theoretical gene counts. The default value for example, is 0.2 which means that on average for each gene we expect to have 5 times less counts than those expressed in the single cell data. If I had included a plot of the gene efficiency before the start of the iterations then we should have had a bar chart where all bars have the same length and equal to 0.2. This value however changes based on our prior views coupled with evidence that comes from the data and is crystallised when the algorithm converges. This gradual shift  from the data-agnostic state (where only the prior 0.2 is available) to the optimal one is shown in the left plot of the dashboard. It is easy to see for example that Neurod6 stands out with a gene efficiency close to 1.35. Technically, the plot shows the mean of the approximated (ie variational) posterior distribution.\n",
        "\n",
        "In my view, the most useful plot to check whether something has gone horrible wrong is the plot on the right. In each loop, it calculates how many cells have been assigned to each cell class and then plots those cell counts. The class that stands out is the Zero class, we see that about 1030 out of the total 3481 (around 30%) have been classed as Zero class. This is not uncommon, quite often the Zero class is the most populated class (could be more than 30% on some occasions). If something has gone wrong however then the vast majority (around 95%) of the cells will be Zero class. If that happens, then one reason could be that the gene efficiency needs to be adjusted. The user should reflect about the reference data (single cell data) and the experiment and set the inefficiency value to something that relfects the case.\n",
        "\n",
        "To familiarise yourself, the user is encouraged to purposely kick-off *pciSeq.fit()* with a mis-specified value for inefficiency, set for example *'Inefficiency': 100* or even *'Inefficiency': 1000*. You will notice that gene efficiency hardly moves as the algorithms loops and all cells end up under the Zero class. With the demo data, the fit finishes after a few runs, your data however maybe more demanding; Hopefully these diagnostic plots will help you detect problems at the very starting stages and you will not have to wait until the end to realise that some has been mispecified.\n",
        "\n",
        "If you are confident that you have set a reasonable value for Inefficiency and despite that you get way too many Zero class cells, then a contributing factor could be the *MisreadDensity*. A higher value, (for example from 1e-5 to 1e-4) will tilt the likelihood towards a view that considers the spots as misreads and that will have a knock-on effect on the cell-to-cellClass assignments which will demonstrate itself by the abundance of Zero class cells in our results.\n",
        "\n",
        "Most often however it is the *Inefficiency* that needs tweaking and not the *MisreadDensity*.\n",
        "\n",
        "Notes:\n",
        " - You can close the diagnostics tab while the algorithm converges, nothing will happen to the main loop, they are handled by different processes.\n",
        " - I am using the terms *Inefficiency* and *gene efficiency* interchangeably, they mean exaclty the same thing (which TBH doesnt look very effcient as a way of writing... Strictly speaking they are the complete opposite!)\n",
        " - As you can notice from the plot, each gene has its own inefficiency. The starting value (0.2 in this case) doesnt have to be spot-on, it is just a guess to help the algorithm not to side-step into the wrong search path.\n",
        " - The *MisreadDensity* is set once and never changes throughout the pciSeq run. It is a hyperparamerer, no inference is done about it. This is in contrast to the *Inefficiency* which is assumed as uknown and a probability distribution is drawn to describe our view about it. As said earlier, the mean of its approximated distribution is shown on the left plot below."
      ]
    },
    {
      "cell_type": "markdown",
      "metadata": {
        "id": "WjXribOfVgzr"
      },
      "source": [
        "<img src=\"https://github.com/acycliq/pciSeq/blob/master/notebooks/img/diagnostics.gif?raw=1\" />"
      ]
    },
    {
      "cell_type": "code",
      "execution_count": 11,
      "metadata": {
        "id": "beB3H9XVVgzr"
      },
      "outputs": [],
      "source": []
    }
  ],
  "metadata": {
    "colab": {
      "name": "diagnostics.ipynb",
      "provenance": []
    },
    "kernelspec": {
      "display_name": "Python 3 (ipykernel)",
      "language": "python",
      "name": "python3"
    },
    "language_info": {
      "codemirror_mode": {
        "name": "ipython",
        "version": 3
      },
      "file_extension": ".py",
      "mimetype": "text/x-python",
      "name": "python",
      "nbconvert_exporter": "python",
      "pygments_lexer": "ipython3",
      "version": "3.8.13"
    }
  },
  "nbformat": 4,
  "nbformat_minor": 0
}