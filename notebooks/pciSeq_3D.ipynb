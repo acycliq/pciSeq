{
 "cells": [
  {
   "cell_type": "markdown",
   "id": "b952a7c4-199e-40b9-99e1-4fba8c2c4915",
   "metadata": {},
   "source": [
    "# 3D cell calling demo"
   ]
  },
  {
   "cell_type": "markdown",
   "id": "bd2bb609-b2d9-4336-9483-47fc4af2c960",
   "metadata": {},
   "source": [
    "This is a short demo on how to use the pciSeq_3D package."
   ]
  },
  {
   "cell_type": "markdown",
   "id": "8dea27b8-5de3-40a7-a760-0a45e1afc117",
   "metadata": {},
   "source": [
    "## 1. The wheel"
   ]
  },
  {
   "cell_type": "markdown",
   "id": "7d07869d-2c7a-4d6f-bb27-e12b5c23c2fb",
   "metadata": {},
   "source": [
    "Install the package with the following command:"
   ]
  },
  {
   "cell_type": "code",
   "execution_count": 1,
   "id": "b81a5110-da4e-42e8-a97a-fd68b0b3e2f5",
   "metadata": {},
   "outputs": [
    {
     "name": "stdout",
     "output_type": "stream",
     "text": [
      "Collecting pciSeq-3D==0.0.5\n",
      "  Downloading https://storage.googleapis.com/dxn_temp/3D_data/demo_data/pciSeq_3D-0.0.5-py3-none-any.whl (120 kB)\n",
      "Requirement already satisfied: numexpr in c:\\users\\skgtdni\\appdata\\roaming\\python\\python37\\site-packages (from pciSeq-3D==0.0.5) (2.8.1)\n",
      "Requirement already satisfied: pyvips in c:\\users\\skgtdni\\appdata\\roaming\\python\\python37\\site-packages (from pciSeq-3D==0.0.5) (2.2.0)\n",
      "Requirement already satisfied: tqdm in c:\\users\\skgtdni\\appdata\\roaming\\python\\python37\\site-packages (from pciSeq-3D==0.0.5) (4.64.0)\n",
      "Requirement already satisfied: sklearn in c:\\users\\skgtdni\\appdata\\roaming\\python\\python37\\site-packages (from pciSeq-3D==0.0.5) (0.0)\n",
      "Requirement already satisfied: pandas in c:\\users\\skgtdni\\appdata\\roaming\\python\\python37\\site-packages (from pciSeq-3D==0.0.5) (1.3.5)\n",
      "Requirement already satisfied: numpy-groupies in c:\\users\\skgtdni\\appdata\\roaming\\python\\python37\\site-packages (from pciSeq-3D==0.0.5) (0.9.16)\n",
      "Requirement already satisfied: xarray in c:\\users\\skgtdni\\appdata\\roaming\\python\\python37\\site-packages (from pciSeq-3D==0.0.5) (0.20.2)\n",
      "Requirement already satisfied: opencv-python in c:\\users\\skgtdni\\appdata\\roaming\\python\\python37\\site-packages (from pciSeq-3D==0.0.5) (4.5.5.64)\n",
      "Requirement already satisfied: scikit-image in c:\\users\\skgtdni\\appdata\\roaming\\python\\python37\\site-packages (from pciSeq-3D==0.0.5) (0.19.2)\n",
      "Requirement already satisfied: diplib in c:\\users\\skgtdni\\appdata\\roaming\\python\\python37\\site-packages (from pciSeq-3D==0.0.5) (3.2.0)\n",
      "Requirement already satisfied: numpy in c:\\programdata\\anaconda3\\lib\\site-packages (from pciSeq-3D==0.0.5) (1.21.6)\n",
      "Requirement already satisfied: packaging in c:\\users\\skgtdni\\appdata\\roaming\\python\\python37\\site-packages (from numexpr->pciSeq-3D==0.0.5) (21.3)\n",
      "Requirement already satisfied: pyparsing!=3.0.5,>=2.0.2 in c:\\users\\skgtdni\\appdata\\roaming\\python\\python37\\site-packages (from packaging->numexpr->pciSeq-3D==0.0.5) (3.0.9)\n",
      "Requirement already satisfied: pytz>=2017.3 in c:\\users\\skgtdni\\appdata\\roaming\\python\\python37\\site-packages (from pandas->pciSeq-3D==0.0.5) (2022.1)\n",
      "Requirement already satisfied: python-dateutil>=2.7.3 in c:\\users\\skgtdni\\appdata\\roaming\\python\\python37\\site-packages (from pandas->pciSeq-3D==0.0.5) (2.8.2)\n",
      "Requirement already satisfied: six>=1.5 in c:\\programdata\\anaconda3\\lib\\site-packages (from python-dateutil>=2.7.3->pandas->pciSeq-3D==0.0.5) (1.16.0)\n",
      "Requirement already satisfied: cffi>=1.0.0 in c:\\users\\skgtdni\\appdata\\roaming\\python\\python37\\site-packages (from pyvips->pciSeq-3D==0.0.5) (1.15.0)\n",
      "Requirement already satisfied: pycparser in c:\\users\\skgtdni\\appdata\\roaming\\python\\python37\\site-packages (from cffi>=1.0.0->pyvips->pciSeq-3D==0.0.5) (2.21)\n",
      "Requirement already satisfied: networkx>=2.2 in c:\\users\\skgtdni\\appdata\\roaming\\python\\python37\\site-packages (from scikit-image->pciSeq-3D==0.0.5) (2.6.3)\n",
      "Requirement already satisfied: PyWavelets>=1.1.1 in c:\\users\\skgtdni\\appdata\\roaming\\python\\python37\\site-packages (from scikit-image->pciSeq-3D==0.0.5) (1.3.0)\n",
      "Requirement already satisfied: pillow!=7.1.0,!=7.1.1,!=8.3.0,>=6.1.0 in c:\\users\\skgtdni\\appdata\\roaming\\python\\python37\\site-packages (from scikit-image->pciSeq-3D==0.0.5) (9.1.0)\n",
      "Requirement already satisfied: imageio>=2.4.1 in c:\\users\\skgtdni\\appdata\\roaming\\python\\python37\\site-packages (from scikit-image->pciSeq-3D==0.0.5) (2.19.2)\n",
      "Requirement already satisfied: scipy>=1.4.1 in c:\\programdata\\anaconda3\\lib\\site-packages (from scikit-image->pciSeq-3D==0.0.5) (1.7.3)\n",
      "Requirement already satisfied: tifffile>=2019.7.26 in c:\\users\\skgtdni\\appdata\\roaming\\python\\python37\\site-packages (from scikit-image->pciSeq-3D==0.0.5) (2021.11.2)\n",
      "Requirement already satisfied: scikit-learn in c:\\users\\skgtdni\\appdata\\roaming\\python\\python37\\site-packages (from sklearn->pciSeq-3D==0.0.5) (1.0.2)\n",
      "Requirement already satisfied: joblib>=0.11 in c:\\users\\skgtdni\\appdata\\roaming\\python\\python37\\site-packages (from scikit-learn->sklearn->pciSeq-3D==0.0.5) (1.1.0)\n",
      "Requirement already satisfied: threadpoolctl>=2.0.0 in c:\\programdata\\anaconda3\\lib\\site-packages (from scikit-learn->sklearn->pciSeq-3D==0.0.5) (3.1.0)\n",
      "Requirement already satisfied: colorama in c:\\users\\skgtdni\\appdata\\roaming\\python\\python37\\site-packages (from tqdm->pciSeq-3D==0.0.5) (0.4.4)\n",
      "Requirement already satisfied: importlib-metadata in c:\\users\\skgtdni\\appdata\\roaming\\python\\python37\\site-packages (from xarray->pciSeq-3D==0.0.5) (4.11.3)\n",
      "Requirement already satisfied: typing-extensions>=3.7 in c:\\programdata\\anaconda3\\lib\\site-packages (from xarray->pciSeq-3D==0.0.5) (4.2.0)\n",
      "Requirement already satisfied: zipp>=0.5 in c:\\programdata\\anaconda3\\lib\\site-packages (from importlib-metadata->xarray->pciSeq-3D==0.0.5) (3.8.0)\n"
     ]
    }
   ],
   "source": [
    "!pip install \"https://storage.googleapis.com/dxn_temp/3D_data/demo_data/pciSeq_3D-0.0.5-py3-none-any.whl\""
   ]
  },
  {
   "cell_type": "markdown",
   "id": "e3182358-f898-4959-b54c-6abc4236907c",
   "metadata": {},
   "source": [
    "You can now import the pciSeq_3D package (and some other needed for this notebook)"
   ]
  },
  {
   "cell_type": "code",
   "execution_count": 2,
   "id": "068083b6-911a-4522-be66-3794e1e5e7fe",
   "metadata": {},
   "outputs": [
    {
     "name": "stdout",
     "output_type": "stream",
     "text": [
      "PyDIPjavaio unavailable:\n",
      "DLL load failed: The specified module could not be found.\n",
      "\n",
      "libjvm not found\n",
      "DIPlib -- a quantitative image analysis library\n",
      "Version 3.2.0 (Feb  8 2022)\n",
      "For more information see https://diplib.org\n"
     ]
    }
   ],
   "source": [
    "import pciSeq_3D\n",
    "import numpy as np\n",
    "import pandas as pd\n",
    "from scipy.sparse import coo_matrix\n",
    "import skimage.io\n",
    "import matplotlib.pyplot as plt\n",
    "import os"
   ]
  },
  {
   "cell_type": "code",
   "execution_count": 3,
   "id": "74d8ceab-cb53-4207-a544-82ff25b5ed13",
   "metadata": {},
   "outputs": [
    {
     "data": {
      "text/plain": [
       "'0.0.5'"
      ]
     },
     "execution_count": 3,
     "metadata": {},
     "output_type": "execute_result"
    }
   ],
   "source": [
    "pciSeq_3D.__version__"
   ]
  },
  {
   "cell_type": "markdown",
   "id": "0929b625-c513-4e53-b230-85823e0a8ded",
   "metadata": {},
   "source": [
    "## 2. The data"
   ]
  },
  {
   "cell_type": "markdown",
   "id": "64ddd494-a1ac-4f6c-ab8c-c0bb50e5e952",
   "metadata": {},
   "source": [
    "The required data are\n",
    " - Spots\n",
    " - Segmentation\n",
    " - Single cell data\n",
    " \n",
    " There is also a fourth optional argument to override the default hyperparameters set by [setup.py](https://github.com/acycliq/pciSeq/blob/dev_3d/pciSeq/config.py). To pass-in your own hyperparemeter values create a dict with keys the hyperparameter name and values the new values.\n",
    " \n",
    " Do not forget to set the pixel per micron (ppm) value so that it matches your experiment/imaging setup. The default value is ppm=6.0121. To override that with another value, let's say 3.5, make a dict opts = {'ppm': 3.5} and pass that dict as a fourth argument. "
   ]
  },
  {
   "cell_type": "markdown",
   "id": "ced907b2-c015-49be-b5aa-4c60e01c6e63",
   "metadata": {},
   "source": [
    "### 2.1 The spots"
   ]
  },
  {
   "cell_type": "markdown",
   "id": "f8075a9a-8821-4055-a722-ed50712b5eda",
   "metadata": {},
   "source": [
    "Let's have a look at the spots. This should be a dataframe file with columns 'x', 'y', 'z_stack', 'Gene'. The ordering of the columns is not important, case-sensitivity however is.\n",
    "Note also that while columns 'x' and 'y' are for actual spot coordinates, the one labelled as 'z_stack' keeps the frame number within the stacked 3D image on which the spot was detected. "
   ]
  },
  {
   "cell_type": "code",
   "execution_count": 4,
   "id": "2189432f-8e3a-4b9c-b0f7-70a284523a36",
   "metadata": {},
   "outputs": [
    {
     "data": {
      "text/html": [
       "<div>\n",
       "<style scoped>\n",
       "    .dataframe tbody tr th:only-of-type {\n",
       "        vertical-align: middle;\n",
       "    }\n",
       "\n",
       "    .dataframe tbody tr th {\n",
       "        vertical-align: top;\n",
       "    }\n",
       "\n",
       "    .dataframe thead th {\n",
       "        text-align: right;\n",
       "    }\n",
       "</style>\n",
       "<table border=\"1\" class=\"dataframe\">\n",
       "  <thead>\n",
       "    <tr style=\"text-align: right;\">\n",
       "      <th></th>\n",
       "      <th>y</th>\n",
       "      <th>x</th>\n",
       "      <th>z_stack</th>\n",
       "      <th>Gene</th>\n",
       "    </tr>\n",
       "  </thead>\n",
       "  <tbody>\n",
       "    <tr>\n",
       "      <th>0</th>\n",
       "      <td>5262.503247</td>\n",
       "      <td>4035.614339</td>\n",
       "      <td>17.788926</td>\n",
       "      <td>Nrn1</td>\n",
       "    </tr>\n",
       "    <tr>\n",
       "      <th>1</th>\n",
       "      <td>4279.503247</td>\n",
       "      <td>4037.614339</td>\n",
       "      <td>17.788926</td>\n",
       "      <td>Id2</td>\n",
       "    </tr>\n",
       "    <tr>\n",
       "      <th>2</th>\n",
       "      <td>5470.503247</td>\n",
       "      <td>4038.614339</td>\n",
       "      <td>17.788926</td>\n",
       "      <td>Cxcl14</td>\n",
       "    </tr>\n",
       "    <tr>\n",
       "      <th>3</th>\n",
       "      <td>5086.503247</td>\n",
       "      <td>4039.614339</td>\n",
       "      <td>17.788926</td>\n",
       "      <td>Cryab</td>\n",
       "    </tr>\n",
       "    <tr>\n",
       "      <th>4</th>\n",
       "      <td>4199.503247</td>\n",
       "      <td>4040.614339</td>\n",
       "      <td>17.788926</td>\n",
       "      <td>Neurod6</td>\n",
       "    </tr>\n",
       "  </tbody>\n",
       "</table>\n",
       "</div>"
      ],
      "text/plain": [
       "             y            x    z_stack     Gene\n",
       "0  5262.503247  4035.614339  17.788926     Nrn1\n",
       "1  4279.503247  4037.614339  17.788926      Id2\n",
       "2  5470.503247  4038.614339  17.788926   Cxcl14\n",
       "3  5086.503247  4039.614339  17.788926    Cryab\n",
       "4  4199.503247  4040.614339  17.788926  Neurod6"
      ]
     },
     "execution_count": 4,
     "metadata": {},
     "output_type": "execute_result"
    }
   ],
   "source": [
    "spots = pd.read_csv(\"https://storage.googleapis.com/dxn_temp/3D_data/demo_data/spots_yxz.csv\")\n",
    "spots.head()"
   ]
  },
  {
   "cell_type": "markdown",
   "id": "1164bd21-7ecc-4891-9ec1-e190e99aa25d",
   "metadata": {},
   "source": [
    "### 2.2 The segmentation"
   ]
  },
  {
   "cell_type": "markdown",
   "id": "0901ddf8-100a-455a-b84b-4836e1bdbdb7",
   "metadata": {},
   "source": [
    "Segmentation should be provided as a list of coo_matrices. Basically, your segmentation tool should give you an array with dimensions Z-by-height-by-length. You can do something like label_image_list = [coo_matrix(d) for d in segmentation_array_3D] to get what is needed for the cell calling algothitm demo'ed here"
   ]
  },
  {
   "cell_type": "code",
   "execution_count": 5,
   "id": "36114e67-9df7-4eec-a931-82630a472242",
   "metadata": {},
   "outputs": [],
   "source": [
    "label_image_url = \"https://storage.googleapis.com/dxn_temp/3D_data/demo_data/label_image_3D.npy\"\n",
    "label_image_str = pciSeq_3D.utils.load_from_url(label_image_url)\n",
    "label_image_list = np.load(label_image_str, allow_pickle=True)"
   ]
  },
  {
   "cell_type": "markdown",
   "id": "e538d21c-e17d-4b1f-8b44-a8c1f70e065b",
   "metadata": {},
   "source": [
    "Typically, it is often useful to go through and plot the segmentented frames of the 3D stack. We might spot cases where segmentation hasnt worked as  expected and we would probably choose to exclude those frames from the cell typing step"
   ]
  },
  {
   "cell_type": "code",
   "execution_count": 6,
   "id": "d6f172dd-6d32-4572-a881-c8abf2677605",
   "metadata": {},
   "outputs": [
    {
     "data": {
      "text/plain": [
       "<matplotlib.image.AxesImage at 0x1573c3b5548>"
      ]
     },
     "execution_count": 6,
     "metadata": {},
     "output_type": "execute_result"
    },
    {
     "data": {
      "image/png": "[encoded data removed]",
      "text/plain": [
       "<Figure size 1080x1080 with 1 Axes>"
      ]
     },
     "metadata": {
      "needs_background": "light"
     },
     "output_type": "display_data"
    }
   ],
   "source": [
    "z_stack_num = 18\n",
    "fig = plt.figure(figsize = (15,15))\n",
    "skimage.io.imshow(label_image_list[z_stack_num].toarray(), cmap='gray', vmin = 0, vmax = 255, interpolation='none')"
   ]
  },
  {
   "cell_type": "markdown",
   "id": "6fae6c30-6afd-4d8f-9ad7-f3c46cbed6aa",
   "metadata": {},
   "source": [
    "For example only the frames between 18 and 43 look to be well segmented. \n",
    "When we run the cell algorithm we can set the hyperparamers z_stack_min=18 and z_stack_max=43 to exclude the frames but also the spots too below frame 18 and above 43"
   ]
  },
  {
   "cell_type": "markdown",
   "id": "d9723a99-8100-4448-9f74-f9dc9532b330",
   "metadata": {},
   "source": [
    "### 2.3. The single cell data"
   ]
  },
  {
   "cell_type": "markdown",
   "id": "073480f1-4120-4415-80a9-e685da6e2887",
   "metadata": {},
   "source": [
    "This is another dataframe with columns the cell classes and rows the genes. The expression data are UMI counts as they come from single cell sequencing."
   ]
  },
  {
   "cell_type": "code",
   "execution_count": 7,
   "id": "7ae4decd-217a-4c4d-8b31-e9d183ddb690",
   "metadata": {},
   "outputs": [],
   "source": [
    "sc_file = pciSeq_3D.utils.load_from_url('https://storage.googleapis.com/dxn_temp/3D_data/demo_data/scRNAseq.csv.gz?raw=true')\n",
    "scRNAseq = pd.read_csv(sc_file, header=None, index_col=0, compression='gzip', dtype=object)\n",
    "scRNAseq = scRNAseq.rename(columns=scRNAseq.iloc[0], copy=False).iloc[1:]\n",
    "scRNAseq = scRNAseq.astype(float).astype(np.uint32)"
   ]
  },
  {
   "cell_type": "code",
   "execution_count": 8,
   "id": "3c3ac6c6-d417-4526-9637-07fbe2d8bff1",
   "metadata": {},
   "outputs": [
    {
     "data": {
      "text/html": [
       "<div>\n",
       "<style scoped>\n",
       "    .dataframe tbody tr th:only-of-type {\n",
       "        vertical-align: middle;\n",
       "    }\n",
       "\n",
       "    .dataframe tbody tr th {\n",
       "        vertical-align: top;\n",
       "    }\n",
       "\n",
       "    .dataframe thead th {\n",
       "        text-align: right;\n",
       "    }\n",
       "</style>\n",
       "<table border=\"1\" class=\"dataframe\">\n",
       "  <thead>\n",
       "    <tr style=\"text-align: right;\">\n",
       "      <th></th>\n",
       "      <th>PC.CA1.1</th>\n",
       "      <th>PC.CA1.1</th>\n",
       "      <th>PC.CA1.1</th>\n",
       "      <th>PC.CA1.1</th>\n",
       "      <th>PC.CA1.1</th>\n",
       "      <th>PC.CA1.1</th>\n",
       "      <th>PC.CA1.1</th>\n",
       "      <th>PC.CA1.1</th>\n",
       "      <th>PC.CA1.1</th>\n",
       "      <th>PC.CA1.1</th>\n",
       "      <th>...</th>\n",
       "      <th>Sst.Nos1</th>\n",
       "      <th>Sst.Nos1</th>\n",
       "      <th>Sst.Nos1</th>\n",
       "      <th>Sst.Nos1</th>\n",
       "      <th>Sst.Nos1</th>\n",
       "      <th>Sst.Nos1</th>\n",
       "      <th>Sst.Nos1</th>\n",
       "      <th>Sst.Nos1</th>\n",
       "      <th>Sst.Nos1</th>\n",
       "      <th>Sst.Nos1</th>\n",
       "    </tr>\n",
       "    <tr>\n",
       "      <th>0</th>\n",
       "      <th></th>\n",
       "      <th></th>\n",
       "      <th></th>\n",
       "      <th></th>\n",
       "      <th></th>\n",
       "      <th></th>\n",
       "      <th></th>\n",
       "      <th></th>\n",
       "      <th></th>\n",
       "      <th></th>\n",
       "      <th></th>\n",
       "      <th></th>\n",
       "      <th></th>\n",
       "      <th></th>\n",
       "      <th></th>\n",
       "      <th></th>\n",
       "      <th></th>\n",
       "      <th></th>\n",
       "      <th></th>\n",
       "      <th></th>\n",
       "      <th></th>\n",
       "    </tr>\n",
       "  </thead>\n",
       "  <tbody>\n",
       "    <tr>\n",
       "      <th>Xkr4</th>\n",
       "      <td>0</td>\n",
       "      <td>0</td>\n",
       "      <td>0</td>\n",
       "      <td>0</td>\n",
       "      <td>0</td>\n",
       "      <td>0</td>\n",
       "      <td>0</td>\n",
       "      <td>0</td>\n",
       "      <td>0</td>\n",
       "      <td>0</td>\n",
       "      <td>...</td>\n",
       "      <td>0</td>\n",
       "      <td>0</td>\n",
       "      <td>0</td>\n",
       "      <td>0</td>\n",
       "      <td>0</td>\n",
       "      <td>0</td>\n",
       "      <td>0</td>\n",
       "      <td>0</td>\n",
       "      <td>0</td>\n",
       "      <td>0</td>\n",
       "    </tr>\n",
       "    <tr>\n",
       "      <th>Gm1992</th>\n",
       "      <td>0</td>\n",
       "      <td>0</td>\n",
       "      <td>0</td>\n",
       "      <td>0</td>\n",
       "      <td>0</td>\n",
       "      <td>0</td>\n",
       "      <td>0</td>\n",
       "      <td>0</td>\n",
       "      <td>0</td>\n",
       "      <td>0</td>\n",
       "      <td>...</td>\n",
       "      <td>0</td>\n",
       "      <td>0</td>\n",
       "      <td>0</td>\n",
       "      <td>0</td>\n",
       "      <td>0</td>\n",
       "      <td>0</td>\n",
       "      <td>0</td>\n",
       "      <td>0</td>\n",
       "      <td>0</td>\n",
       "      <td>0</td>\n",
       "    </tr>\n",
       "    <tr>\n",
       "      <th>Gm37381</th>\n",
       "      <td>0</td>\n",
       "      <td>0</td>\n",
       "      <td>0</td>\n",
       "      <td>0</td>\n",
       "      <td>0</td>\n",
       "      <td>0</td>\n",
       "      <td>0</td>\n",
       "      <td>0</td>\n",
       "      <td>0</td>\n",
       "      <td>0</td>\n",
       "      <td>...</td>\n",
       "      <td>0</td>\n",
       "      <td>0</td>\n",
       "      <td>0</td>\n",
       "      <td>0</td>\n",
       "      <td>0</td>\n",
       "      <td>0</td>\n",
       "      <td>0</td>\n",
       "      <td>0</td>\n",
       "      <td>0</td>\n",
       "      <td>0</td>\n",
       "    </tr>\n",
       "    <tr>\n",
       "      <th>Rp1</th>\n",
       "      <td>0</td>\n",
       "      <td>0</td>\n",
       "      <td>0</td>\n",
       "      <td>0</td>\n",
       "      <td>0</td>\n",
       "      <td>0</td>\n",
       "      <td>0</td>\n",
       "      <td>0</td>\n",
       "      <td>0</td>\n",
       "      <td>0</td>\n",
       "      <td>...</td>\n",
       "      <td>0</td>\n",
       "      <td>0</td>\n",
       "      <td>0</td>\n",
       "      <td>0</td>\n",
       "      <td>0</td>\n",
       "      <td>0</td>\n",
       "      <td>0</td>\n",
       "      <td>0</td>\n",
       "      <td>0</td>\n",
       "      <td>0</td>\n",
       "    </tr>\n",
       "    <tr>\n",
       "      <th>Rp1</th>\n",
       "      <td>0</td>\n",
       "      <td>0</td>\n",
       "      <td>0</td>\n",
       "      <td>0</td>\n",
       "      <td>0</td>\n",
       "      <td>0</td>\n",
       "      <td>0</td>\n",
       "      <td>0</td>\n",
       "      <td>0</td>\n",
       "      <td>0</td>\n",
       "      <td>...</td>\n",
       "      <td>0</td>\n",
       "      <td>0</td>\n",
       "      <td>0</td>\n",
       "      <td>0</td>\n",
       "      <td>0</td>\n",
       "      <td>0</td>\n",
       "      <td>0</td>\n",
       "      <td>0</td>\n",
       "      <td>0</td>\n",
       "      <td>0</td>\n",
       "    </tr>\n",
       "  </tbody>\n",
       "</table>\n",
       "<p>5 rows × 5712 columns</p>\n",
       "</div>"
      ],
      "text/plain": [
       "         PC.CA1.1  PC.CA1.1  PC.CA1.1  PC.CA1.1  PC.CA1.1  PC.CA1.1  PC.CA1.1  \\\n",
       "0                                                                               \n",
       "Xkr4            0         0         0         0         0         0         0   \n",
       "Gm1992          0         0         0         0         0         0         0   \n",
       "Gm37381         0         0         0         0         0         0         0   \n",
       "Rp1             0         0         0         0         0         0         0   \n",
       "Rp1             0         0         0         0         0         0         0   \n",
       "\n",
       "         PC.CA1.1  PC.CA1.1  PC.CA1.1  ...  Sst.Nos1  Sst.Nos1  Sst.Nos1  \\\n",
       "0                                      ...                                 \n",
       "Xkr4            0         0         0  ...         0         0         0   \n",
       "Gm1992          0         0         0  ...         0         0         0   \n",
       "Gm37381         0         0         0  ...         0         0         0   \n",
       "Rp1             0         0         0  ...         0         0         0   \n",
       "Rp1             0         0         0  ...         0         0         0   \n",
       "\n",
       "         Sst.Nos1  Sst.Nos1  Sst.Nos1  Sst.Nos1  Sst.Nos1  Sst.Nos1  Sst.Nos1  \n",
       "0                                                                              \n",
       "Xkr4            0         0         0         0         0         0         0  \n",
       "Gm1992          0         0         0         0         0         0         0  \n",
       "Gm37381         0         0         0         0         0         0         0  \n",
       "Rp1             0         0         0         0         0         0         0  \n",
       "Rp1             0         0         0         0         0         0         0  \n",
       "\n",
       "[5 rows x 5712 columns]"
      ]
     },
     "execution_count": 8,
     "metadata": {},
     "output_type": "execute_result"
    }
   ],
   "source": [
    "scRNAseq.head()"
   ]
  },
  {
   "cell_type": "markdown",
   "id": "49094005-78de-4c69-93ac-c4b6a8518df6",
   "metadata": {},
   "source": [
    "### 3. Cell typing"
   ]
  },
  {
   "cell_type": "markdown",
   "id": "161ec585-1d77-4805-8684-d5e4b0e7e7f0",
   "metadata": {},
   "source": [
    "We can now proceed with cell typing. Do not forget to pass-in the correct ppm setting (pixels per micron). In the example below, just for the sake of the demo, we pass-in the same value as the default one (6.0121). Also, from the 3D stacked image we choose to use the frames between (and including) 18 and 43 by setting z_stack_min and z_stack_max to the corresponding values. Note that behind the scenes, truncating the 3D image will also revove the spots associated with the deleted frames. \n",
    "\n",
    "To pass those user-defined settings make a dict:"
   ]
  },
  {
   "cell_type": "code",
   "execution_count": 9,
   "id": "063af0f7-0e39-4e90-8671-0088fbbb74be",
   "metadata": {},
   "outputs": [],
   "source": [
    "opts = {\n",
    "    'ppm': 6.0121,\n",
    "    'z_stack_min': 18,\n",
    "    'z_stack_max': 43,\n",
    "    'CellCallTolerance': 0.5,\n",
    "}"
   ]
  },
  {
   "cell_type": "markdown",
   "id": "c1bda6f3-f1f7-4eee-b064-fde5349a4667",
   "metadata": {},
   "source": [
    "I have set the 'CellCallTolerance' hyperparameter to 0.5 only for demo purposes. That will cause the algorithm to achieve convergence prematurely but it will reduce execution time.\n",
    "The default value is 0.02 which will make the algorithm run for too long for the scope of this notebook."
   ]
  },
  {
   "cell_type": "markdown",
   "id": "9fcdd780-b820-411d-a99b-edc12f0dad60",
   "metadata": {},
   "source": [
    "For cell typing run the fit() method as follows:"
   ]
  },
  {
   "cell_type": "code",
   "execution_count": 10,
   "id": "4c07656b-ec08-4b3f-8a90-981cf64d2373",
   "metadata": {},
   "outputs": [
    {
     "name": "stderr",
     "output_type": "stream",
     "text": [
      "2022-05-18 15:48:17,414:INFO: ppm is set to 6.0121\n",
      "2022-05-18 15:48:17,416:INFO: z_stack_min is set to 18\n",
      "2022-05-18 15:48:17,417:INFO: z_stack_max is set to 43\n",
      "2022-05-18 15:48:17,417:INFO: CellCallTolerance is set to 0.5\n",
      "2022-05-18 15:48:17,418:INFO: Pixels per micron is set to: 6.012100\n",
      "2022-05-18 15:48:17,419:INFO: Preprocessing data\n",
      "2022-05-18 15:48:17,426:INFO: Truncating masks and spots. Keeping those between frame 18 and 43 only\n",
      "2022-05-18 15:48:37,260:INFO: Found 3136 cells that exist on just one single frame. Those cells have been removed from 26 frames.\n",
      "2022-05-18 15:49:24,780:INFO: Number of spots passed-in: 255058\n",
      "2022-05-18 15:49:40,950:INFO: Number of segmented cells: 5712\n",
      "2022-05-18 15:49:40,951:INFO: Segmentation array implies that image has width: 5905px and height: 5882px\n",
      "2022-05-18 15:50:09,151:INFO: Single cell data passed-in have 27998 genes and 5712 cells\n",
      "2022-05-18 15:50:09,152:INFO: Single cell data: Keeping counts for the gene panel of 73 only\n",
      "2022-05-18 15:50:09,177:INFO: Single cell data: Grouping gene counts by cell type. Aggregating function is the mean.\n",
      "2022-05-18 15:50:09,257:INFO: Start cell typing\n",
      "2022-05-18 15:50:19,493:INFO: Spot to cell loglikelihood: -43956529.658165\n",
      "2022-05-18 15:50:19,652:INFO: Iteration 0, mean prob change 1.000000\n",
      "2022-05-18 15:50:27,260:INFO: Spot to cell loglikelihood: -44217349.119378\n",
      "2022-05-18 15:50:27,412:INFO: Iteration 1, mean prob change 0.860762\n",
      "2022-05-18 15:50:34,876:INFO: Spot to cell loglikelihood: -46602971.288239\n",
      "2022-05-18 15:50:35,031:INFO: Iteration 2, mean prob change 0.868744\n",
      "2022-05-18 15:50:42,721:INFO: Spot to cell loglikelihood: -48378362.360032\n",
      "2022-05-18 15:50:42,886:INFO: Iteration 3, mean prob change 0.782525\n",
      "2022-05-18 15:50:50,259:INFO: Spot to cell loglikelihood: -49567552.329774\n",
      "2022-05-18 15:50:50,411:INFO: Iteration 4, mean prob change 0.731674\n",
      "2022-05-18 15:50:57,955:INFO: Spot to cell loglikelihood: -50352747.190032\n",
      "2022-05-18 15:50:58,106:INFO: Iteration 5, mean prob change 0.752676\n",
      "2022-05-18 15:51:05,762:INFO: Spot to cell loglikelihood: -50889720.812900\n",
      "2022-05-18 15:51:05,926:INFO: Iteration 6, mean prob change 0.743592\n",
      "2022-05-18 15:51:13,287:INFO: Spot to cell loglikelihood: -51279190.599437\n",
      "2022-05-18 15:51:13,445:INFO: Iteration 7, mean prob change 0.702318\n",
      "2022-05-18 15:51:21,450:INFO: Spot to cell loglikelihood: -51575564.292372\n",
      "2022-05-18 15:51:21,610:INFO: Iteration 8, mean prob change 0.681880\n",
      "2022-05-18 15:51:29,167:INFO: Spot to cell loglikelihood: -51808168.991852\n",
      "2022-05-18 15:51:29,349:INFO: Iteration 9, mean prob change 0.609526\n",
      "2022-05-18 15:51:37,462:INFO: Spot to cell loglikelihood: -51993648.565668\n",
      "2022-05-18 15:51:37,635:INFO: Iteration 10, mean prob change 0.588481\n",
      "2022-05-18 15:51:45,481:INFO: Spot to cell loglikelihood: -52150710.511084\n",
      "2022-05-18 15:51:45,637:INFO: Iteration 11, mean prob change 0.647897\n",
      "2022-05-18 15:51:54,031:INFO: Spot to cell loglikelihood: -52286061.846531\n",
      "2022-05-18 15:51:54,189:INFO: Iteration 12, mean prob change 0.561483\n",
      "2022-05-18 15:52:01,911:INFO: Spot to cell loglikelihood: -52402446.148139\n",
      "2022-05-18 15:52:02,067:INFO: Iteration 13, mean prob change 0.568671\n",
      "2022-05-18 15:52:09,724:INFO: Spot to cell loglikelihood: -52500094.100032\n",
      "2022-05-18 15:52:09,892:INFO: Iteration 14, mean prob change 0.650810\n",
      "2022-05-18 15:52:17,455:INFO: Spot to cell loglikelihood: -52585518.615916\n",
      "2022-05-18 15:52:17,615:INFO: Iteration 15, mean prob change 0.558304\n",
      "2022-05-18 15:52:25,078:INFO: Spot to cell loglikelihood: -52658711.097490\n",
      "2022-05-18 15:52:25,234:INFO: Iteration 16, mean prob change 0.475284\n",
      "2022-05-18 15:52:25,235:INFO: Start collecting data ...\n",
      "2022-05-18 15:52:57,388:INFO: Data collected!\n",
      "2022-05-18 15:52:59,008:INFO: Done\n"
     ]
    }
   ],
   "source": [
    "cellData, geneData = pciSeq_3D.fit(spots, label_image_list, scRNAseq=scRNAseq, opts=opts)"
   ]
  },
  {
   "cell_type": "markdown",
   "id": "823b57b0-aa10-4946-9ff7-3dadf4f8794d",
   "metadata": {},
   "source": [
    "### 4. Reading the results\n",
    "The results are two dataframes, cellData and geneData, each one keeping the output from the cell calling algorithm that is mainly relevant to the cells and the genes (spots) respectivelly"
   ]
  },
  {
   "cell_type": "markdown",
   "id": "3704288f-60d0-46b1-9614-856b9f75bdc0",
   "metadata": {},
   "source": [
    "#### 4.1 The cellData\n",
    "This dataframe keeps the coordinates of the cell centroid, the gene names of the spots assigned to each cell, with corresponding gene counts and class names with the associated posterior probabilities.\n",
    "The cell centroid is expressed by the columns X, Y and Z. Note that all three are now in the same resolution which in this example is 6.0121 pixels per micron"
   ]
  },
  {
   "cell_type": "code",
   "execution_count": 11,
   "id": "72371277-0c77-4671-9c56-df1cc21a2c31",
   "metadata": {},
   "outputs": [
    {
     "data": {
      "text/html": [
       "<div>\n",
       "<style scoped>\n",
       "    .dataframe tbody tr th:only-of-type {\n",
       "        vertical-align: middle;\n",
       "    }\n",
       "\n",
       "    .dataframe tbody tr th {\n",
       "        vertical-align: top;\n",
       "    }\n",
       "\n",
       "    .dataframe thead th {\n",
       "        text-align: right;\n",
       "    }\n",
       "</style>\n",
       "<table border=\"1\" class=\"dataframe\">\n",
       "  <thead>\n",
       "    <tr style=\"text-align: right;\">\n",
       "      <th></th>\n",
       "      <th>Cell_Num</th>\n",
       "      <th>X</th>\n",
       "      <th>Y</th>\n",
       "      <th>Z</th>\n",
       "      <th>Genenames</th>\n",
       "      <th>CellGeneCount</th>\n",
       "      <th>ClassName</th>\n",
       "      <th>Prob</th>\n",
       "      <th>sphere_scale</th>\n",
       "      <th>sphere_rotation</th>\n",
       "    </tr>\n",
       "  </thead>\n",
       "  <tbody>\n",
       "    <tr>\n",
       "      <th>1</th>\n",
       "      <td>1</td>\n",
       "      <td>3331.441173</td>\n",
       "      <td>1581.975643</td>\n",
       "      <td>157.699174</td>\n",
       "      <td>[Cadps2, Calb2, Cnr1, Cryab, Cxcl14, Enpp2, Ga...</td>\n",
       "      <td>[0.0015752472885342827, 0.9559833882961797, 0....</td>\n",
       "      <td>[Astro.1, Astro.2, Calb2.Cntnap5a.Igfbp6, Calb...</td>\n",
       "      <td>[0.0019723480947494696, 0.0013239759711903046,...</td>\n",
       "      <td>[48.14365532834249, 47.20101422891103, 47.6298...</td>\n",
       "      <td>[1.5707963267948966, 0.0, -0.4247482155883045]</td>\n",
       "    </tr>\n",
       "    <tr>\n",
       "      <th>2</th>\n",
       "      <td>2</td>\n",
       "      <td>193.480836</td>\n",
       "      <td>5091.382535</td>\n",
       "      <td>147.232357</td>\n",
       "      <td>[Bcl11b, Cadps2, Cdh13, Cnr1, Cplx2, Cryab, Ga...</td>\n",
       "      <td>[0.20624663256959358, 0.2943856945656981, 0.01...</td>\n",
       "      <td>[Astro.1, Endo, Vsmc, Zero]</td>\n",
       "      <td>[0.0012654956537080358, 0.0034222787010953688,...</td>\n",
       "      <td>[47.86635196070864, 47.81415676182936, 47.7320...</td>\n",
       "      <td>[0.0, 0.0, 0.0]</td>\n",
       "    </tr>\n",
       "    <tr>\n",
       "      <th>3</th>\n",
       "      <td>3</td>\n",
       "      <td>2318.900512</td>\n",
       "      <td>2139.855327</td>\n",
       "      <td>121.273361</td>\n",
       "      <td>[Id2]</td>\n",
       "      <td>[0.6214042626755738]</td>\n",
       "      <td>[Vsmc, Zero]</td>\n",
       "      <td>[0.00826074645156209, 0.9909497479770588]</td>\n",
       "      <td>[48.239599776601736, 48.23428160184142, 48.234...</td>\n",
       "      <td>[-0.06965113104024798, 0.03159170866511377, -0...</td>\n",
       "    </tr>\n",
       "    <tr>\n",
       "      <th>4</th>\n",
       "      <td>4</td>\n",
       "      <td>480.409587</td>\n",
       "      <td>2688.200357</td>\n",
       "      <td>116.258105</td>\n",
       "      <td>[Cryab]</td>\n",
       "      <td>[1.9959324102475557]</td>\n",
       "      <td>[Astro.1, Endo, Vsmc, Zero]</td>\n",
       "      <td>[0.001328683586937673, 0.005947838370168978, 0...</td>\n",
       "      <td>[47.93013587426708, 48.27351319235829, 47.7456...</td>\n",
       "      <td>[0.0, 0.0, 0.0]</td>\n",
       "    </tr>\n",
       "    <tr>\n",
       "      <th>5</th>\n",
       "      <td>5</td>\n",
       "      <td>1002.985459</td>\n",
       "      <td>4220.584133</td>\n",
       "      <td>138.066272</td>\n",
       "      <td>[Cnr1, Cplx2, Cryab, Cxcl14, Enpp2, Gabrd, Kcn...</td>\n",
       "      <td>[0.7319886851657125, 6.3887325047170425, 2.591...</td>\n",
       "      <td>[Astro.1, PC.CA1.1, PC.CA1.2, PC.Other1]</td>\n",
       "      <td>[0.001478686189209428, 0.984511351162132, 0.00...</td>\n",
       "      <td>[50.90888184191462, 49.80922503241108, 46.7335...</td>\n",
       "      <td>[-0.2557249731881817, 0.03071749326099003, -0....</td>\n",
       "    </tr>\n",
       "  </tbody>\n",
       "</table>\n",
       "</div>"
      ],
      "text/plain": [
       "   Cell_Num            X            Y           Z  \\\n",
       "1         1  3331.441173  1581.975643  157.699174   \n",
       "2         2   193.480836  5091.382535  147.232357   \n",
       "3         3  2318.900512  2139.855327  121.273361   \n",
       "4         4   480.409587  2688.200357  116.258105   \n",
       "5         5  1002.985459  4220.584133  138.066272   \n",
       "\n",
       "                                           Genenames  \\\n",
       "1  [Cadps2, Calb2, Cnr1, Cryab, Cxcl14, Enpp2, Ga...   \n",
       "2  [Bcl11b, Cadps2, Cdh13, Cnr1, Cplx2, Cryab, Ga...   \n",
       "3                                              [Id2]   \n",
       "4                                            [Cryab]   \n",
       "5  [Cnr1, Cplx2, Cryab, Cxcl14, Enpp2, Gabrd, Kcn...   \n",
       "\n",
       "                                       CellGeneCount  \\\n",
       "1  [0.0015752472885342827, 0.9559833882961797, 0....   \n",
       "2  [0.20624663256959358, 0.2943856945656981, 0.01...   \n",
       "3                               [0.6214042626755738]   \n",
       "4                               [1.9959324102475557]   \n",
       "5  [0.7319886851657125, 6.3887325047170425, 2.591...   \n",
       "\n",
       "                                           ClassName  \\\n",
       "1  [Astro.1, Astro.2, Calb2.Cntnap5a.Igfbp6, Calb...   \n",
       "2                        [Astro.1, Endo, Vsmc, Zero]   \n",
       "3                                       [Vsmc, Zero]   \n",
       "4                        [Astro.1, Endo, Vsmc, Zero]   \n",
       "5           [Astro.1, PC.CA1.1, PC.CA1.2, PC.Other1]   \n",
       "\n",
       "                                                Prob  \\\n",
       "1  [0.0019723480947494696, 0.0013239759711903046,...   \n",
       "2  [0.0012654956537080358, 0.0034222787010953688,...   \n",
       "3          [0.00826074645156209, 0.9909497479770588]   \n",
       "4  [0.001328683586937673, 0.005947838370168978, 0...   \n",
       "5  [0.001478686189209428, 0.984511351162132, 0.00...   \n",
       "\n",
       "                                        sphere_scale  \\\n",
       "1  [48.14365532834249, 47.20101422891103, 47.6298...   \n",
       "2  [47.86635196070864, 47.81415676182936, 47.7320...   \n",
       "3  [48.239599776601736, 48.23428160184142, 48.234...   \n",
       "4  [47.93013587426708, 48.27351319235829, 47.7456...   \n",
       "5  [50.90888184191462, 49.80922503241108, 46.7335...   \n",
       "\n",
       "                                     sphere_rotation  \n",
       "1     [1.5707963267948966, 0.0, -0.4247482155883045]  \n",
       "2                                    [0.0, 0.0, 0.0]  \n",
       "3  [-0.06965113104024798, 0.03159170866511377, -0...  \n",
       "4                                    [0.0, 0.0, 0.0]  \n",
       "5  [-0.2557249731881817, 0.03071749326099003, -0....  "
      ]
     },
     "execution_count": 11,
     "metadata": {},
     "output_type": "execute_result"
    }
   ],
   "source": [
    "cellData.head()"
   ]
  },
  {
   "cell_type": "markdown",
   "id": "f8fe16b8-70dc-4087-8ad2-c1ae96bc73c1",
   "metadata": {},
   "source": [
    "Lets take for example the first entry in the dataframe. The cell_id and centroid coordinates (x,y,z) are:"
   ]
  },
  {
   "cell_type": "code",
   "execution_count": 12,
   "id": "79987db5-eb25-4da5-99fe-0564bfb35d8c",
   "metadata": {},
   "outputs": [
    {
     "data": {
      "text/plain": [
       "(1, (3331, 1581, 157))"
      ]
     },
     "execution_count": 12,
     "metadata": {},
     "output_type": "execute_result"
    }
   ],
   "source": [
    "cellData.iloc[0].Cell_Num, (int(cellData.iloc[0].X), int(cellData.iloc[0].Y), int(cellData.iloc[0].Z))"
   ]
  },
  {
   "cell_type": "markdown",
   "id": "e8a96df4-9895-44b2-9e6f-af22b24029d5",
   "metadata": {},
   "source": [
    "The genes and their counts for that cell are"
   ]
  },
  {
   "cell_type": "code",
   "execution_count": 13,
   "id": "d2b2ba00-ae4b-4c01-88e9-522b08e2a5dd",
   "metadata": {},
   "outputs": [
    {
     "data": {
      "text/html": [
       "<div>\n",
       "<style scoped>\n",
       "    .dataframe tbody tr th:only-of-type {\n",
       "        vertical-align: middle;\n",
       "    }\n",
       "\n",
       "    .dataframe tbody tr th {\n",
       "        vertical-align: top;\n",
       "    }\n",
       "\n",
       "    .dataframe thead th {\n",
       "        text-align: right;\n",
       "    }\n",
       "</style>\n",
       "<table border=\"1\" class=\"dataframe\">\n",
       "  <thead>\n",
       "    <tr style=\"text-align: right;\">\n",
       "      <th></th>\n",
       "      <th>Gene names</th>\n",
       "      <th>Gene counts</th>\n",
       "    </tr>\n",
       "  </thead>\n",
       "  <tbody>\n",
       "    <tr>\n",
       "      <th>0</th>\n",
       "      <td>Cadps2</td>\n",
       "      <td>0.001575</td>\n",
       "    </tr>\n",
       "    <tr>\n",
       "      <th>1</th>\n",
       "      <td>Calb2</td>\n",
       "      <td>0.955983</td>\n",
       "    </tr>\n",
       "    <tr>\n",
       "      <th>2</th>\n",
       "      <td>Cnr1</td>\n",
       "      <td>0.021216</td>\n",
       "    </tr>\n",
       "    <tr>\n",
       "      <th>3</th>\n",
       "      <td>Cryab</td>\n",
       "      <td>0.170407</td>\n",
       "    </tr>\n",
       "    <tr>\n",
       "      <th>4</th>\n",
       "      <td>Cxcl14</td>\n",
       "      <td>1.023663</td>\n",
       "    </tr>\n",
       "    <tr>\n",
       "      <th>5</th>\n",
       "      <td>Enpp2</td>\n",
       "      <td>0.251989</td>\n",
       "    </tr>\n",
       "    <tr>\n",
       "      <th>6</th>\n",
       "      <td>Gad1</td>\n",
       "      <td>0.421614</td>\n",
       "    </tr>\n",
       "    <tr>\n",
       "      <th>7</th>\n",
       "      <td>Id2</td>\n",
       "      <td>0.098170</td>\n",
       "    </tr>\n",
       "    <tr>\n",
       "      <th>8</th>\n",
       "      <td>Kctd12</td>\n",
       "      <td>0.017679</td>\n",
       "    </tr>\n",
       "    <tr>\n",
       "      <th>9</th>\n",
       "      <td>Lamp5</td>\n",
       "      <td>0.083206</td>\n",
       "    </tr>\n",
       "    <tr>\n",
       "      <th>10</th>\n",
       "      <td>Plp1</td>\n",
       "      <td>0.083100</td>\n",
       "    </tr>\n",
       "    <tr>\n",
       "      <th>11</th>\n",
       "      <td>Prkca</td>\n",
       "      <td>0.294451</td>\n",
       "    </tr>\n",
       "    <tr>\n",
       "      <th>12</th>\n",
       "      <td>Pvalb</td>\n",
       "      <td>0.018752</td>\n",
       "    </tr>\n",
       "    <tr>\n",
       "      <th>13</th>\n",
       "      <td>Reln</td>\n",
       "      <td>0.003290</td>\n",
       "    </tr>\n",
       "    <tr>\n",
       "      <th>14</th>\n",
       "      <td>Rgs12</td>\n",
       "      <td>0.034084</td>\n",
       "    </tr>\n",
       "    <tr>\n",
       "      <th>15</th>\n",
       "      <td>Satb1</td>\n",
       "      <td>0.003391</td>\n",
       "    </tr>\n",
       "    <tr>\n",
       "      <th>16</th>\n",
       "      <td>Slc6a1</td>\n",
       "      <td>0.161324</td>\n",
       "    </tr>\n",
       "    <tr>\n",
       "      <th>17</th>\n",
       "      <td>Synpr</td>\n",
       "      <td>0.067051</td>\n",
       "    </tr>\n",
       "    <tr>\n",
       "      <th>18</th>\n",
       "      <td>Vip</td>\n",
       "      <td>1.768791</td>\n",
       "    </tr>\n",
       "  </tbody>\n",
       "</table>\n",
       "</div>"
      ],
      "text/plain": [
       "   Gene names  Gene counts\n",
       "0      Cadps2     0.001575\n",
       "1       Calb2     0.955983\n",
       "2        Cnr1     0.021216\n",
       "3       Cryab     0.170407\n",
       "4      Cxcl14     1.023663\n",
       "5       Enpp2     0.251989\n",
       "6        Gad1     0.421614\n",
       "7         Id2     0.098170\n",
       "8      Kctd12     0.017679\n",
       "9       Lamp5     0.083206\n",
       "10       Plp1     0.083100\n",
       "11      Prkca     0.294451\n",
       "12      Pvalb     0.018752\n",
       "13       Reln     0.003290\n",
       "14      Rgs12     0.034084\n",
       "15      Satb1     0.003391\n",
       "16     Slc6a1     0.161324\n",
       "17      Synpr     0.067051\n",
       "18        Vip     1.768791"
      ]
     },
     "execution_count": 13,
     "metadata": {},
     "output_type": "execute_result"
    }
   ],
   "source": [
    "pd.DataFrame(zip(cellData.iloc[0].Genenames, cellData.iloc[0].CellGeneCount), columns=['Gene names', 'Gene counts'])"
   ]
  },
  {
   "cell_type": "markdown",
   "id": "5f058218-082f-4989-aec2-6cf3829cf304",
   "metadata": {},
   "source": [
    "Similarly, the cell types of that particular cell and the corresponding probabilities are"
   ]
  },
  {
   "cell_type": "code",
   "execution_count": 14,
   "id": "b212ab30-4341-42d1-afb7-a254a372209e",
   "metadata": {},
   "outputs": [
    {
     "data": {
      "text/html": [
       "<div>\n",
       "<style scoped>\n",
       "    .dataframe tbody tr th:only-of-type {\n",
       "        vertical-align: middle;\n",
       "    }\n",
       "\n",
       "    .dataframe tbody tr th {\n",
       "        vertical-align: top;\n",
       "    }\n",
       "\n",
       "    .dataframe thead th {\n",
       "        text-align: right;\n",
       "    }\n",
       "</style>\n",
       "<table border=\"1\" class=\"dataframe\">\n",
       "  <thead>\n",
       "    <tr style=\"text-align: right;\">\n",
       "      <th></th>\n",
       "      <th>Class name</th>\n",
       "      <th>Prob</th>\n",
       "    </tr>\n",
       "  </thead>\n",
       "  <tbody>\n",
       "    <tr>\n",
       "      <th>0</th>\n",
       "      <td>Astro.1</td>\n",
       "      <td>0.001972</td>\n",
       "    </tr>\n",
       "    <tr>\n",
       "      <th>1</th>\n",
       "      <td>Astro.2</td>\n",
       "      <td>0.001324</td>\n",
       "    </tr>\n",
       "    <tr>\n",
       "      <th>2</th>\n",
       "      <td>Calb2.Cntnap5a.Igfbp6</td>\n",
       "      <td>0.002363</td>\n",
       "    </tr>\n",
       "    <tr>\n",
       "      <th>3</th>\n",
       "      <td>Calb2.Cntnap5a.Vip</td>\n",
       "      <td>0.001125</td>\n",
       "    </tr>\n",
       "    <tr>\n",
       "      <th>4</th>\n",
       "      <td>Vsmc</td>\n",
       "      <td>0.020033</td>\n",
       "    </tr>\n",
       "    <tr>\n",
       "      <th>5</th>\n",
       "      <td>Zero</td>\n",
       "      <td>0.971547</td>\n",
       "    </tr>\n",
       "  </tbody>\n",
       "</table>\n",
       "</div>"
      ],
      "text/plain": [
       "              Class name      Prob\n",
       "0                Astro.1  0.001972\n",
       "1                Astro.2  0.001324\n",
       "2  Calb2.Cntnap5a.Igfbp6  0.002363\n",
       "3     Calb2.Cntnap5a.Vip  0.001125\n",
       "4                   Vsmc  0.020033\n",
       "5                   Zero  0.971547"
      ]
     },
     "execution_count": 14,
     "metadata": {},
     "output_type": "execute_result"
    }
   ],
   "source": [
    "pd.DataFrame(zip(cellData.iloc[0].ClassName, cellData.iloc[0].Prob), columns=['Class name', 'Prob'])"
   ]
  },
  {
   "cell_type": "markdown",
   "id": "d9d8e588-1cff-4405-85b8-98891965babe",
   "metadata": {},
   "source": [
    "#### 4.2 The geneData\n",
    "This dataframe keeps the spots coordinates the cell_ids of the neighbouring cells and the posterior probabilities that the spot has been emerged by the correspondind cell. The column \"neighbour\" records the most likely such cell, ie the cell that has the highest probability of being the parent cell of the spot"
   ]
  },
  {
   "cell_type": "code",
   "execution_count": 15,
   "id": "193d6773-f385-418d-ac40-89a0d7095f6d",
   "metadata": {},
   "outputs": [
    {
     "data": {
      "text/html": [
       "<div>\n",
       "<style scoped>\n",
       "    .dataframe tbody tr th:only-of-type {\n",
       "        vertical-align: middle;\n",
       "    }\n",
       "\n",
       "    .dataframe tbody tr th {\n",
       "        vertical-align: top;\n",
       "    }\n",
       "\n",
       "    .dataframe thead th {\n",
       "        text-align: right;\n",
       "    }\n",
       "</style>\n",
       "<table border=\"1\" class=\"dataframe\">\n",
       "  <thead>\n",
       "    <tr style=\"text-align: right;\">\n",
       "      <th></th>\n",
       "      <th>Gene</th>\n",
       "      <th>Gene_id</th>\n",
       "      <th>x</th>\n",
       "      <th>y</th>\n",
       "      <th>z</th>\n",
       "      <th>neighbour</th>\n",
       "      <th>neighbour_array</th>\n",
       "      <th>neighbour_prob</th>\n",
       "    </tr>\n",
       "  </thead>\n",
       "  <tbody>\n",
       "    <tr>\n",
       "      <th>0</th>\n",
       "      <td>Pde1a</td>\n",
       "      <td>42</td>\n",
       "      <td>4027.614339</td>\n",
       "      <td>4123.503247</td>\n",
       "      <td>112.960899</td>\n",
       "      <td>0</td>\n",
       "      <td>[2727, 4978, 775, 2924, 980, 1147, 0]</td>\n",
       "      <td>[1.8978230410283633e-05, 9.232261065769497e-22...</td>\n",
       "    </tr>\n",
       "    <tr>\n",
       "      <th>1</th>\n",
       "      <td>Col25a1</td>\n",
       "      <td>10</td>\n",
       "      <td>4030.614339</td>\n",
       "      <td>5041.503247</td>\n",
       "      <td>112.960899</td>\n",
       "      <td>0</td>\n",
       "      <td>[1735, 2746, 1345, 4997, 2761, 5007, 0]</td>\n",
       "      <td>[0.0060857649091166045, 8.620234300706378e-22,...</td>\n",
       "    </tr>\n",
       "    <tr>\n",
       "      <th>2</th>\n",
       "      <td>Cck</td>\n",
       "      <td>5</td>\n",
       "      <td>4033.614339</td>\n",
       "      <td>4203.503247</td>\n",
       "      <td>112.960899</td>\n",
       "      <td>2727</td>\n",
       "      <td>[2727, 980, 1699, 4777, 775, 780, 0]</td>\n",
       "      <td>[0.9189599597837238, 0.0044006355487729515, 0....</td>\n",
       "    </tr>\n",
       "    <tr>\n",
       "      <th>3</th>\n",
       "      <td>Pde1a</td>\n",
       "      <td>42</td>\n",
       "      <td>4033.614339</td>\n",
       "      <td>4272.503247</td>\n",
       "      <td>112.960899</td>\n",
       "      <td>0</td>\n",
       "      <td>[1699, 4777, 3990, 980, 2727, 780, 0]</td>\n",
       "      <td>[0.41948567953446975, 8.458725747565756e-18, 1...</td>\n",
       "    </tr>\n",
       "    <tr>\n",
       "      <th>4</th>\n",
       "      <td>Cxcl14</td>\n",
       "      <td>18</td>\n",
       "      <td>4035.614339</td>\n",
       "      <td>5484.503247</td>\n",
       "      <td>112.960899</td>\n",
       "      <td>334</td>\n",
       "      <td>[2367, 1190, 334, 5701, 210, 1195, 0]</td>\n",
       "      <td>[0.0001775355737168527, 9.43741017996683e-06, ...</td>\n",
       "    </tr>\n",
       "  </tbody>\n",
       "</table>\n",
       "</div>"
      ],
      "text/plain": [
       "      Gene  Gene_id            x            y           z  neighbour  \\\n",
       "0    Pde1a       42  4027.614339  4123.503247  112.960899          0   \n",
       "1  Col25a1       10  4030.614339  5041.503247  112.960899          0   \n",
       "2      Cck        5  4033.614339  4203.503247  112.960899       2727   \n",
       "3    Pde1a       42  4033.614339  4272.503247  112.960899          0   \n",
       "4   Cxcl14       18  4035.614339  5484.503247  112.960899        334   \n",
       "\n",
       "                           neighbour_array  \\\n",
       "0    [2727, 4978, 775, 2924, 980, 1147, 0]   \n",
       "1  [1735, 2746, 1345, 4997, 2761, 5007, 0]   \n",
       "2     [2727, 980, 1699, 4777, 775, 780, 0]   \n",
       "3    [1699, 4777, 3990, 980, 2727, 780, 0]   \n",
       "4    [2367, 1190, 334, 5701, 210, 1195, 0]   \n",
       "\n",
       "                                      neighbour_prob  \n",
       "0  [1.8978230410283633e-05, 9.232261065769497e-22...  \n",
       "1  [0.0060857649091166045, 8.620234300706378e-22,...  \n",
       "2  [0.9189599597837238, 0.0044006355487729515, 0....  \n",
       "3  [0.41948567953446975, 8.458725747565756e-18, 1...  \n",
       "4  [0.0001775355737168527, 9.43741017996683e-06, ...  "
      ]
     },
     "execution_count": 15,
     "metadata": {},
     "output_type": "execute_result"
    }
   ],
   "source": [
    "geneData.head()"
   ]
  },
  {
   "cell_type": "markdown",
   "id": "60b2086a-cc10-4062-92ee-90b7441e494e",
   "metadata": {},
   "source": [
    "Note that under the \"neighbour_array\" column there is a cell with label=0 which is present in all rows of the dataframe. This not a real biological cell. It has been introduced as a super-neighbour, something that is a neighbour to all the spots on the image, and its role is to get assigned all the misreads. It can be thought of as the background."
   ]
  },
  {
   "cell_type": "code",
   "execution_count": null,
   "id": "74adb04d-b286-4b7c-8467-0c002545e7cd",
   "metadata": {},
   "outputs": [],
   "source": []
  }
 ],
 "metadata": {
  "kernelspec": {
   "display_name": "Python 3",
   "language": "python",
   "name": "python3"
  },
  "language_info": {
   "codemirror_mode": {
    "name": "ipython",
    "version": 3
   },
   "file_extension": ".py",
   "mimetype": "text/x-python",
   "name": "python",
   "nbconvert_exporter": "python",
   "pygments_lexer": "ipython3",
   "version": "3.7.6"
  }
 },
 "nbformat": 4,
 "nbformat_minor": 5
}
