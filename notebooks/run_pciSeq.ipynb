{
 "cells": [
  {
   "cell_type": "code",
   "execution_count": 1,
   "metadata": {},
   "outputs": [],
   "source": [
    "!pip install -i https://test.pypi.org/simple/ pciSeq"
   ]
  },
  {
   "cell_type": "code",
   "execution_count": 2,
   "metadata": {},
   "outputs": [
    {
     "name": "stdout",
     "output_type": "stream",
     "text": [
      "PyDIPjavaio unavailable:\n",
      "DLL load failed while importing PyDIPjavaio: The specified module could not be found.\n",
      "\n",
      "libjvm not found\n"
     ]
    }
   ],
   "source": [
    "import pandas as pd\n",
    "import numpy as np\n",
    "from scipy.sparse import load_npz\n",
    "import pciSeq"
   ]
  },
  {
   "cell_type": "code",
   "execution_count": 3,
   "metadata": {},
   "outputs": [],
   "source": [
    "iss_spots = pd.read_csv('../pciSeq/data/mouse/ca1/iss/spots.csv')\n",
    "coo = load_npz('../pciSeq/data/mouse/ca1/segmentation/label_image.coo.npz')\n",
    "\n",
    "scRNAseq = pd.read_csv('../pciSeq/data/mouse/ca1/scRNA/scRNAseq.csv.gz', header=None, index_col=0, compression='gzip', dtype=object)\n",
    "scRNAseq = scRNAseq.rename(columns=scRNAseq.iloc[0], copy=False).iloc[1:]\n",
    "scRNAseq = scRNAseq.astype(np.float).astype(np.uint32)\n"
   ]
  },
  {
   "cell_type": "code",
   "execution_count": null,
   "metadata": {},
   "outputs": [
    {
     "name": "stderr",
     "output_type": "stream",
     "text": [
      "2021-01-14 00:38:11,671:INFO:label at (y, x): (14, 110) is 51\n",
      "2021-01-14 00:38:27,266:INFO:calc expected gamma\n"
     ]
    },
    {
     "name": "stdout",
     "output_type": "stream",
     "text": [
      "time in geneCount:  0.0149993896484375\n"
     ]
    },
    {
     "name": "stderr",
     "output_type": "stream",
     "text": [
      "2021-01-14 00:38:27,708:INFO:cell to cell type\n",
      "2021-01-14 00:38:28,206:INFO:Cell 0 is classified as Oligo.4 with prob 0.36290927\n",
      "2021-01-14 00:38:28,207:INFO:cell ---> cell class probabilities updated\n",
      "2021-01-14 00:38:28,239:INFO:spot to cell\n"
     ]
    },
    {
     "name": "stdout",
     "output_type": "stream",
     "text": [
      "time in geneCount:  0.01600360870361328\n"
     ]
    },
    {
     "name": "stderr",
     "output_type": "stream",
     "text": [
      "2021-01-14 00:38:28,522:INFO:spot ---> cell probabilities updated\n",
      "2021-01-14 00:38:28,533:INFO:update gamma\n",
      "2021-01-14 00:38:28,594:INFO:Iteration 0, mean prob change 1.000000\n",
      "2021-01-14 00:38:28,595:INFO:calc expected gamma\n"
     ]
    },
    {
     "name": "stdout",
     "output_type": "stream",
     "text": [
      "in loglik\n",
      "time in geneCount:  0.015029191970825195\n"
     ]
    },
    {
     "name": "stderr",
     "output_type": "stream",
     "text": [
      "2021-01-14 00:38:29,053:INFO:cell to cell type\n",
      "2021-01-14 00:38:29,622:INFO:Cell 0 is classified as Oligo.4 with prob 0.36835909\n"
     ]
    },
    {
     "name": "stdout",
     "output_type": "stream",
     "text": [
      "time in geneCount:  0.01501154899597168\n"
     ]
    },
    {
     "name": "stderr",
     "output_type": "stream",
     "text": [
      "2021-01-14 00:38:29,624:INFO:cell ---> cell class probabilities updated\n",
      "2021-01-14 00:38:29,665:INFO:spot to cell\n",
      "2021-01-14 00:38:30,014:INFO:spot ---> cell probabilities updated\n",
      "2021-01-14 00:38:30,027:INFO:update gamma\n",
      "2021-01-14 00:38:30,110:INFO:Iteration 1, mean prob change 0.794103\n",
      "2021-01-14 00:38:30,111:INFO:calc expected gamma\n"
     ]
    },
    {
     "name": "stdout",
     "output_type": "stream",
     "text": [
      "in loglik\n",
      "time in geneCount:  0.016001224517822266\n"
     ]
    },
    {
     "name": "stderr",
     "output_type": "stream",
     "text": [
      "2021-01-14 00:38:30,641:INFO:cell to cell type\n",
      "2021-01-14 00:38:31,177:INFO:Cell 0 is classified as Oligo.4 with prob 0.38899154\n",
      "2021-01-14 00:38:31,178:INFO:cell ---> cell class probabilities updated\n"
     ]
    },
    {
     "name": "stdout",
     "output_type": "stream",
     "text": [
      "time in geneCount:  0.026000499725341797\n"
     ]
    },
    {
     "name": "stderr",
     "output_type": "stream",
     "text": [
      "2021-01-14 00:38:31,233:INFO:spot to cell\n",
      "2021-01-14 00:38:31,522:INFO:spot ---> cell probabilities updated\n",
      "2021-01-14 00:38:31,534:INFO:update gamma\n",
      "2021-01-14 00:38:31,606:INFO:Iteration 2, mean prob change 0.465455\n",
      "2021-01-14 00:38:31,607:INFO:calc expected gamma\n"
     ]
    },
    {
     "name": "stdout",
     "output_type": "stream",
     "text": [
      "in loglik\n",
      "time in geneCount:  0.016000986099243164\n"
     ]
    },
    {
     "name": "stderr",
     "output_type": "stream",
     "text": [
      "2021-01-14 00:38:32,085:INFO:cell to cell type\n",
      "2021-01-14 00:38:32,614:INFO:Cell 0 is classified as Oligo.4 with prob 0.39109378\n",
      "2021-01-14 00:38:32,615:INFO:cell ---> cell class probabilities updated\n",
      "2021-01-14 00:38:32,650:INFO:spot to cell\n"
     ]
    },
    {
     "name": "stdout",
     "output_type": "stream",
     "text": [
      "time in geneCount:  0.017998456954956055\n"
     ]
    },
    {
     "name": "stderr",
     "output_type": "stream",
     "text": [
      "2021-01-14 00:38:32,942:INFO:spot ---> cell probabilities updated\n",
      "2021-01-14 00:38:32,954:INFO:update gamma\n",
      "2021-01-14 00:38:33,062:INFO:Iteration 3, mean prob change 0.271387\n",
      "2021-01-14 00:38:33,063:INFO:calc expected gamma\n"
     ]
    },
    {
     "name": "stdout",
     "output_type": "stream",
     "text": [
      "in loglik\n",
      "time in geneCount:  0.018999099731445312\n"
     ]
    },
    {
     "name": "stderr",
     "output_type": "stream",
     "text": [
      "2021-01-14 00:38:33,565:INFO:cell to cell type\n"
     ]
    },
    {
     "name": "stdout",
     "output_type": "stream",
     "text": [
      "time in geneCount:  0.03100895881652832\n"
     ]
    },
    {
     "name": "stderr",
     "output_type": "stream",
     "text": [
      "2021-01-14 00:38:34,215:INFO:Cell 0 is classified as Oligo.4 with prob 0.39138324\n",
      "2021-01-14 00:38:34,215:INFO:cell ---> cell class probabilities updated\n",
      "2021-01-14 00:38:34,253:INFO:spot to cell\n",
      "2021-01-14 00:38:34,570:INFO:spot ---> cell probabilities updated\n",
      "2021-01-14 00:38:34,584:INFO:update gamma\n",
      "2021-01-14 00:38:34,660:INFO:Iteration 4, mean prob change 0.226487\n",
      "2021-01-14 00:38:34,662:INFO:calc expected gamma\n"
     ]
    },
    {
     "name": "stdout",
     "output_type": "stream",
     "text": [
      "in loglik\n",
      "time in geneCount:  0.014998435974121094\n"
     ]
    },
    {
     "name": "stderr",
     "output_type": "stream",
     "text": [
      "2021-01-14 00:38:35,127:INFO:cell to cell type\n",
      "2021-01-14 00:38:35,632:INFO:Cell 0 is classified as Oligo.4 with prob 0.39141872\n",
      "2021-01-14 00:38:35,633:INFO:cell ---> cell class probabilities updated\n",
      "2021-01-14 00:38:35,666:INFO:spot to cell\n"
     ]
    },
    {
     "name": "stdout",
     "output_type": "stream",
     "text": [
      "time in geneCount:  0.016000986099243164\n"
     ]
    },
    {
     "name": "stderr",
     "output_type": "stream",
     "text": [
      "2021-01-14 00:38:35,951:INFO:spot ---> cell probabilities updated\n",
      "2021-01-14 00:38:35,964:INFO:update gamma\n",
      "2021-01-14 00:38:36,024:INFO:Iteration 5, mean prob change 0.253105\n",
      "2021-01-14 00:38:36,025:INFO:calc expected gamma\n"
     ]
    },
    {
     "name": "stdout",
     "output_type": "stream",
     "text": [
      "in loglik\n",
      "time in geneCount:  0.014971017837524414\n"
     ]
    },
    {
     "name": "stderr",
     "output_type": "stream",
     "text": [
      "2021-01-14 00:38:36,494:INFO:cell to cell type\n",
      "2021-01-14 00:38:37,016:INFO:Cell 0 is classified as Oligo.4 with prob 0.39139779\n",
      "2021-01-14 00:38:37,017:INFO:cell ---> cell class probabilities updated\n",
      "2021-01-14 00:38:37,049:INFO:spot to cell\n"
     ]
    },
    {
     "name": "stdout",
     "output_type": "stream",
     "text": [
      "time in geneCount:  0.01600027084350586\n"
     ]
    },
    {
     "name": "stderr",
     "output_type": "stream",
     "text": [
      "2021-01-14 00:38:37,369:INFO:spot ---> cell probabilities updated\n",
      "2021-01-14 00:38:37,380:INFO:update gamma\n",
      "2021-01-14 00:38:37,440:INFO:Iteration 6, mean prob change 0.165510\n",
      "2021-01-14 00:38:37,441:INFO:calc expected gamma\n"
     ]
    },
    {
     "name": "stdout",
     "output_type": "stream",
     "text": [
      "in loglik\n",
      "time in geneCount:  0.014999628067016602\n"
     ]
    },
    {
     "name": "stderr",
     "output_type": "stream",
     "text": [
      "2021-01-14 00:38:37,916:INFO:cell to cell type\n",
      "2021-01-14 00:38:38,407:INFO:Cell 0 is classified as Oligo.4 with prob 0.39136930\n",
      "2021-01-14 00:38:38,408:INFO:cell ---> cell class probabilities updated\n",
      "2021-01-14 00:38:38,440:INFO:spot to cell\n"
     ]
    },
    {
     "name": "stdout",
     "output_type": "stream",
     "text": [
      "time in geneCount:  0.015000104904174805\n"
     ]
    },
    {
     "name": "stderr",
     "output_type": "stream",
     "text": [
      "2021-01-14 00:38:38,719:INFO:spot ---> cell probabilities updated\n",
      "2021-01-14 00:38:38,731:INFO:update gamma\n",
      "2021-01-14 00:38:38,789:INFO:Iteration 7, mean prob change 0.109568\n",
      "2021-01-14 00:38:38,790:INFO:calc expected gamma\n"
     ]
    },
    {
     "name": "stdout",
     "output_type": "stream",
     "text": [
      "in loglik\n",
      "time in geneCount:  0.01500701904296875\n"
     ]
    },
    {
     "name": "stderr",
     "output_type": "stream",
     "text": [
      "2021-01-14 00:38:39,253:INFO:cell to cell type\n"
     ]
    }
   ],
   "source": [
    "cellData, geneData = pciSeq.app(iss_spots, coo, scRNAseq)"
   ]
  },
  {
   "cell_type": "code",
   "execution_count": null,
   "metadata": {},
   "outputs": [],
   "source": [
    "geneData.head()"
   ]
  },
  {
   "cell_type": "code",
   "execution_count": null,
   "metadata": {},
   "outputs": [],
   "source": [
    "cellData.head()"
   ]
  },
  {
   "cell_type": "code",
   "execution_count": null,
   "metadata": {},
   "outputs": [],
   "source": []
  }
 ],
 "metadata": {
  "kernelspec": {
   "display_name": "Python 3",
   "language": "python",
   "name": "python3"
  },
  "language_info": {
   "codemirror_mode": {
    "name": "ipython",
    "version": 3
   },
   "file_extension": ".py",
   "mimetype": "text/x-python",
   "name": "python",
   "nbconvert_exporter": "python",
   "pygments_lexer": "ipython3",
   "version": "3.9.1"
  }
 },
 "nbformat": 4,
 "nbformat_minor": 4
}
